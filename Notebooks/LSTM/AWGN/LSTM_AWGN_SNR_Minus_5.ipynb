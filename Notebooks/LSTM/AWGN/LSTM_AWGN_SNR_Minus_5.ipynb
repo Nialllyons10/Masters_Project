{
 "cells": [
  {
   "cell_type": "code",
   "execution_count": 9,
   "metadata": {},
   "outputs": [],
   "source": [
    "import numpy as np\n",
    "import pandas as pd\n",
    "import tensorflow as tf\n",
    "from tensorflow import keras\n",
    "from tensorflow.keras.models import Sequential, model_from_json\n",
    "from tensorflow.keras.preprocessing import sequence\n",
    "from tensorflow.keras.optimizers import SGD\n",
    "from tensorflow.keras.callbacks import ReduceLROnPlateau \n",
    "from tensorflow.keras.layers import Dense, Dropout, LSTM,Conv1D, TimeDistributed, Flatten, SpatialDropout1D, GlobalAveragePooling1D, SimpleRNN, MaxPooling1D, GlobalMaxPooling1D, Bidirectional\n",
    "from sklearn.model_selection import train_test_split\n",
    "from sklearn.metrics import roc_curve, f1_score, recall_score, accuracy_score, roc_auc_score, confusion_matrix, precision_score, classification_report\n",
    "from numpy import sqrt\n",
    "from numpy import argmax\n",
    "from matplotlib import pyplot as plt\n",
    "from sklearn.utils import shuffle\n",
    "import seaborn as sns\n",
    "from numpy import genfromtxt"
   ]
  },
  {
   "cell_type": "code",
   "execution_count": 10,
   "metadata": {},
   "outputs": [],
   "source": [
    "def get_data():\n",
    "    input_file = '/Users/niall/Documents/Cypress_Code/Data/AWGN/noise_data_awgn_snr_minusfive_final_large_big_new1.csv'\n",
    "    my_data_flipped = genfromtxt(input_file, delimiter=',')\n",
    "\n",
    "    new_data = np.delete(my_data_flipped, (0), axis=0)\n",
    "    X2 = np.delete(new_data, (0,32), axis=1)\n",
    "    Y2 = new_data[:,32]\n",
    "    X_train, X_test, y_train, y_test = train_test_split(X2, Y2, test_size=0.25, random_state=42, shuffle=True)\n",
    "    X_train = np.array(X_train).reshape((np.shape(X_train)[0], 1, np.shape(X_train)[1]))\n",
    "    X_test = np.array(X_test).reshape((np.shape(X_test)[0], 1, np.shape(X_test)[1]))\n",
    "\n",
    "    return X_train, X_test, y_train, y_test"
   ]
  },
  {
   "cell_type": "code",
   "execution_count": 11,
   "metadata": {},
   "outputs": [],
   "source": [
    "flip_bit_data = get_data()"
   ]
  },
  {
   "cell_type": "code",
   "execution_count": 12,
   "metadata": {},
   "outputs": [],
   "source": [
    "X_train = flip_bit_data[0]\n",
    "X_test = flip_bit_data[1]\n",
    "y_train = flip_bit_data[2]\n",
    "y_test = flip_bit_data[3]"
   ]
  },
  {
   "cell_type": "code",
   "execution_count": 5,
   "metadata": {},
   "outputs": [
    {
     "data": {
      "text/plain": [
       "(230000, 1, 31)"
      ]
     },
     "execution_count": 5,
     "metadata": {},
     "output_type": "execute_result"
    }
   ],
   "source": [
    "X_test.shape"
   ]
  },
  {
   "cell_type": "markdown",
   "metadata": {},
   "source": [
    "# 1. Build LSTM Network"
   ]
  },
  {
   "cell_type": "code",
   "execution_count": 13,
   "metadata": {},
   "outputs": [
    {
     "name": "stdout",
     "output_type": "stream",
     "text": [
      "WARNING:tensorflow:From /Users/niall/opt/anaconda3/envs/DCUML/lib/python3.7/site-packages/tensorflow/python/ops/resource_variable_ops.py:435: colocate_with (from tensorflow.python.framework.ops) is deprecated and will be removed in a future version.\n",
      "Instructions for updating:\n",
      "Colocations handled automatically by placer.\n"
     ]
    }
   ],
   "source": [
    "num_neurons = 31\n",
    "num_features = 31\n",
    "\n",
    "\n",
    "model = Sequential()\n",
    "model.add(LSTM(num_neurons, input_shape=(1, num_features), return_sequences=True))\n",
    "model.add(LSTM(num_neurons, input_shape=(1, num_features), return_sequences=False))\n",
    "model.add(Dense(1, activation='sigmoid'))"
   ]
  },
  {
   "cell_type": "code",
   "execution_count": 14,
   "metadata": {},
   "outputs": [
    {
     "name": "stdout",
     "output_type": "stream",
     "text": [
      "_________________________________________________________________\n",
      "Layer (type)                 Output Shape              Param #   \n",
      "=================================================================\n",
      "lstm (LSTM)                  (None, 1, 31)             7812      \n",
      "_________________________________________________________________\n",
      "lstm_1 (LSTM)                (None, 31)                7812      \n",
      "_________________________________________________________________\n",
      "dense (Dense)                (None, 1)                 32        \n",
      "=================================================================\n",
      "Total params: 15,656\n",
      "Trainable params: 15,656\n",
      "Non-trainable params: 0\n",
      "_________________________________________________________________\n",
      "inputs:  (None, 1, 31)\n",
      "outputs:  (None, 1)\n",
      "actual inputs:  (390000, 1, 31)\n",
      "actual outputs:  (390000,)\n"
     ]
    }
   ],
   "source": [
    "model.summary()\n",
    "\n",
    "print(\"inputs: \" , model.input_shape)\n",
    "print(\"outputs: \", model.output_shape)\n",
    "print(\"actual inputs: \", np.shape(X_train))\n",
    "print(\"actual outputs: \", np.shape(y_train))"
   ]
  },
  {
   "cell_type": "code",
   "execution_count": 15,
   "metadata": {},
   "outputs": [],
   "source": [
    "model.compile(loss='binary_crossentropy', optimizer='adam', metrics=['accuracy'])"
   ]
  },
  {
   "cell_type": "code",
   "execution_count": 16,
   "metadata": {},
   "outputs": [
    {
     "name": "stdout",
     "output_type": "stream",
     "text": [
      "Training LSTM...\n",
      "Train on 390000 samples, validate on 130000 samples\n",
      "WARNING:tensorflow:From /Users/niall/opt/anaconda3/envs/DCUML/lib/python3.7/site-packages/tensorflow/python/ops/math_ops.py:3066: to_int32 (from tensorflow.python.ops.math_ops) is deprecated and will be removed in a future version.\n",
      "Instructions for updating:\n",
      "Use tf.cast instead.\n",
      "Epoch 1/5\n",
      "390000/390000 [==============================] - 305s 781us/sample - loss: 0.1445 - acc: 0.9440 - val_loss: 0.1378 - val_acc: 0.9462\n",
      "Epoch 2/5\n",
      "390000/390000 [==============================] - 295s 757us/sample - loss: 0.1383 - acc: 0.9465 - val_loss: 0.1413 - val_acc: 0.9451\n",
      "Epoch 3/5\n",
      "390000/390000 [==============================] - 319s 817us/sample - loss: 0.1360 - acc: 0.9471 - val_loss: 0.1393 - val_acc: 0.9463\n",
      "Epoch 4/5\n",
      "390000/390000 [==============================] - 345s 886us/sample - loss: 0.1345 - acc: 0.9479 - val_loss: 0.1402 - val_acc: 0.9450\n",
      "Epoch 5/5\n",
      "390000/390000 [==============================] - 441s 1ms/sample - loss: 0.1334 - acc: 0.9486 - val_loss: 0.1368 - val_acc: 0.9464\n",
      "130000/130000 [==============================] - 39s 304us/sample - loss: 0.1368 - acc: 0.9464 - loss: 0.1364 - - ETA: 1\n"
     ]
    }
   ],
   "source": [
    "print('Training LSTM...')\n",
    "\n",
    "batch_size = 5\n",
    "\n",
    "history = model.fit(X_train, y_train,\n",
    "          batch_size=batch_size,\n",
    "          epochs=5,\n",
    "          validation_data=(X_test, y_test))\n",
    "\n",
    "score, acc = model.evaluate(X_test, y_test, batch_size=batch_size)"
   ]
  },
  {
   "cell_type": "code",
   "execution_count": 17,
   "metadata": {},
   "outputs": [
    {
     "name": "stdout",
     "output_type": "stream",
     "text": [
      "score: 0.1368397083139414\n",
      "accuracy: 0.94636154\n"
     ]
    }
   ],
   "source": [
    "print('score:', score)\n",
    "print('accuracy:', acc)"
   ]
  },
  {
   "cell_type": "code",
   "execution_count": 18,
   "metadata": {},
   "outputs": [
    {
     "data": {
      "image/png": "[encoded data removed]",
      "text/plain": [
       "<Figure size 432x288 with 1 Axes>"
      ]
     },
     "metadata": {
      "needs_background": "light"
     },
     "output_type": "display_data"
    },
    {
     "data": {
      "image/png": "[encoded data removed]",
      "text/plain": [
       "<Figure size 432x288 with 1 Axes>"
      ]
     },
     "metadata": {
      "needs_background": "light"
     },
     "output_type": "display_data"
    }
   ],
   "source": [
    "plt.plot(history.history['acc'])\n",
    "plt.plot(history.history['val_acc'])\n",
    "plt.title('Model Accuracy')\n",
    "plt.ylabel('accuracy')\n",
    "plt.xlabel('epoch')\n",
    "plt.legend(['train', 'test'], loc='upper left')\n",
    "plt.show()\n",
    "\n",
    "plt.plot(history.history['loss'])\n",
    "plt.plot(history.history['val_loss'])\n",
    "plt.title('Model train vs validation loss')\n",
    "plt.ylabel('loss')\n",
    "plt.xlabel('epoch')\n",
    "plt.legend(['train', 'validation'], loc='upper right')\n",
    "plt.show()"
   ]
  },
  {
   "cell_type": "code",
   "execution_count": 20,
   "metadata": {},
   "outputs": [
    {
     "name": "stdout",
     "output_type": "stream",
     "text": [
      "Saved model to disc\n"
     ]
    }
   ],
   "source": [
    "# Let's save the model to disc\n",
    "json = model.to_json()\n",
    "with open(\"/Users/niall/Documents/Cypress_Code/Models/LSTM/AWGN_Models/model_one_snr_minus5.json\", \"w\") as file:\n",
    "    file.write(json)\n",
    "model.save_weights(\"/Users/niall/Documents/Cypress_Code/Models/LSTM/AWGN_Models/model_one_snr_minus5.h5\")\n",
    "print(\"Saved model to disc\")"
   ]
  },
  {
   "cell_type": "code",
   "execution_count": 13,
   "metadata": {},
   "outputs": [],
   "source": [
    "# Load the model of interest\n",
    "json_file = open('/Users/niall/Documents/Cypress_Code/Models/LSTM/AWGN_Models/model_one_snr_minus5.json', 'r')\n",
    "json = json_file.read()\n",
    "json_file.close()\n",
    "model_one_from_disc = model_from_json(json)\n",
    "model_one_from_disc.load_weights(\"/Users/niall/Documents/Cypress_Code/Models/LSTM/AWGN_Models/model_one_snr_minus5.h5\")"
   ]
  },
  {
   "cell_type": "code",
   "execution_count": 6,
   "metadata": {},
   "outputs": [
    {
     "name": "stdout",
     "output_type": "stream",
     "text": [
      "230000/230000 [==============================] - 358s 2ms/sample\n"
     ]
    }
   ],
   "source": [
    "y_pred_from_disk = model_one_from_disc.predict(X_test, batch_size=1, verbose=1)"
   ]
  },
  {
   "cell_type": "code",
   "execution_count": 23,
   "metadata": {},
   "outputs": [],
   "source": [
    "pred = pd.DataFrame(y_pred_from_disk, columns =['Y_pred']) \n",
    "pred['Label'] = y_test"
   ]
  },
  {
   "cell_type": "code",
   "execution_count": 24,
   "metadata": {},
   "outputs": [],
   "source": [
    "pred.to_csv('/Users/niall/Documents/Cypress_Code/Predictions/LSTM/AWGN/model_one_snr_minus5.csv', index = False)"
   ]
  },
  {
   "cell_type": "code",
   "execution_count": 7,
   "metadata": {},
   "outputs": [
    {
     "name": "stdout",
     "output_type": "stream",
     "text": [
      "Best Threshold=0.469592, G-Mean=0.948\n"
     ]
    }
   ],
   "source": [
    "yhat = model_one_from_disc.predict_proba(X_test)\n",
    "fpr, tpr, thresholds = roc_curve(y_test, yhat)\n",
    "gmeans = sqrt(tpr * (1-fpr))\n",
    "ix = argmax(gmeans)\n",
    "print('Best Threshold=%f, G-Mean=%.3f' % (thresholds[ix], gmeans[ix]))"
   ]
  },
  {
   "cell_type": "code",
   "execution_count": 8,
   "metadata": {},
   "outputs": [
    {
     "data": {
      "image/png": "[encoded data removed]",
      "text/plain": [
       "<Figure size 432x288 with 1 Axes>"
      ]
     },
     "metadata": {
      "needs_background": "light"
     },
     "output_type": "display_data"
    }
   ],
   "source": [
    "# plot the roc curve for the model\n",
    "plt.plot([0,1], [0,1], linestyle='--', label='Baseline')\n",
    "plt.plot(fpr, tpr, marker='.', label='LSTM')\n",
    "plt.scatter(fpr[ix], tpr[ix], marker='o', color='black', label='Best')\n",
    "# axis labels\n",
    "plt.xlabel('False Positive Rate')\n",
    "plt.ylabel('True Positive Rate')\n",
    "plt.legend()\n",
    "# show the plot\n",
    "plt.savefig('/Users/niall/Documents/Cypress_Code/Plots/Matlab_awgn/LSTM_ROC.jpg')\n",
    "plt.show()"
   ]
  },
  {
   "cell_type": "code",
   "execution_count": 9,
   "metadata": {},
   "outputs": [
    {
     "name": "stdout",
     "output_type": "stream",
     "text": [
      "ROC AUC=0.989\n"
     ]
    }
   ],
   "source": [
    "auc = roc_auc_score(y_test, yhat)\n",
    "print('ROC AUC=%.3f' % (auc))"
   ]
  },
  {
   "cell_type": "code",
   "execution_count": 14,
   "metadata": {},
   "outputs": [
    {
     "name": "stdout",
     "output_type": "stream",
     "text": [
      "F1-score:  0.9462064053771337\n",
      "Precision:  0.9452092559984347\n",
      "Recall:  0.947205660864993\n",
      "Acuracy:  0.9474565217391304\n",
      "--------------------------------------------------\n",
      "              precision    recall  f1-score   support\n",
      "\n",
      "           0       0.95      0.95      0.95    117791\n",
      "           1       0.95      0.95      0.95    112209\n",
      "\n",
      "    accuracy                           0.95    230000\n",
      "   macro avg       0.95      0.95      0.95    230000\n",
      "weighted avg       0.95      0.95      0.95    230000\n",
      "\n"
     ]
    }
   ],
   "source": [
    "def metrics(pred_tag, y_test):\n",
    "    print(\"F1-score: \", f1_score(pred_tag, y_test))\n",
    "    print(\"Precision: \", precision_score(pred_tag, y_test))\n",
    "    print(\"Recall: \", recall_score(pred_tag, y_test))\n",
    "    print(\"Acuracy: \", accuracy_score(pred_tag, y_test))\n",
    "    print(\"-\"*50)\n",
    "    print(classification_report(pred_tag, y_test))\n",
    "    \n",
    "preds_new = model_one_from_disc.predict_classes(X_test)\n",
    "metrics(preds_new, y_test)"
   ]
  },
  {
   "cell_type": "code",
   "execution_count": null,
   "metadata": {},
   "outputs": [],
   "source": []
  }
 ],
 "metadata": {
  "kernelspec": {
   "display_name": "DCUML",
   "language": "python",
   "name": "dcuml"
  },
  "language_info": {
   "codemirror_mode": {
    "name": "ipython",
    "version": 3
   },
   "file_extension": ".py",
   "mimetype": "text/x-python",
   "name": "python",
   "nbconvert_exporter": "python",
   "pygments_lexer": "ipython3",
   "version": "3.7.7"
  }
 },
 "nbformat": 4,
 "nbformat_minor": 4
}
