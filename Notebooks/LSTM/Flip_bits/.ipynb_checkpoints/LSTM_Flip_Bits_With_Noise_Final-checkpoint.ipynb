{
 "cells": [
  {
   "cell_type": "code",
   "execution_count": 1,
   "metadata": {},
   "outputs": [
    {
     "name": "stderr",
     "output_type": "stream",
     "text": [
      "/Users/niall/opt/anaconda3/envs/DCUML/lib/python3.7/site-packages/tensorflow/python/framework/dtypes.py:526: FutureWarning: Passing (type, 1) or '1type' as a synonym of type is deprecated; in a future version of numpy, it will be understood as (type, (1,)) / '(1,)type'.\n",
      "  _np_qint8 = np.dtype([(\"qint8\", np.int8, 1)])\n",
      "/Users/niall/opt/anaconda3/envs/DCUML/lib/python3.7/site-packages/tensorflow/python/framework/dtypes.py:527: FutureWarning: Passing (type, 1) or '1type' as a synonym of type is deprecated; in a future version of numpy, it will be understood as (type, (1,)) / '(1,)type'.\n",
      "  _np_quint8 = np.dtype([(\"quint8\", np.uint8, 1)])\n",
      "/Users/niall/opt/anaconda3/envs/DCUML/lib/python3.7/site-packages/tensorflow/python/framework/dtypes.py:528: FutureWarning: Passing (type, 1) or '1type' as a synonym of type is deprecated; in a future version of numpy, it will be understood as (type, (1,)) / '(1,)type'.\n",
      "  _np_qint16 = np.dtype([(\"qint16\", np.int16, 1)])\n",
      "/Users/niall/opt/anaconda3/envs/DCUML/lib/python3.7/site-packages/tensorflow/python/framework/dtypes.py:529: FutureWarning: Passing (type, 1) or '1type' as a synonym of type is deprecated; in a future version of numpy, it will be understood as (type, (1,)) / '(1,)type'.\n",
      "  _np_quint16 = np.dtype([(\"quint16\", np.uint16, 1)])\n",
      "/Users/niall/opt/anaconda3/envs/DCUML/lib/python3.7/site-packages/tensorflow/python/framework/dtypes.py:530: FutureWarning: Passing (type, 1) or '1type' as a synonym of type is deprecated; in a future version of numpy, it will be understood as (type, (1,)) / '(1,)type'.\n",
      "  _np_qint32 = np.dtype([(\"qint32\", np.int32, 1)])\n",
      "/Users/niall/opt/anaconda3/envs/DCUML/lib/python3.7/site-packages/tensorflow/python/framework/dtypes.py:535: FutureWarning: Passing (type, 1) or '1type' as a synonym of type is deprecated; in a future version of numpy, it will be understood as (type, (1,)) / '(1,)type'.\n",
      "  np_resource = np.dtype([(\"resource\", np.ubyte, 1)])\n"
     ]
    }
   ],
   "source": [
    "import numpy as np\n",
    "import pandas as pd\n",
    "import tensorflow as tf\n",
    "from tensorflow import keras\n",
    "from tensorflow.keras.models import Sequential\n",
    "from tensorflow.keras.layers import Dense, Dropout, LSTM\n",
    "from tensorflow.keras.preprocessing import sequence\n",
    "from tensorflow.keras.models import model_from_json\n",
    "from tensorflow.keras.layers import Embedding\n",
    "from tensorflow.keras.optimizers import SGD\n",
    "from tensorflow.keras.callbacks import ReduceLROnPlateau \n",
    "from tensorflow.keras.layers import Conv1D, TimeDistributed, Flatten, SpatialDropout1D, GlobalAveragePooling1D\n",
    "from tensorflow.keras.layers import MaxPooling1D, GlobalMaxPooling1D\n",
    "from tensorflow.keras.preprocessing.sequence import pad_sequences\n",
    "from sklearn.model_selection import train_test_split\n",
    "from sklearn.metrics import classification_report\n",
    "from sklearn.metrics import confusion_matrix\n",
    "from sklearn.metrics import roc_curve\n",
    "from sklearn.metrics import roc_auc_score\n",
    "from matplotlib import pyplot as plt\n",
    "from sklearn.utils import shuffle\n",
    "import seaborn as sns"
   ]
  },
  {
   "cell_type": "code",
   "execution_count": 15,
   "metadata": {},
   "outputs": [],
   "source": [
    "from numpy import genfromtxt\n",
    "\n",
    "input_file = input_file = '/Users/niall/Documents/Cypress_Code/Notebooks/flip_bits_dataset_final.csv'\n",
    "\n",
    "my_data_flipped = genfromtxt(input_file, delimiter=',')"
   ]
  },
  {
   "cell_type": "code",
   "execution_count": 16,
   "metadata": {},
   "outputs": [],
   "source": [
    "new_data = np.delete(my_data_flipped, (0), axis=0)"
   ]
  },
  {
   "cell_type": "code",
   "execution_count": 17,
   "metadata": {},
   "outputs": [],
   "source": [
    "X2 = np.delete(new_data, (0,32), axis=1)"
   ]
  },
  {
   "cell_type": "code",
   "execution_count": 18,
   "metadata": {},
   "outputs": [],
   "source": [
    "Y2 = new_data[:,32]"
   ]
  },
  {
   "cell_type": "code",
   "execution_count": 19,
   "metadata": {},
   "outputs": [],
   "source": [
    "X_train, X_test, y_train, y_test = train_test_split(X2, Y2, test_size=0.25, random_state=42)"
   ]
  },
  {
   "cell_type": "code",
   "execution_count": 20,
   "metadata": {},
   "outputs": [],
   "source": [
    "X_train = np.array(X_train).reshape((np.shape(X_train)[0], 1, np.shape(X_train)[1]))\n",
    "X_test = np.array(X_test).reshape((np.shape(X_test)[0], 1, np.shape(X_test)[1]))"
   ]
  },
  {
   "cell_type": "markdown",
   "metadata": {},
   "source": [
    "## 1. Two Layer LSTM"
   ]
  },
  {
   "cell_type": "code",
   "execution_count": 59,
   "metadata": {},
   "outputs": [],
   "source": [
    "num_neurons = 31\n",
    "num_features = 31\n",
    "\n",
    "\n",
    "model = Sequential()\n",
    "model.add(LSTM(num_neurons, input_shape=(1, num_features), return_sequences=True))\n",
    "model.add(LSTM(num_neurons, input_shape=(1, num_features), return_sequences=False))\n",
    "model.add(Dense(1, activation='sigmoid'))"
   ]
  },
  {
   "cell_type": "code",
   "execution_count": 60,
   "metadata": {},
   "outputs": [
    {
     "name": "stdout",
     "output_type": "stream",
     "text": [
      "_________________________________________________________________\n",
      "Layer (type)                 Output Shape              Param #   \n",
      "=================================================================\n",
      "lstm_11 (LSTM)               (None, 1, 31)             7812      \n",
      "_________________________________________________________________\n",
      "lstm_12 (LSTM)               (None, 31)                7812      \n",
      "_________________________________________________________________\n",
      "dense_8 (Dense)              (None, 1)                 32        \n",
      "=================================================================\n",
      "Total params: 15,656\n",
      "Trainable params: 15,656\n",
      "Non-trainable params: 0\n",
      "_________________________________________________________________\n",
      "inputs:  (None, 1, 31)\n",
      "outputs:  (None, 1)\n",
      "actual inputs:  (450000, 1, 31)\n",
      "actual outputs:  (450000,)\n"
     ]
    }
   ],
   "source": [
    "model.summary()\n",
    "\n",
    "print(\"inputs: \" , model.input_shape)\n",
    "print(\"outputs: \", model.output_shape)\n",
    "print(\"actual inputs: \", np.shape(X_train))\n",
    "print(\"actual outputs: \", np.shape(y_train))"
   ]
  },
  {
   "cell_type": "code",
   "execution_count": 61,
   "metadata": {},
   "outputs": [],
   "source": [
    "model.compile(loss='binary_crossentropy', optimizer='adam', metrics=['accuracy'])"
   ]
  },
  {
   "cell_type": "code",
   "execution_count": 62,
   "metadata": {},
   "outputs": [
    {
     "name": "stdout",
     "output_type": "stream",
     "text": [
      "Training LSTM...\n",
      "Train on 450000 samples, validate on 150000 samples\n",
      "Epoch 1/5\n",
      "450000/450000 [==============================] - 670s 1ms/sample - loss: 0.0389 - acc: 0.9864 - val_loss: 0.0392 - val_acc: 0.9856\n",
      "Epoch 2/5\n",
      "450000/450000 [==============================] - 625s 1ms/sample - loss: 0.0348 - acc: 0.9876 - val_loss: 0.0349 - val_acc: 0.9875\n",
      "Epoch 3/5\n",
      "450000/450000 [==============================] - 569s 1ms/sample - loss: 0.0337 - acc: 0.9878 - val_loss: 0.0351 - val_acc: 0.9875\n",
      "Epoch 4/5\n",
      "450000/450000 [==============================] - 572s 1ms/sample - loss: 0.0331 - acc: 0.9881 - val_loss: 0.0344 - val_acc: 0.9875\n",
      "Epoch 5/5\n",
      "450000/450000 [==============================] - 574s 1ms/sample - loss: 0.0327 - acc: 0.9881 - val_loss: 0.0344 - val_acc: 0.9880\n"
     ]
    }
   ],
   "source": [
    "print('Training LSTM...')\n",
    "\n",
    "batch_size = 5\n",
    "\n",
    "history_two_layer = model.fit(X_train, y_train,\n",
    "                    batch_size=batch_size,\n",
    "                    epochs=5,\n",
    "                    validation_data=(X_test, y_test))"
   ]
  },
  {
   "cell_type": "code",
   "execution_count": 63,
   "metadata": {},
   "outputs": [
    {
     "name": "stdout",
     "output_type": "stream",
     "text": [
      "150000/150000 [==============================] - 8s 54us/sample - loss: 0.0344 - acc: 0.9880\n",
      "Test Loss:  0.03440156640297268\n",
      "Test Accuracy 0.9879533\n",
      "dict_keys(['loss', 'acc', 'val_loss', 'val_acc'])\n"
     ]
    },
    {
     "data": {
      "image/png": "[encoded data removed]",
      "text/plain": [
       "<Figure size 432x288 with 1 Axes>"
      ]
     },
     "metadata": {
      "needs_background": "light"
     },
     "output_type": "display_data"
    },
    {
     "data": {
      "image/png": "[encoded data removed]",
      "text/plain": [
       "<Figure size 432x288 with 1 Axes>"
      ]
     },
     "metadata": {
      "needs_background": "light"
     },
     "output_type": "display_data"
    }
   ],
   "source": [
    "score = model.evaluate(X_test, y_test)\n",
    "print('Test Loss: ', score[0])\n",
    "print('Test Accuracy', score[1])\n",
    "\n",
    "\n",
    "# list all data in history\n",
    "print(history_two_layer.history.keys())\n",
    "# summarize history for accuracy\n",
    "plt.plot(history_two_layer.history['acc'])\n",
    "plt.plot(history_two_layer.history['val_acc'])\n",
    "plt.title('Model Accuracy')\n",
    "plt.ylabel('accuracy')\n",
    "plt.xlabel('epoch')\n",
    "plt.legend(['train', 'test'], loc='upper left')\n",
    "plt.show()\n",
    "# summarize history for loss\n",
    "plt.plot(history_two_layer.history['loss'])\n",
    "plt.plot(history_two_layer.history['val_loss'])\n",
    "plt.title('Model Loss')\n",
    "plt.ylabel('loss')\n",
    "plt.xlabel('epoch')\n",
    "plt.legend(['train', 'test'], loc='upper left')\n",
    "plt.show()"
   ]
  },
  {
   "cell_type": "code",
   "execution_count": 64,
   "metadata": {},
   "outputs": [
    {
     "name": "stdout",
     "output_type": "stream",
     "text": [
      "Saved model to disc\n"
     ]
    }
   ],
   "source": [
    "# Let's save the model to disc\n",
    "json = model.to_json()\n",
    "with open(\"/Users/niall/Documents/Cypress_Code/Models/Flip_bit_models/model_two_layer.json\", \"w\") as file:\n",
    "    file.write(json)\n",
    "model.save_weights(\"/Users/niall/Documents/Cypress_Code/Models/Flip_bit_models/model_two_layer.h5\")\n",
    "print(\"Saved model to disc\")"
   ]
  },
  {
   "cell_type": "code",
   "execution_count": 65,
   "metadata": {},
   "outputs": [],
   "source": [
    "# Load the model of interest\n",
    "json_file = open('/Users/niall/Documents/Cypress_Code/Models/Flip_bit_models/model_two_layer.json', 'r')\n",
    "json = json_file.read()\n",
    "json_file.close()\n",
    "model_avg_from_disc = model_from_json(json)\n",
    "model_avg_from_disc.load_weights(\"/Users/niall/Documents/Cypress_Code/Models/Flip_bit_models/model_two_layer.h5\")"
   ]
  },
  {
   "cell_type": "markdown",
   "metadata": {},
   "source": [
    "# Predictions on test data"
   ]
  },
  {
   "cell_type": "code",
   "execution_count": 66,
   "metadata": {},
   "outputs": [],
   "source": [
    "y_preds_two_layer = model_avg_from_disc.predict(X_test, batch_size=1)"
   ]
  },
  {
   "cell_type": "markdown",
   "metadata": {},
   "source": [
    "## REF REF Label"
   ]
  },
  {
   "cell_type": "code",
   "execution_count": 67,
   "metadata": {},
   "outputs": [],
   "source": [
    "pred_df = pd.DataFrame(y_preds_two_layer, columns =['Y_pred']) \n",
    "pred_df['Label'] = y_test"
   ]
  },
  {
   "cell_type": "code",
   "execution_count": 68,
   "metadata": {},
   "outputs": [],
   "source": [
    "pred_df.to_csv('/Users/niall/Documents/Cypress_Code/Predictions/Flip_bits/y_preds_two_layer.csv', index = False)"
   ]
  },
  {
   "cell_type": "code",
   "execution_count": 108,
   "metadata": {},
   "outputs": [
    {
     "data": {
      "text/html": [
       "<div>\n",
       "<style scoped>\n",
       "    .dataframe tbody tr th:only-of-type {\n",
       "        vertical-align: middle;\n",
       "    }\n",
       "\n",
       "    .dataframe tbody tr th {\n",
       "        vertical-align: top;\n",
       "    }\n",
       "\n",
       "    .dataframe thead th {\n",
       "        text-align: right;\n",
       "    }\n",
       "</style>\n",
       "<table border=\"1\" class=\"dataframe\">\n",
       "  <thead>\n",
       "    <tr style=\"text-align: right;\">\n",
       "      <th></th>\n",
       "      <th>Y_pred</th>\n",
       "      <th>Label</th>\n",
       "    </tr>\n",
       "  </thead>\n",
       "  <tbody>\n",
       "    <tr>\n",
       "      <th>0</th>\n",
       "      <td>0.999768</td>\n",
       "      <td>1.0</td>\n",
       "    </tr>\n",
       "    <tr>\n",
       "      <th>1</th>\n",
       "      <td>0.999392</td>\n",
       "      <td>1.0</td>\n",
       "    </tr>\n",
       "    <tr>\n",
       "      <th>2</th>\n",
       "      <td>0.999965</td>\n",
       "      <td>1.0</td>\n",
       "    </tr>\n",
       "    <tr>\n",
       "      <th>3</th>\n",
       "      <td>0.999946</td>\n",
       "      <td>1.0</td>\n",
       "    </tr>\n",
       "    <tr>\n",
       "      <th>6</th>\n",
       "      <td>0.997597</td>\n",
       "      <td>1.0</td>\n",
       "    </tr>\n",
       "  </tbody>\n",
       "</table>\n",
       "</div>"
      ],
      "text/plain": [
       "     Y_pred  Label\n",
       "0  0.999768    1.0\n",
       "1  0.999392    1.0\n",
       "2  0.999965    1.0\n",
       "3  0.999946    1.0\n",
       "6  0.997597    1.0"
      ]
     },
     "execution_count": 108,
     "metadata": {},
     "output_type": "execute_result"
    }
   ],
   "source": [
    "y_pred_ref_ref = pred_df[pred_df['Label'] == 1]\n",
    "y_pred_ref_ref.head()"
   ]
  },
  {
   "cell_type": "code",
   "execution_count": 49,
   "metadata": {},
   "outputs": [
    {
     "data": {
      "text/html": [
       "<div>\n",
       "<style scoped>\n",
       "    .dataframe tbody tr th:only-of-type {\n",
       "        vertical-align: middle;\n",
       "    }\n",
       "\n",
       "    .dataframe tbody tr th {\n",
       "        vertical-align: top;\n",
       "    }\n",
       "\n",
       "    .dataframe thead th {\n",
       "        text-align: right;\n",
       "    }\n",
       "</style>\n",
       "<table border=\"1\" class=\"dataframe\">\n",
       "  <thead>\n",
       "    <tr style=\"text-align: right;\">\n",
       "      <th></th>\n",
       "      <th>Y_pred</th>\n",
       "      <th>Label</th>\n",
       "    </tr>\n",
       "  </thead>\n",
       "  <tbody>\n",
       "    <tr>\n",
       "      <th>0</th>\n",
       "      <td>0.000107</td>\n",
       "      <td>0.0</td>\n",
       "    </tr>\n",
       "    <tr>\n",
       "      <th>1</th>\n",
       "      <td>0.020756</td>\n",
       "      <td>0.0</td>\n",
       "    </tr>\n",
       "    <tr>\n",
       "      <th>2</th>\n",
       "      <td>0.000096</td>\n",
       "      <td>0.0</td>\n",
       "    </tr>\n",
       "    <tr>\n",
       "      <th>3</th>\n",
       "      <td>0.000100</td>\n",
       "      <td>0.0</td>\n",
       "    </tr>\n",
       "    <tr>\n",
       "      <th>4</th>\n",
       "      <td>0.000086</td>\n",
       "      <td>0.0</td>\n",
       "    </tr>\n",
       "  </tbody>\n",
       "</table>\n",
       "</div>"
      ],
      "text/plain": [
       "     Y_pred  Label\n",
       "0  0.000107    0.0\n",
       "1  0.020756    0.0\n",
       "2  0.000096    0.0\n",
       "3  0.000100    0.0\n",
       "4  0.000086    0.0"
      ]
     },
     "execution_count": 49,
     "metadata": {},
     "output_type": "execute_result"
    }
   ],
   "source": [
    "y_pred_non_ref = pred_df[pred_df['Label'] == 0]\n",
    "y_pred_non_ref.head()"
   ]
  },
  {
   "cell_type": "markdown",
   "metadata": {},
   "source": [
    "### All Predictions"
   ]
  },
  {
   "cell_type": "code",
   "execution_count": 50,
   "metadata": {},
   "outputs": [
    {
     "data": {
      "text/plain": [
       "Text(0.5, 1.0, 'All y_preds flip_bits')"
      ]
     },
     "execution_count": 50,
     "metadata": {},
     "output_type": "execute_result"
    },
    {
     "data": {
      "image/png": "[encoded data removed]",
      "text/plain": [
       "<Figure size 432x288 with 1 Axes>"
      ]
     },
     "metadata": {
      "needs_background": "light"
     },
     "output_type": "display_data"
    }
   ],
   "source": [
    "plt.hist(y_pred, rwidth=0.9)\n",
    "plt.title('All y_preds flip_bits')"
   ]
  },
  {
   "cell_type": "code",
   "execution_count": 58,
   "metadata": {},
   "outputs": [
    {
     "data": {
      "text/plain": [
       "<matplotlib.axes._subplots.AxesSubplot at 0x7fcbc72e0510>"
      ]
     },
     "execution_count": 58,
     "metadata": {},
     "output_type": "execute_result"
    },
    {
     "data": {
      "image/png": "[encoded data removed]",
      "text/plain": [
       "<Figure size 432x288 with 1 Axes>"
      ]
     },
     "metadata": {
      "needs_background": "light"
     },
     "output_type": "display_data"
    }
   ],
   "source": [
    "sns.distplot(pred_df['Y_pred'], kde=True)"
   ]
  },
  {
   "cell_type": "code",
   "execution_count": 51,
   "metadata": {},
   "outputs": [
    {
     "data": {
      "text/plain": [
       "<matplotlib.axes._subplots.AxesSubplot at 0x7fcbc7207050>"
      ]
     },
     "execution_count": 51,
     "metadata": {},
     "output_type": "execute_result"
    },
    {
     "data": {
      "image/png": "[encoded data removed]",
      "text/plain": [
       "<Figure size 432x288 with 1 Axes>"
      ]
     },
     "metadata": {
      "needs_background": "light"
     },
     "output_type": "display_data"
    }
   ],
   "source": [
    "sns.kdeplot(pred_df['Y_pred'],shade=True)"
   ]
  },
  {
   "cell_type": "markdown",
   "metadata": {},
   "source": [
    "### Ref Ref Predictions"
   ]
  },
  {
   "cell_type": "code",
   "execution_count": 52,
   "metadata": {},
   "outputs": [
    {
     "data": {
      "text/plain": [
       "Text(0.5, 1.0, 'Ref_Ref y_preds flip bits')"
      ]
     },
     "execution_count": 52,
     "metadata": {},
     "output_type": "execute_result"
    },
    {
     "data": {
      "image/png": "[encoded data removed]",
      "text/plain": [
       "<Figure size 432x288 with 1 Axes>"
      ]
     },
     "metadata": {
      "needs_background": "light"
     },
     "output_type": "display_data"
    }
   ],
   "source": [
    "plt.hist(y_pred_ref_ref['Y_pred'], rwidth=0.9)\n",
    "plt.title('Ref_Ref y_preds flip bits')"
   ]
  },
  {
   "cell_type": "code",
   "execution_count": 60,
   "metadata": {},
   "outputs": [
    {
     "data": {
      "text/plain": [
       "<matplotlib.axes._subplots.AxesSubplot at 0x7fcbcc7b3910>"
      ]
     },
     "execution_count": 60,
     "metadata": {},
     "output_type": "execute_result"
    },
    {
     "data": {
      "image/png": "[encoded data removed]",
      "text/plain": [
       "<Figure size 432x288 with 1 Axes>"
      ]
     },
     "metadata": {
      "needs_background": "light"
     },
     "output_type": "display_data"
    }
   ],
   "source": [
    "sns.distplot(y_pred_ref_ref['Y_pred'], kde=True)"
   ]
  },
  {
   "cell_type": "code",
   "execution_count": 53,
   "metadata": {},
   "outputs": [
    {
     "data": {
      "text/plain": [
       "<matplotlib.axes._subplots.AxesSubplot at 0x7fcbc5eda290>"
      ]
     },
     "execution_count": 53,
     "metadata": {},
     "output_type": "execute_result"
    },
    {
     "data": {
      "image/png": "[encoded data removed]",
      "text/plain": [
       "<Figure size 432x288 with 1 Axes>"
      ]
     },
     "metadata": {
      "needs_background": "light"
     },
     "output_type": "display_data"
    }
   ],
   "source": [
    "sns.kdeplot(y_pred_ref_ref['Y_pred'],shade=True)"
   ]
  },
  {
   "cell_type": "markdown",
   "metadata": {},
   "source": [
    "### Non Ref Ref Predictions"
   ]
  },
  {
   "cell_type": "code",
   "execution_count": 54,
   "metadata": {},
   "outputs": [
    {
     "data": {
      "text/plain": [
       "Text(0.5, 1.0, 'Not Ref_Ref y_preds flip_bits')"
      ]
     },
     "execution_count": 54,
     "metadata": {},
     "output_type": "execute_result"
    },
    {
     "data": {
      "image/png": "[encoded data removed]",
      "text/plain": [
       "<Figure size 432x288 with 1 Axes>"
      ]
     },
     "metadata": {
      "needs_background": "light"
     },
     "output_type": "display_data"
    }
   ],
   "source": [
    "plt.hist(y_pred_non_ref['Y_pred'], rwidth=0.9)\n",
    "plt.title('Not Ref_Ref y_preds flip_bits')"
   ]
  },
  {
   "cell_type": "code",
   "execution_count": 61,
   "metadata": {},
   "outputs": [
    {
     "data": {
      "text/plain": [
       "<matplotlib.axes._subplots.AxesSubplot at 0x7fcbccb69590>"
      ]
     },
     "execution_count": 61,
     "metadata": {},
     "output_type": "execute_result"
    },
    {
     "data": {
      "image/png": "[encoded data removed]",
      "text/plain": [
       "<Figure size 432x288 with 1 Axes>"
      ]
     },
     "metadata": {
      "needs_background": "light"
     },
     "output_type": "display_data"
    }
   ],
   "source": [
    "sns.distplot(y_pred_non_ref['Y_pred'], kde=True)"
   ]
  },
  {
   "cell_type": "code",
   "execution_count": 55,
   "metadata": {},
   "outputs": [
    {
     "data": {
      "text/plain": [
       "<matplotlib.axes._subplots.AxesSubplot at 0x7fcbc6f78850>"
      ]
     },
     "execution_count": 55,
     "metadata": {},
     "output_type": "execute_result"
    },
    {
     "data": {
      "image/png": "[encoded data removed]",
      "text/plain": [
       "<Figure size 432x288 with 1 Axes>"
      ]
     },
     "metadata": {
      "needs_background": "light"
     },
     "output_type": "display_data"
    }
   ],
   "source": [
    "sns.kdeplot(y_pred_non_ref['Y_pred'],shade=True)"
   ]
  },
  {
   "cell_type": "markdown",
   "metadata": {},
   "source": [
    "### KDE of both classifications"
   ]
  },
  {
   "cell_type": "code",
   "execution_count": 56,
   "metadata": {},
   "outputs": [
    {
     "data": {
      "text/plain": [
       "<matplotlib.axes._subplots.AxesSubplot at 0x7fcbc7072490>"
      ]
     },
     "execution_count": 56,
     "metadata": {},
     "output_type": "execute_result"
    },
    {
     "data": {
      "image/png": "[encoded data removed]",
      "text/plain": [
       "<Figure size 432x288 with 1 Axes>"
      ]
     },
     "metadata": {
      "needs_background": "light"
     },
     "output_type": "display_data"
    }
   ],
   "source": [
    "ax = sns.kdeplot(y_pred_ref_ref['Y_pred'], label='Ref Ref')\n",
    "sns.kdeplot(y_pred_non_ref['Y_pred'],label='Non Ref Ref', ax=ax)"
   ]
  },
  {
   "cell_type": "markdown",
   "metadata": {},
   "source": [
    "### Metrics"
   ]
  },
  {
   "cell_type": "code",
   "execution_count": 44,
   "metadata": {},
   "outputs": [
    {
     "name": "stdout",
     "output_type": "stream",
     "text": [
      "              precision    recall  f1-score   support\n",
      "\n",
      "         0.0       0.99      1.00      1.00     41274\n",
      "         1.0       0.97      0.78      0.86      1351\n",
      "\n",
      "    accuracy                           0.99     42625\n",
      "   macro avg       0.98      0.89      0.93     42625\n",
      "weighted avg       0.99      0.99      0.99     42625\n",
      "\n",
      "[[41237    37]\n",
      " [  294  1057]]\n"
     ]
    }
   ],
   "source": [
    "# Keep y pred as soft value \n",
    "y_pred[y_pred>0.8] = 1 \n",
    "y_pred[y_pred<=0.8] = 0 \n",
    "\n",
    "print(classification_report(y_test, y_pred))\n",
    "print(confusion_matrix(y_test, y_pred))\n",
    "\n",
    "# 374 / (374 + 977)\n",
    "# 15 / (41259 + 15)"
   ]
  },
  {
   "cell_type": "code",
   "execution_count": 45,
   "metadata": {},
   "outputs": [
    {
     "name": "stdout",
     "output_type": "stream",
     "text": [
      "              precision    recall  f1-score   support\n",
      "\n",
      "         0.0       0.99      1.00      1.00     41274\n",
      "         1.0       0.97      0.78      0.86      1351\n",
      "\n",
      "    accuracy                           0.99     42625\n",
      "   macro avg       0.98      0.89      0.93     42625\n",
      "weighted avg       0.99      0.99      0.99     42625\n",
      "\n",
      "[[41237    37]\n",
      " [  294  1057]]\n"
     ]
    }
   ],
   "source": [
    "y_pred[y_pred>0.5] = 1 \n",
    "y_pred[y_pred<=0.5] = 0 \n",
    "\n",
    "print(classification_report(y_test, y_pred))\n",
    "print(confusion_matrix(y_test, y_pred))"
   ]
  },
  {
   "cell_type": "markdown",
   "metadata": {},
   "source": [
    "# 2. LSTM with GlobalAveragePool"
   ]
  },
  {
   "cell_type": "code",
   "execution_count": 13,
   "metadata": {},
   "outputs": [
    {
     "name": "stdout",
     "output_type": "stream",
     "text": [
      "WARNING:tensorflow:From /Users/niall/opt/anaconda3/envs/DCUML/lib/python3.7/site-packages/tensorflow/python/keras/layers/core.py:143: calling dropout (from tensorflow.python.ops.nn_ops) with keep_prob is deprecated and will be removed in a future version.\n",
      "Instructions for updating:\n",
      "Please use `rate` instead of `keep_prob`. Rate should be set to `rate = 1 - keep_prob`.\n",
      "_________________________________________________________________\n",
      "Layer (type)                 Output Shape              Param #   \n",
      "=================================================================\n",
      "lstm_2 (LSTM)                (None, 1, 31)             7812      \n",
      "_________________________________________________________________\n",
      "spatial_dropout1d_3 (Spatial (None, 1, 31)             0         \n",
      "_________________________________________________________________\n",
      "lstm_3 (LSTM)                (None, 1, 31)             7812      \n",
      "_________________________________________________________________\n",
      "global_average_pooling1d_1 ( (None, 31)                0         \n",
      "_________________________________________________________________\n",
      "dense_2 (Dense)              (None, 16)                512       \n",
      "_________________________________________________________________\n",
      "dropout_1 (Dropout)          (None, 16)                0         \n",
      "_________________________________________________________________\n",
      "dense_3 (Dense)              (None, 1)                 17        \n",
      "=================================================================\n",
      "Total params: 16,153\n",
      "Trainable params: 16,153\n",
      "Non-trainable params: 0\n",
      "_________________________________________________________________\n"
     ]
    }
   ],
   "source": [
    "num_neurons = 31\n",
    "num_features = 31\n",
    "\n",
    "model_lstm_avg = Sequential()\n",
    "model_lstm_avg.add(LSTM(num_neurons, input_shape=(1, num_features), return_sequences=True))\n",
    "model_lstm_avg.add(SpatialDropout1D(0.2))\n",
    "model_lstm_avg.add(LSTM(num_neurons, input_shape=(1, num_features), dropout=0.2, recurrent_dropout=0.2, return_sequences=True),)\n",
    "model_lstm_avg.add(GlobalAveragePooling1D())\n",
    "model_lstm_avg.add(Dense(16, activation='sigmoid'))\n",
    "model_lstm_avg.add(Dropout(0.2))\n",
    "model_lstm_avg.add(Dense(1, activation='sigmoid'))\n",
    "\n",
    "rlrp = ReduceLROnPlateau(monitor='val_loss', factor=0.1, patience=2)\n",
    "model_lstm_avg.compile(loss='binary_crossentropy', optimizer='adam', metrics=['accuracy'])\n",
    "model_lstm_avg.summary()"
   ]
  },
  {
   "cell_type": "code",
   "execution_count": 21,
   "metadata": {},
   "outputs": [
    {
     "name": "stdout",
     "output_type": "stream",
     "text": [
      "Training LSTM...\n",
      "Train on 450000 samples, validate on 150000 samples\n",
      "WARNING:tensorflow:From /Users/niall/opt/anaconda3/envs/DCUML/lib/python3.7/site-packages/tensorflow/python/ops/math_ops.py:3066: to_int32 (from tensorflow.python.ops.math_ops) is deprecated and will be removed in a future version.\n",
      "Instructions for updating:\n",
      "Use tf.cast instead.\n",
      "Epoch 1/5\n",
      "450000/450000 [==============================] - 601s 1ms/sample - loss: 0.0457 - acc: 0.9848 - val_loss: 0.0367 - val_acc: 0.9864\n",
      "Epoch 2/5\n",
      "450000/450000 [==============================] - 534s 1ms/sample - loss: 0.0390 - acc: 0.9869 - val_loss: 0.0357 - val_acc: 0.9874\n",
      "Epoch 3/5\n",
      "450000/450000 [==============================] - 467s 1ms/sample - loss: 0.0381 - acc: 0.9872 - val_loss: 0.0375 - val_acc: 0.9871\n",
      "Epoch 4/5\n",
      "450000/450000 [==============================] - 438s 974us/sample - loss: 0.0376 - acc: 0.9875 - val_loss: 0.0402 - val_acc: 0.9873\n",
      "Epoch 5/5\n",
      "450000/450000 [==============================] - 442s 983us/sample - loss: 0.0356 - acc: 0.9880 - val_loss: 0.0345 - val_acc: 0.9881\n"
     ]
    }
   ],
   "source": [
    "print('Training LSTM...')\n",
    "\n",
    "batch_size = 5\n",
    "\n",
    "history_lstm_avg = model_lstm_avg.fit(X_train, y_train, \n",
    "                                      batch_size=batch_size,\n",
    "                                      epochs=5,\n",
    "                                      validation_data=(X_test, y_test), \n",
    "                                      callbacks=[rlrp] ,verbose=1)\n"
   ]
  },
  {
   "cell_type": "code",
   "execution_count": 24,
   "metadata": {},
   "outputs": [
    {
     "name": "stdout",
     "output_type": "stream",
     "text": [
      "150000/150000 [==============================] - 7s 45us/sample - loss: 0.0345 - acc: 0.9881\n",
      "Test Loss:  0.0344835894645052\n",
      "Test Accuracy 0.98808\n",
      "dict_keys(['loss', 'acc', 'val_loss', 'val_acc', 'lr'])\n"
     ]
    },
    {
     "data": {
      "image/png": "[encoded data removed]",
      "text/plain": [
       "<Figure size 432x288 with 1 Axes>"
      ]
     },
     "metadata": {
      "needs_background": "light"
     },
     "output_type": "display_data"
    },
    {
     "data": {
      "image/png": "[encoded data removed]",
      "text/plain": [
       "<Figure size 432x288 with 1 Axes>"
      ]
     },
     "metadata": {
      "needs_background": "light"
     },
     "output_type": "display_data"
    }
   ],
   "source": [
    "score = model_lstm_avg.evaluate(X_test, y_test)\n",
    "print('Test Loss: ', score[0])\n",
    "print('Test Accuracy', score[1])\n",
    "\n",
    "\n",
    "# list all data in history\n",
    "print(history_lstm_avg.history.keys())\n",
    "# summarize history for accuracy\n",
    "plt.plot(history_lstm_avg.history['acc'])\n",
    "plt.plot(history_lstm_avg.history['val_acc'])\n",
    "plt.title('Model Accuracy')\n",
    "plt.ylabel('accuracy')\n",
    "plt.xlabel('epoch')\n",
    "plt.legend(['train', 'test'], loc='upper left')\n",
    "plt.show()\n",
    "# summarize history for loss\n",
    "plt.plot(history_lstm_avg.history['loss'])\n",
    "plt.plot(history_lstm_avg.history['val_loss'])\n",
    "plt.title('Model Loss')\n",
    "plt.ylabel('loss')\n",
    "plt.xlabel('epoch')\n",
    "plt.legend(['train', 'test'], loc='upper left')\n",
    "plt.show()"
   ]
  },
  {
   "cell_type": "code",
   "execution_count": 26,
   "metadata": {},
   "outputs": [
    {
     "name": "stdout",
     "output_type": "stream",
     "text": [
      "Saved model to disc\n"
     ]
    }
   ],
   "source": [
    "# Let's save the model to disc\n",
    "json = model_lstm_avg.to_json()\n",
    "with open(\"/Users/niall/Documents/Cypress_Code/Models/Flip_bit_models/model_lstm_avg.json\", \"w\") as file:\n",
    "    file.write(json)\n",
    "model_lstm_avg.save_weights(\"/Users/niall/Documents/Cypress_Code/Models/Flip_bit_models/model_lstm_avg.h5\")\n",
    "print(\"Saved model to disc\")"
   ]
  },
  {
   "cell_type": "code",
   "execution_count": 31,
   "metadata": {},
   "outputs": [],
   "source": [
    "# Load the model of interest\n",
    "json_file = open('/Users/niall/Documents/Cypress_Code/Models/Flip_bit_models/model_lstm_avg.json', 'r')\n",
    "json = json_file.read()\n",
    "json_file.close()\n",
    "model_avg_from_disc = model_from_json(json)\n",
    "model_avg_from_disc.load_weights(\"/Users/niall/Documents/Cypress_Code/Models/Flip_bit_models/model_lstm_avg.h5\")"
   ]
  },
  {
   "cell_type": "code",
   "execution_count": 32,
   "metadata": {},
   "outputs": [],
   "source": [
    "y_preds_avg = model_avg_from_disc.predict(X_test, batch_size=1)"
   ]
  },
  {
   "cell_type": "code",
   "execution_count": 34,
   "metadata": {},
   "outputs": [],
   "source": [
    "pred_avg = pd.DataFrame(y_preds_avg, columns =['Y_pred']) \n",
    "pred_avg['Label'] = y_test"
   ]
  },
  {
   "cell_type": "code",
   "execution_count": 35,
   "metadata": {},
   "outputs": [],
   "source": [
    "pred_avg.to_csv('/Users/niall/Documents/Cypress_Code/Predictions/Flip_bits/pred_avg.csv', index = False)"
   ]
  },
  {
   "cell_type": "markdown",
   "metadata": {},
   "source": [
    "## Predictions on test data"
   ]
  },
  {
   "cell_type": "code",
   "execution_count": 82,
   "metadata": {},
   "outputs": [],
   "source": [
    "y_pred_deep = deep_model.predict(X_test, batch_size=1)"
   ]
  },
  {
   "cell_type": "code",
   "execution_count": 87,
   "metadata": {},
   "outputs": [
    {
     "name": "stdout",
     "output_type": "stream",
     "text": [
      "(42625, 1, 1)\n"
     ]
    }
   ],
   "source": [
    "print(np.shape(y_pred_deep))"
   ]
  },
  {
   "cell_type": "code",
   "execution_count": 89,
   "metadata": {},
   "outputs": [],
   "source": [
    "y_pred_deep = np.array(y_pred_deep).reshape((np.shape(y_pred_deep)[0], np.shape(y_pred_deep)[1]))"
   ]
  },
  {
   "cell_type": "code",
   "execution_count": 90,
   "metadata": {},
   "outputs": [
    {
     "name": "stdout",
     "output_type": "stream",
     "text": [
      "(42625, 1)\n"
     ]
    }
   ],
   "source": [
    "print(np.shape(y_pred_deep))"
   ]
  },
  {
   "cell_type": "code",
   "execution_count": 91,
   "metadata": {},
   "outputs": [
    {
     "name": "stdout",
     "output_type": "stream",
     "text": [
      "[[0.02652266]\n",
      " [0.0504842 ]\n",
      " [0.02647969]\n",
      " [0.02644005]\n",
      " [0.02641368]]\n"
     ]
    }
   ],
   "source": [
    "print(y_pred_deep[:5])"
   ]
  },
  {
   "cell_type": "code",
   "execution_count": 92,
   "metadata": {},
   "outputs": [],
   "source": [
    "pred_df_deep = pd.DataFrame(y_pred_deep, columns =['Y_pred']) \n",
    "pred_df_deep['Label'] = y_test"
   ]
  },
  {
   "cell_type": "code",
   "execution_count": 40,
   "metadata": {},
   "outputs": [
    {
     "ename": "NameError",
     "evalue": "name 'pred_df_deep' is not defined",
     "output_type": "error",
     "traceback": [
      "\u001b[0;31m---------------------------------------------------------------------------\u001b[0m",
      "\u001b[0;31mNameError\u001b[0m                                 Traceback (most recent call last)",
      "\u001b[0;32m<ipython-input-40-5ec1e1c29a95>\u001b[0m in \u001b[0;36m<module>\u001b[0;34m\u001b[0m\n\u001b[0;32m----> 1\u001b[0;31m \u001b[0mpred_df_deep\u001b[0m\u001b[0;34m.\u001b[0m\u001b[0mto_csv\u001b[0m\u001b[0;34m(\u001b[0m\u001b[0mindex\u001b[0m\u001b[0;34m=\u001b[0m\u001b[0;32mFalse\u001b[0m\u001b[0;34m)\u001b[0m\u001b[0;34m\u001b[0m\u001b[0;34m\u001b[0m\u001b[0m\n\u001b[0m",
      "\u001b[0;31mNameError\u001b[0m: name 'pred_df_deep' is not defined"
     ]
    }
   ],
   "source": [
    "pred_df_deep.to_csv(index=False) "
   ]
  },
  {
   "cell_type": "code",
   "execution_count": 93,
   "metadata": {},
   "outputs": [
    {
     "data": {
      "text/html": [
       "<div>\n",
       "<style scoped>\n",
       "    .dataframe tbody tr th:only-of-type {\n",
       "        vertical-align: middle;\n",
       "    }\n",
       "\n",
       "    .dataframe tbody tr th {\n",
       "        vertical-align: top;\n",
       "    }\n",
       "\n",
       "    .dataframe thead th {\n",
       "        text-align: right;\n",
       "    }\n",
       "</style>\n",
       "<table border=\"1\" class=\"dataframe\">\n",
       "  <thead>\n",
       "    <tr style=\"text-align: right;\">\n",
       "      <th></th>\n",
       "      <th>Y_pred</th>\n",
       "      <th>Label</th>\n",
       "    </tr>\n",
       "  </thead>\n",
       "  <tbody>\n",
       "    <tr>\n",
       "      <th>8</th>\n",
       "      <td>0.206324</td>\n",
       "      <td>1.0</td>\n",
       "    </tr>\n",
       "    <tr>\n",
       "      <th>73</th>\n",
       "      <td>0.190821</td>\n",
       "      <td>1.0</td>\n",
       "    </tr>\n",
       "    <tr>\n",
       "      <th>114</th>\n",
       "      <td>0.204339</td>\n",
       "      <td>1.0</td>\n",
       "    </tr>\n",
       "    <tr>\n",
       "      <th>167</th>\n",
       "      <td>0.104224</td>\n",
       "      <td>1.0</td>\n",
       "    </tr>\n",
       "    <tr>\n",
       "      <th>185</th>\n",
       "      <td>0.225726</td>\n",
       "      <td>1.0</td>\n",
       "    </tr>\n",
       "  </tbody>\n",
       "</table>\n",
       "</div>"
      ],
      "text/plain": [
       "       Y_pred  Label\n",
       "8    0.206324    1.0\n",
       "73   0.190821    1.0\n",
       "114  0.204339    1.0\n",
       "167  0.104224    1.0\n",
       "185  0.225726    1.0"
      ]
     },
     "execution_count": 93,
     "metadata": {},
     "output_type": "execute_result"
    }
   ],
   "source": [
    "y_pred_ref_ref_deep = pred_df_deep[pred_df_deep['Label'] == 1]\n",
    "y_pred_ref_ref_deep.head()"
   ]
  },
  {
   "cell_type": "code",
   "execution_count": 94,
   "metadata": {},
   "outputs": [
    {
     "data": {
      "text/html": [
       "<div>\n",
       "<style scoped>\n",
       "    .dataframe tbody tr th:only-of-type {\n",
       "        vertical-align: middle;\n",
       "    }\n",
       "\n",
       "    .dataframe tbody tr th {\n",
       "        vertical-align: top;\n",
       "    }\n",
       "\n",
       "    .dataframe thead th {\n",
       "        text-align: right;\n",
       "    }\n",
       "</style>\n",
       "<table border=\"1\" class=\"dataframe\">\n",
       "  <thead>\n",
       "    <tr style=\"text-align: right;\">\n",
       "      <th></th>\n",
       "      <th>Y_pred</th>\n",
       "      <th>Label</th>\n",
       "    </tr>\n",
       "  </thead>\n",
       "  <tbody>\n",
       "    <tr>\n",
       "      <th>0</th>\n",
       "      <td>0.026523</td>\n",
       "      <td>0.0</td>\n",
       "    </tr>\n",
       "    <tr>\n",
       "      <th>1</th>\n",
       "      <td>0.050484</td>\n",
       "      <td>0.0</td>\n",
       "    </tr>\n",
       "    <tr>\n",
       "      <th>2</th>\n",
       "      <td>0.026480</td>\n",
       "      <td>0.0</td>\n",
       "    </tr>\n",
       "    <tr>\n",
       "      <th>3</th>\n",
       "      <td>0.026440</td>\n",
       "      <td>0.0</td>\n",
       "    </tr>\n",
       "    <tr>\n",
       "      <th>4</th>\n",
       "      <td>0.026414</td>\n",
       "      <td>0.0</td>\n",
       "    </tr>\n",
       "  </tbody>\n",
       "</table>\n",
       "</div>"
      ],
      "text/plain": [
       "     Y_pred  Label\n",
       "0  0.026523    0.0\n",
       "1  0.050484    0.0\n",
       "2  0.026480    0.0\n",
       "3  0.026440    0.0\n",
       "4  0.026414    0.0"
      ]
     },
     "execution_count": 94,
     "metadata": {},
     "output_type": "execute_result"
    }
   ],
   "source": [
    "y_pred_non_ref_deep = pred_df_deep[pred_df_deep['Label'] == 0]\n",
    "y_pred_non_ref_deep.head()"
   ]
  },
  {
   "cell_type": "markdown",
   "metadata": {},
   "source": [
    "## All Predictions"
   ]
  },
  {
   "cell_type": "code",
   "execution_count": 101,
   "metadata": {},
   "outputs": [
    {
     "data": {
      "text/plain": [
       "Text(0.5, 1.0, 'All y_preds flip_bits')"
      ]
     },
     "execution_count": 101,
     "metadata": {},
     "output_type": "execute_result"
    },
    {
     "data": {
      "image/png": "[encoded data removed]",
      "text/plain": [
       "<Figure size 432x288 with 1 Axes>"
      ]
     },
     "metadata": {
      "needs_background": "light"
     },
     "output_type": "display_data"
    }
   ],
   "source": [
    "plt.hist(y_pred_deep, rwidth=0.9)\n",
    "plt.title('All y_preds flip_bits')"
   ]
  },
  {
   "cell_type": "code",
   "execution_count": null,
   "metadata": {},
   "outputs": [],
   "source": []
  },
  {
   "cell_type": "code",
   "execution_count": 107,
   "metadata": {},
   "outputs": [
    {
     "data": {
      "text/plain": [
       "<matplotlib.axes._subplots.AxesSubplot at 0x7fcbd228cf10>"
      ]
     },
     "execution_count": 107,
     "metadata": {},
     "output_type": "execute_result"
    },
    {
     "data": {
      "image/png": "[encoded data removed]",
      "text/plain": [
       "<Figure size 432x288 with 1 Axes>"
      ]
     },
     "metadata": {
      "needs_background": "light"
     },
     "output_type": "display_data"
    }
   ],
   "source": [
    "sns.kdeplot(pred_df_deep['Y_pred'],shade=True)"
   ]
  },
  {
   "cell_type": "markdown",
   "metadata": {},
   "source": [
    "## Ref Ref Predictions "
   ]
  },
  {
   "cell_type": "code",
   "execution_count": 102,
   "metadata": {},
   "outputs": [
    {
     "data": {
      "text/plain": [
       "Text(0.5, 1.0, 'Ref_Ref y_preds flip bits')"
      ]
     },
     "execution_count": 102,
     "metadata": {},
     "output_type": "execute_result"
    },
    {
     "data": {
      "image/png": "[encoded data removed]",
      "text/plain": [
       "<Figure size 432x288 with 1 Axes>"
      ]
     },
     "metadata": {
      "needs_background": "light"
     },
     "output_type": "display_data"
    }
   ],
   "source": [
    "plt.hist(y_pred_ref_ref_deep['Y_pred'], rwidth=0.9)\n",
    "plt.title('Ref_Ref y_preds flip bits')"
   ]
  },
  {
   "cell_type": "code",
   "execution_count": 103,
   "metadata": {},
   "outputs": [
    {
     "data": {
      "text/plain": [
       "<matplotlib.axes._subplots.AxesSubplot at 0x7fcbd1a6e2d0>"
      ]
     },
     "execution_count": 103,
     "metadata": {},
     "output_type": "execute_result"
    },
    {
     "data": {
      "image/png": "[encoded data removed]",
      "text/plain": [
       "<Figure size 432x288 with 1 Axes>"
      ]
     },
     "metadata": {
      "needs_background": "light"
     },
     "output_type": "display_data"
    }
   ],
   "source": [
    "sns.distplot(y_pred_ref_ref_deep['Y_pred'], kde=True)"
   ]
  },
  {
   "cell_type": "markdown",
   "metadata": {},
   "source": [
    "## Non Ref Ref Predictions"
   ]
  },
  {
   "cell_type": "code",
   "execution_count": 104,
   "metadata": {},
   "outputs": [
    {
     "data": {
      "text/plain": [
       "Text(0.5, 1.0, 'Non Ref_Ref y_preds flip bits')"
      ]
     },
     "execution_count": 104,
     "metadata": {},
     "output_type": "execute_result"
    },
    {
     "data": {
      "image/png": "[encoded data removed]",
      "text/plain": [
       "<Figure size 432x288 with 1 Axes>"
      ]
     },
     "metadata": {
      "needs_background": "light"
     },
     "output_type": "display_data"
    }
   ],
   "source": [
    "plt.hist(y_pred_non_ref_deep['Y_pred'], rwidth=0.9)\n",
    "plt.title('Non Ref_Ref y_preds flip bits')"
   ]
  },
  {
   "cell_type": "code",
   "execution_count": 105,
   "metadata": {},
   "outputs": [
    {
     "data": {
      "text/plain": [
       "<matplotlib.axes._subplots.AxesSubplot at 0x7fcbd4574490>"
      ]
     },
     "execution_count": 105,
     "metadata": {},
     "output_type": "execute_result"
    },
    {
     "data": {
      "image/png": "[encoded data removed]",
      "text/plain": [
       "<Figure size 432x288 with 1 Axes>"
      ]
     },
     "metadata": {
      "needs_background": "light"
     },
     "output_type": "display_data"
    }
   ],
   "source": [
    "sns.kdeplot(y_pred_non_ref_deep['Y_pred'],shade=True)"
   ]
  },
  {
   "cell_type": "markdown",
   "metadata": {},
   "source": [
    "## 3. LSTM with GlobalMaxPooling & SpatialDropout"
   ]
  },
  {
   "cell_type": "code",
   "execution_count": 38,
   "metadata": {},
   "outputs": [
    {
     "name": "stdout",
     "output_type": "stream",
     "text": [
      "_________________________________________________________________\n",
      "Layer (type)                 Output Shape              Param #   \n",
      "=================================================================\n",
      "lstm_6 (LSTM)                (None, 1, 31)             7812      \n",
      "_________________________________________________________________\n",
      "spatial_dropout1d_5 (Spatial (None, 1, 31)             0         \n",
      "_________________________________________________________________\n",
      "lstm_7 (LSTM)                (None, 1, 31)             7812      \n",
      "_________________________________________________________________\n",
      "global_max_pooling1d (Global (None, 31)                0         \n",
      "_________________________________________________________________\n",
      "dense_4 (Dense)              (None, 16)                512       \n",
      "_________________________________________________________________\n",
      "dropout_2 (Dropout)          (None, 16)                0         \n",
      "_________________________________________________________________\n",
      "dense_5 (Dense)              (None, 1)                 17        \n",
      "=================================================================\n",
      "Total params: 16,153\n",
      "Trainable params: 16,153\n",
      "Non-trainable params: 0\n",
      "_________________________________________________________________\n"
     ]
    }
   ],
   "source": [
    "num_neurons = 31\n",
    "num_features = 31\n",
    "\n",
    "model_lstm_max = Sequential()\n",
    "model_lstm_max.add(LSTM(num_neurons, input_shape=(1, num_features), return_sequences=True))\n",
    "model_lstm_max.add(SpatialDropout1D(0.2))\n",
    "model_lstm_max.add(LSTM(num_neurons, input_shape=(1, num_features), dropout=0.2, recurrent_dropout=0.2, return_sequences=True),)\n",
    "model_lstm_max.add(GlobalMaxPooling1D())\n",
    "model_lstm_max.add(Dense(16, activation='sigmoid'))\n",
    "model_lstm_max.add(Dropout(0.2))\n",
    "model_lstm_max.add(Dense(1, activation='sigmoid'))\n",
    "\n",
    "rlrp = ReduceLROnPlateau(monitor='val_loss', factor=0.1, patience=2)\n",
    "model_lstm_max.compile(loss='binary_crossentropy', optimizer='adam', metrics=['accuracy'])\n",
    "model_lstm_max.summary()"
   ]
  },
  {
   "cell_type": "code",
   "execution_count": 39,
   "metadata": {},
   "outputs": [
    {
     "name": "stdout",
     "output_type": "stream",
     "text": [
      "Training LSTM...\n",
      "Train on 450000 samples, validate on 150000 samples\n",
      "WARNING:tensorflow:From /Users/niall/opt/anaconda3/envs/DCUML/lib/python3.7/site-packages/tensorflow/python/ops/math_grad.py:102: div (from tensorflow.python.ops.math_ops) is deprecated and will be removed in a future version.\n",
      "Instructions for updating:\n",
      "Deprecated in favor of operator or tf.math.divide.\n",
      "Epoch 1/5\n",
      "450000/450000 [==============================] - 710s 2ms/sample - loss: 0.0452 - acc: 0.9851 - val_loss: 0.0387 - val_acc: 0.9866\n",
      "Epoch 2/5\n",
      "450000/450000 [==============================] - 710s 2ms/sample - loss: 0.0395 - acc: 0.9871 - val_loss: 0.0361 - val_acc: 0.9873\n",
      "Epoch 3/5\n",
      "450000/450000 [==============================] - 766s 2ms/sample - loss: 0.0392 - acc: 0.9872 - val_loss: 0.0355 - val_acc: 0.9876\n",
      "Epoch 4/5\n",
      "450000/450000 [==============================] - 763s 2ms/sample - loss: 0.0393 - acc: 0.9873 - val_loss: 0.0370 - val_acc: 0.9876\n",
      "Epoch 5/5\n",
      "450000/450000 [==============================] - 1065s 2ms/sample - loss: 0.0394 - acc: 0.9874 - val_loss: 0.0353 - val_acc: 0.9878\n"
     ]
    }
   ],
   "source": [
    "print('Training LSTM...')\n",
    "\n",
    "batch_size = 3\n",
    "\n",
    "history_lstm_max = model_lstm_max.fit(X_train, y_train,\n",
    "                              batch_size=batch_size, \n",
    "                              epochs=5, \n",
    "                              validation_data=(X_test, y_test),\n",
    "                              callbacks=[rlrp] ,verbose=1)"
   ]
  },
  {
   "cell_type": "code",
   "execution_count": 41,
   "metadata": {},
   "outputs": [
    {
     "name": "stdout",
     "output_type": "stream",
     "text": [
      "150000/150000 [==============================] - 8s 55us/sample - loss: 0.0353 - acc: 0.9878\n",
      "Test Loss:  0.03526166637364775\n",
      "Test Accuracy 0.98778\n",
      "dict_keys(['loss', 'acc', 'val_loss', 'val_acc', 'lr'])\n"
     ]
    },
    {
     "data": {
      "image/png": "[encoded data removed]",
      "text/plain": [
       "<Figure size 432x288 with 1 Axes>"
      ]
     },
     "metadata": {
      "needs_background": "light"
     },
     "output_type": "display_data"
    },
    {
     "data": {
      "image/png": "[encoded data removed]",
      "text/plain": [
       "<Figure size 432x288 with 1 Axes>"
      ]
     },
     "metadata": {
      "needs_background": "light"
     },
     "output_type": "display_data"
    }
   ],
   "source": [
    "score = model_lstm_max.evaluate(X_test, y_test)\n",
    "print('Test Loss: ', score[0])\n",
    "print('Test Accuracy', score[1])\n",
    "\n",
    "\n",
    "# list all data in history\n",
    "print(history_lstm_max.history.keys())\n",
    "# summarize history for accuracy\n",
    "plt.plot(history_lstm_max.history['acc'])\n",
    "plt.plot(history_lstm_max.history['val_acc'])\n",
    "plt.title('Model Accuracy')\n",
    "plt.ylabel('accuracy')\n",
    "plt.xlabel('epoch')\n",
    "plt.legend(['train', 'test'], loc='upper left')\n",
    "plt.show()\n",
    "# summarize history for loss\n",
    "plt.plot(history_lstm_max.history['loss'])\n",
    "plt.plot(history_lstm_max.history['val_loss'])\n",
    "plt.title('Model Loss')\n",
    "plt.ylabel('loss')\n",
    "plt.xlabel('epoch')\n",
    "plt.legend(['train', 'test'], loc='upper left')\n",
    "plt.show()"
   ]
  },
  {
   "cell_type": "code",
   "execution_count": 42,
   "metadata": {},
   "outputs": [
    {
     "name": "stdout",
     "output_type": "stream",
     "text": [
      "Saved model to disc\n"
     ]
    }
   ],
   "source": [
    "# Let's save the model to disc\n",
    "json = model_lstm_max.to_json()\n",
    "with open(\"/Users/niall/Documents/Cypress_Code/Models/Flip_bit_models/model_lstm_max.json\", \"w\") as file:\n",
    "    file.write(json)\n",
    "model_lstm_max.save_weights(\"/Users/niall/Documents/Cypress_Code/Models/Flip_bit_models/model_lstm_max.h5\")\n",
    "print(\"Saved model to disc\")"
   ]
  },
  {
   "cell_type": "code",
   "execution_count": 44,
   "metadata": {},
   "outputs": [],
   "source": [
    "# Load the model of interest\n",
    "json_file = open('/Users/niall/Documents/Cypress_Code/Models/Flip_bit_models/model_lstm_max.json', 'r')\n",
    "json = json_file.read()\n",
    "json_file.close()\n",
    "model_lstm_max = model_from_json(json)\n",
    "model_lstm_max.load_weights(\"/Users/niall/Documents/Cypress_Code/Models/Flip_bit_models/model_lstm_max.h5\")"
   ]
  },
  {
   "cell_type": "code",
   "execution_count": 45,
   "metadata": {},
   "outputs": [
    {
     "name": "stdout",
     "output_type": "stream",
     "text": [
      "150000/150000 [==============================] - 199s 1ms/sample\n"
     ]
    }
   ],
   "source": [
    "y_pred_lstm_max = model_lstm_max.predict(X_test, batch_size=1, verbose=1)"
   ]
  },
  {
   "cell_type": "code",
   "execution_count": 46,
   "metadata": {},
   "outputs": [],
   "source": [
    "pred = pd.DataFrame(y_pred_lstm_max, columns =['Y_pred']) \n",
    "pred['Label'] = y_test"
   ]
  },
  {
   "cell_type": "code",
   "execution_count": 47,
   "metadata": {},
   "outputs": [],
   "source": [
    "pred.to_csv('/Users/niall/Documents/Cypress_Code/Predictions/Flip_bits/model_lstm_max.csv', index = False)"
   ]
  },
  {
   "cell_type": "markdown",
   "metadata": {},
   "source": [
    "# 4. Three Stack LSTM Spartial Dropout"
   ]
  },
  {
   "cell_type": "code",
   "execution_count": 48,
   "metadata": {},
   "outputs": [
    {
     "name": "stdout",
     "output_type": "stream",
     "text": [
      "_________________________________________________________________\n",
      "Layer (type)                 Output Shape              Param #   \n",
      "=================================================================\n",
      "lstm_8 (LSTM)                (None, 1, 31)             7812      \n",
      "_________________________________________________________________\n",
      "spatial_dropout1d_6 (Spatial (None, 1, 31)             0         \n",
      "_________________________________________________________________\n",
      "lstm_9 (LSTM)                (None, 1, 31)             7812      \n",
      "_________________________________________________________________\n",
      "lstm_10 (LSTM)               (None, 1, 31)             7812      \n",
      "_________________________________________________________________\n",
      "global_max_pooling1d_1 (Glob (None, 31)                0         \n",
      "_________________________________________________________________\n",
      "dense_6 (Dense)              (None, 16)                512       \n",
      "_________________________________________________________________\n",
      "dropout_3 (Dropout)          (None, 16)                0         \n",
      "_________________________________________________________________\n",
      "dense_7 (Dense)              (None, 1)                 17        \n",
      "=================================================================\n",
      "Total params: 23,965\n",
      "Trainable params: 23,965\n",
      "Non-trainable params: 0\n",
      "_________________________________________________________________\n"
     ]
    }
   ],
   "source": [
    "num_neurons = 31\n",
    "num_features = 31\n",
    "\n",
    "model_lstm_stack = Sequential()\n",
    "model_lstm_stack.add(LSTM(num_neurons, input_shape=(1, num_features), return_sequences=True))\n",
    "model_lstm_stack.add(SpatialDropout1D(0.2))\n",
    "model_lstm_stack.add(LSTM(num_neurons, input_shape=(1, num_features), dropout=0.2, recurrent_dropout=0.2, return_sequences=True),)\n",
    "model_lstm_stack.add(LSTM(num_neurons, input_shape=(1, num_features), dropout=0.2, recurrent_dropout=0.2, return_sequences=True),)\n",
    "model_lstm_stack.add(GlobalMaxPooling1D())\n",
    "model_lstm_stack.add(Dense(16, activation='sigmoid'))\n",
    "model_lstm_stack.add(Dropout(0.2))\n",
    "model_lstm_stack.add(Dense(1, activation='sigmoid'))\n",
    "\n",
    "rlrp = ReduceLROnPlateau(monitor='val_loss', factor=0.1, patience=2)\n",
    "model_lstm_stack.compile(loss='binary_crossentropy', optimizer='adam', metrics=['accuracy'])\n",
    "model_lstm_stack.summary()"
   ]
  },
  {
   "cell_type": "code",
   "execution_count": 50,
   "metadata": {},
   "outputs": [
    {
     "name": "stdout",
     "output_type": "stream",
     "text": [
      "Training LSTM...\n",
      "Train on 450000 samples, validate on 150000 samples\n",
      "Epoch 1/2\n",
      "450000/450000 [==============================] - 1403s 3ms/sample - loss: 0.0443 - acc: 0.9855 - val_loss: 0.0374 - val_acc: 0.9874\n",
      "Epoch 2/2\n",
      "450000/450000 [==============================] - 1438s 3ms/sample - loss: 0.0409 - acc: 0.9869 - val_loss: 0.0378 - val_acc: 0.9872\n"
     ]
    }
   ],
   "source": [
    "print('Training LSTM...')\n",
    "\n",
    "batch_size = 3\n",
    "\n",
    "history_lstm_stack = model_lstm_stack.fit(X_train, y_train,\n",
    "                              batch_size=batch_size, \n",
    "                              epochs=2, \n",
    "                              validation_data=(X_test, y_test),\n",
    "                              callbacks=[rlrp] ,verbose=1)"
   ]
  },
  {
   "cell_type": "code",
   "execution_count": 52,
   "metadata": {},
   "outputs": [
    {
     "name": "stdout",
     "output_type": "stream",
     "text": [
      "150000/150000 [==============================] - 9s 58us/sample - loss: 0.0378 - acc: 0.9872\n",
      "Test Loss:  0.03783250959698577\n",
      "Test Accuracy 0.9872\n",
      "dict_keys(['loss', 'acc', 'val_loss', 'val_acc', 'lr'])\n"
     ]
    },
    {
     "data": {
      "image/png": "[encoded data removed]",
      "text/plain": [
       "<Figure size 432x288 with 1 Axes>"
      ]
     },
     "metadata": {
      "needs_background": "light"
     },
     "output_type": "display_data"
    },
    {
     "data": {
      "image/png": "[encoded data removed]",
      "text/plain": [
       "<Figure size 432x288 with 1 Axes>"
      ]
     },
     "metadata": {
      "needs_background": "light"
     },
     "output_type": "display_data"
    }
   ],
   "source": [
    "score = model_lstm_stack.evaluate(X_test, y_test)\n",
    "print('Test Loss: ', score[0])\n",
    "print('Test Accuracy', score[1])\n",
    "\n",
    "\n",
    "# list all data in history\n",
    "print(history_lstm_stack.history.keys())\n",
    "\n",
    "# summarize history for accuracy\n",
    "plt.plot(history_lstm_stack.history['acc'])\n",
    "plt.plot(history_lstm_stack.history['val_acc'])\n",
    "plt.title('Model Accuracy')\n",
    "plt.ylabel('accuracy')\n",
    "plt.xlabel('epoch')\n",
    "plt.legend(['train', 'test'], loc='upper left')\n",
    "plt.show()\n",
    "\n",
    "# summarize history for loss\n",
    "plt.plot(history_lstm_stack.history['loss'])\n",
    "plt.plot(history_lstm_stack.history['val_loss'])\n",
    "plt.title('Model Loss')\n",
    "plt.ylabel('loss')\n",
    "plt.xlabel('epoch')\n",
    "plt.legend(['train', 'test'], loc='upper left')\n",
    "plt.show()"
   ]
  },
  {
   "cell_type": "code",
   "execution_count": 54,
   "metadata": {},
   "outputs": [
    {
     "name": "stdout",
     "output_type": "stream",
     "text": [
      "Saved model to disc\n"
     ]
    }
   ],
   "source": [
    "# Let's save the model to disc\n",
    "json = model_lstm_stack.to_json()\n",
    "with open(\"/Users/niall/Documents/Cypress_Code/Models/Flip_bit_models/model_lstm_stack.json\", \"w\") as file:\n",
    "    file.write(json)\n",
    "model_lstm_stack.save_weights(\"/Users/niall/Documents/Cypress_Code/Models/Flip_bit_models/model_lstm_stack.h5\")\n",
    "print(\"Saved model to disc\")"
   ]
  },
  {
   "cell_type": "code",
   "execution_count": 55,
   "metadata": {},
   "outputs": [],
   "source": [
    "# Load the model of interest\n",
    "json_file = open('/Users/niall/Documents/Cypress_Code/Models/Flip_bit_models/model_lstm_stack.json', 'r')\n",
    "json = json_file.read()\n",
    "json_file.close()\n",
    "model_lstm_stack = model_from_json(json)\n",
    "model_lstm_stack.load_weights(\"/Users/niall/Documents/Cypress_Code/Models/Flip_bit_models/model_lstm_stack.h5\")"
   ]
  },
  {
   "cell_type": "code",
   "execution_count": 56,
   "metadata": {},
   "outputs": [
    {
     "name": "stdout",
     "output_type": "stream",
     "text": [
      "150000/150000 [==============================] - 357s 2ms/sample\n"
     ]
    }
   ],
   "source": [
    "y_pred_lstm_stack = model_lstm_stack.predict(X_test, batch_size=1, verbose=1)"
   ]
  },
  {
   "cell_type": "code",
   "execution_count": 57,
   "metadata": {},
   "outputs": [],
   "source": [
    "pred = pd.DataFrame(y_pred_lstm_stack, columns =['Y_pred']) \n",
    "pred['Label'] = y_test"
   ]
  },
  {
   "cell_type": "code",
   "execution_count": 58,
   "metadata": {},
   "outputs": [],
   "source": [
    "pred.to_csv('/Users/niall/Documents/Cypress_Code/Predictions/Flip_bits/model_lstm_stack.csv', index = False)"
   ]
  },
  {
   "cell_type": "markdown",
   "metadata": {},
   "source": [
    "# 5. LSTM Low Complexity "
   ]
  },
  {
   "cell_type": "code",
   "execution_count": 69,
   "metadata": {},
   "outputs": [
    {
     "name": "stdout",
     "output_type": "stream",
     "text": [
      "_________________________________________________________________\n",
      "Layer (type)                 Output Shape              Param #   \n",
      "=================================================================\n",
      "lstm_13 (LSTM)               (None, 1, 31)             7812      \n",
      "_________________________________________________________________\n",
      "dense_9 (Dense)              (None, 1, 15)             480       \n",
      "_________________________________________________________________\n",
      "dense_10 (Dense)             (None, 1, 1)              16        \n",
      "=================================================================\n",
      "Total params: 8,308\n",
      "Trainable params: 8,308\n",
      "Non-trainable params: 0\n",
      "_________________________________________________________________\n"
     ]
    }
   ],
   "source": [
    "num_neurons = 31\n",
    "num_features = 31\n",
    "\n",
    "model_lstm_low_comp = Sequential()\n",
    "model_lstm_low_comp.add(LSTM(num_neurons, input_shape=(1, num_features), dropout=0.2, recurrent_dropout=0.2, return_sequences=True),)\n",
    "model_lstm_low_comp.add(Dense(15, activation='sigmoid'))\n",
    "model_lstm_low_comp.add(Dense(1, activation='sigmoid'))\n",
    "\n",
    "rlrp = ReduceLROnPlateau(monitor='val_loss', factor=0.1, patience=2)\n",
    "model_lstm_low_comp.compile(loss='binary_crossentropy', optimizer='adam', metrics=['accuracy'])\n",
    "model_lstm_low_comp.summary()"
   ]
  },
  {
   "cell_type": "code",
   "execution_count": 70,
   "metadata": {},
   "outputs": [
    {
     "name": "stdout",
     "output_type": "stream",
     "text": [
      "Training LSTM...\n",
      "Train on 450000 samples, validate on 150000 samples\n",
      "Epoch 1/5\n",
      "450000/450000 [==============================] - 498s 1ms/sample - loss: 0.5872 - acc: 0.6983 - val_loss: 0.5857 - val_acc: 0.6997\n",
      "Epoch 2/5\n",
      "450000/450000 [==============================] - 635s 1ms/sample - loss: 0.5861 - acc: 0.6995 - val_loss: 0.5850 - val_acc: 0.7004\n",
      "Epoch 3/5\n",
      "450000/450000 [==============================] - 577s 1ms/sample - loss: 0.5859 - acc: 0.6999 - val_loss: 0.5852 - val_acc: 0.7004\n",
      "Epoch 4/5\n",
      "450000/450000 [==============================] - 675s 2ms/sample - loss: 0.5855 - acc: 0.7003 - val_loss: 0.5851 - val_acc: 0.7003\n",
      "Epoch 5/5\n",
      "450000/450000 [==============================] - 594s 1ms/sample - loss: 0.5855 - acc: 0.7000 - val_loss: 0.5855 - val_acc: 0.6996\n"
     ]
    }
   ],
   "source": [
    "print('Training LSTM...')\n",
    "\n",
    "batch_size = 3\n",
    "\n",
    "history_lstm_low_comp = model_lstm_low_comp.fit(X_train, y_train,\n",
    "                              batch_size=batch_size, \n",
    "                              epochs=5, \n",
    "                              validation_data=(X_test, y_test),\n",
    "                              callbacks=[rlrp] ,verbose=1)"
   ]
  },
  {
   "cell_type": "code",
   "execution_count": 72,
   "metadata": {},
   "outputs": [
    {
     "name": "stdout",
     "output_type": "stream",
     "text": [
      "150000/150000 [==============================] - 5s 32us/sample - loss: 0.6780 - acc: 0.5731\n",
      "Test Loss:  0.6779864183108012\n",
      "Test Accuracy 0.5730985\n",
      "dict_keys(['loss', 'acc', 'val_loss', 'val_acc', 'lr'])\n"
     ]
    },
    {
     "data": {
      "image/png": "[encoded data removed]",
      "text/plain": [
       "<Figure size 432x288 with 1 Axes>"
      ]
     },
     "metadata": {
      "needs_background": "light"
     },
     "output_type": "display_data"
    },
    {
     "data": {
      "image/png": "[encoded data removed]",
      "text/plain": [
       "<Figure size 432x288 with 1 Axes>"
      ]
     },
     "metadata": {
      "needs_background": "light"
     },
     "output_type": "display_data"
    }
   ],
   "source": [
    "score = model_lstm_low_comp.evaluate(X_test, y_test)\n",
    "print('Test Loss: ', score[0])\n",
    "print('Test Accuracy', score[1])\n",
    "\n",
    "\n",
    "# list all data in history\n",
    "print(history_lstm_low_comp.history.keys())\n",
    "\n",
    "# summarize history for accuracy\n",
    "plt.plot(history_lstm_low_comp.history['acc'])\n",
    "plt.plot(history_lstm_low_comp.history['val_acc'])\n",
    "plt.title('Model Accuracy')\n",
    "plt.ylabel('accuracy')\n",
    "plt.xlabel('epoch')\n",
    "plt.legend(['train', 'test'], loc='upper left')\n",
    "plt.show()\n",
    "\n",
    "# summarize history for loss\n",
    "plt.plot(history_lstm_low_comp.history['loss'])\n",
    "plt.plot(history_lstm_low_comp.history['val_loss'])\n",
    "plt.title('Model Loss')\n",
    "plt.ylabel('loss')\n",
    "plt.xlabel('epoch')\n",
    "plt.legend(['train', 'test'], loc='upper left')\n",
    "plt.show()"
   ]
  },
  {
   "cell_type": "code",
   "execution_count": null,
   "metadata": {},
   "outputs": [],
   "source": []
  },
  {
   "cell_type": "code",
   "execution_count": 75,
   "metadata": {},
   "outputs": [
    {
     "name": "stdout",
     "output_type": "stream",
     "text": [
      "Saved model to disc\n"
     ]
    }
   ],
   "source": [
    "# Let's save the model to disc\n",
    "json = model_lstm_low_comp.to_json()\n",
    "with open(\"/Users/niall/Documents/Cypress_Code/Models/Flip_bit_models/model_lstm_low_comp.json\", \"w\") as file:\n",
    "    file.write(json)\n",
    "model_lstm_low_comp.save_weights(\"/Users/niall/Documents/Cypress_Code/Models/Flip_bit_models/model_lstm_low_comp.h5\")\n",
    "print(\"Saved model to disc\")"
   ]
  },
  {
   "cell_type": "code",
   "execution_count": 76,
   "metadata": {},
   "outputs": [],
   "source": [
    "# Load the model of interest\n",
    "json_file = open('/Users/niall/Documents/Cypress_Code/Models/Flip_bit_models/model_lstm_low_comp.json', 'r')\n",
    "json = json_file.read()\n",
    "json_file.close()\n",
    "model_lstm_low_comp = model_from_json(json)\n",
    "model_lstm_low_comp.load_weights(\"/Users/niall/Documents/Cypress_Code/Models/Flip_bit_models/model_lstm_low_comp.h5\")"
   ]
  },
  {
   "cell_type": "code",
   "execution_count": 77,
   "metadata": {},
   "outputs": [
    {
     "name": "stdout",
     "output_type": "stream",
     "text": [
      "150000/150000 [==============================] - 126s 840us/sample\n"
     ]
    }
   ],
   "source": [
    "y_pred_lstm_low_comp = model_lstm_low_comp.predict(X_test, batch_size=1, verbose=1)"
   ]
  },
  {
   "cell_type": "code",
   "execution_count": 80,
   "metadata": {},
   "outputs": [
    {
     "data": {
      "text/plain": [
       "(150000, 1, 1)"
      ]
     },
     "execution_count": 80,
     "metadata": {},
     "output_type": "execute_result"
    }
   ],
   "source": [
    "y_pred_lstm_low_comp.shape"
   ]
  },
  {
   "cell_type": "code",
   "execution_count": 84,
   "metadata": {},
   "outputs": [],
   "source": [
    "output = [elem for twod in y_pred_lstm_low_comp for elem in twod] "
   ]
  },
  {
   "cell_type": "code",
   "execution_count": 88,
   "metadata": {},
   "outputs": [],
   "source": [
    "arr = np.array(output) "
   ]
  },
  {
   "cell_type": "code",
   "execution_count": 90,
   "metadata": {},
   "outputs": [],
   "source": [
    "pred = pd.DataFrame(arr, columns =['Y_pred']) \n",
    "pred['Label'] = y_test"
   ]
  },
  {
   "cell_type": "code",
   "execution_count": 92,
   "metadata": {},
   "outputs": [],
   "source": [
    "pred.to_csv('/Users/niall/Documents/Cypress_Code/Predictions/Flip_bits/model_lstm_low_comp.csv', index = False)"
   ]
  },
  {
   "cell_type": "code",
   "execution_count": null,
   "metadata": {},
   "outputs": [],
   "source": []
  }
 ],
 "metadata": {
  "kernelspec": {
   "display_name": "DCUML",
   "language": "python",
   "name": "dcuml"
  },
  "language_info": {
   "codemirror_mode": {
    "name": "ipython",
    "version": 3
   },
   "file_extension": ".py",
   "mimetype": "text/x-python",
   "name": "python",
   "nbconvert_exporter": "python",
   "pygments_lexer": "ipython3",
   "version": "3.7.7"
  }
 },
 "nbformat": 4,
 "nbformat_minor": 4
}
