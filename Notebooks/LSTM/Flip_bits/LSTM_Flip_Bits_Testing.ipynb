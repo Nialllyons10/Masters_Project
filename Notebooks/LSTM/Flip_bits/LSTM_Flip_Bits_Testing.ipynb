{
 "cells": [
  {
   "cell_type": "markdown",
   "metadata": {},
   "source": [
    "# LSTM FLIP BITS"
   ]
  },
  {
   "cell_type": "code",
   "execution_count": 71,
   "metadata": {},
   "outputs": [],
   "source": [
    "import numpy as np\n",
    "import pandas as pd\n",
    "import tensorflow as tf\n",
    "from tensorflow import keras\n",
    "from tensorflow.keras.models import Sequential\n",
    "from tensorflow.keras.layers import Dense, Dropout, LSTM\n",
    "from tensorflow.keras.preprocessing import sequence\n",
    "from tensorflow.keras.layers import Embedding\n",
    "from tensorflow.keras.optimizers import SGD\n",
    "from tensorflow.keras.layers import Conv1D, TimeDistributed, Flatten\n",
    "from tensorflow.keras.layers import MaxPooling1D\n",
    "from tensorflow.keras.preprocessing.sequence import pad_sequences\n",
    "from sklearn.model_selection import train_test_split\n",
    "from sklearn.metrics import classification_report\n",
    "from sklearn.metrics import confusion_matrix\n",
    "from sklearn.metrics import roc_curve\n",
    "from sklearn.metrics import roc_auc_score\n",
    "from matplotlib import pyplot as plt\n",
    "from sklearn.utils import shuffle"
   ]
  },
  {
   "cell_type": "code",
   "execution_count": 106,
   "metadata": {},
   "outputs": [
    {
     "name": "stdout",
     "output_type": "stream",
     "text": [
      "Loading data...\n",
      "Data Loaded!\n"
     ]
    }
   ],
   "source": [
    "input_file = '/Users/niall/Documents/Cypress_Code/Notebooks/flip_bits_dataset.csv'\n",
    "\n",
    "print ('Loading data...')\n",
    "flip_bits_dataset = pd.read_csv(input_file,index_col=0)\n",
    "\n",
    "print('Data Loaded!')"
   ]
  },
  {
   "cell_type": "code",
   "execution_count": 114,
   "metadata": {},
   "outputs": [],
   "source": [
    "from numpy import genfromtxt\n",
    "\n",
    "my_data_flipped = genfromtxt(input_file, delimiter=',')"
   ]
  },
  {
   "cell_type": "code",
   "execution_count": 118,
   "metadata": {},
   "outputs": [],
   "source": [
    "new_data = np.delete(my_data_flipped, (0), axis=0)"
   ]
  },
  {
   "cell_type": "code",
   "execution_count": 119,
   "metadata": {},
   "outputs": [
    {
     "name": "stdout",
     "output_type": "stream",
     "text": [
      "[[0. 1. 0. 0. 0. 0. 1. 0. 0. 1. 0. 1. 1. 0. 0. 1. 1. 1. 1. 1. 0. 0. 0. 1.\n",
      "  1. 0. 1. 1. 1. 0. 1. 0. 1.]\n",
      " [1. 1. 0. 0. 0. 0. 1. 0. 0. 1. 0. 1. 1. 0. 0. 1. 1. 1. 1. 1. 0. 0. 0. 1.\n",
      "  1. 0. 1. 1. 1. 0. 1. 0. 1.]\n",
      " [2. 1. 0. 0. 0. 0. 1. 0. 0. 1. 0. 1. 1. 0. 0. 1. 1. 1. 1. 1. 0. 0. 0. 1.\n",
      "  1. 0. 1. 1. 1. 0. 1. 0. 1.]\n",
      " [3. 1. 0. 0. 0. 0. 1. 0. 0. 1. 0. 1. 1. 0. 0. 1. 1. 1. 1. 1. 0. 0. 0. 1.\n",
      "  1. 0. 1. 1. 1. 0. 1. 0. 1.]\n",
      " [4. 1. 0. 0. 0. 0. 1. 0. 0. 1. 0. 1. 1. 0. 0. 1. 1. 1. 1. 1. 0. 0. 0. 1.\n",
      "  1. 0. 1. 1. 1. 0. 1. 0. 1.]\n",
      " [5. 1. 0. 0. 0. 0. 1. 0. 0. 1. 0. 1. 1. 0. 0. 1. 1. 1. 1. 1. 0. 0. 0. 1.\n",
      "  1. 0. 1. 1. 1. 0. 1. 0. 1.]\n",
      " [6. 1. 0. 0. 0. 0. 1. 0. 0. 1. 0. 1. 1. 0. 0. 1. 1. 1. 1. 1. 0. 0. 0. 1.\n",
      "  1. 0. 1. 1. 1. 0. 1. 0. 1.]\n",
      " [7. 1. 0. 0. 0. 0. 1. 0. 0. 1. 0. 1. 1. 0. 0. 1. 1. 1. 1. 1. 0. 0. 0. 1.\n",
      "  1. 0. 1. 1. 1. 0. 1. 0. 1.]\n",
      " [8. 1. 0. 0. 0. 0. 1. 0. 0. 1. 0. 1. 1. 0. 0. 1. 1. 1. 1. 1. 0. 0. 0. 1.\n",
      "  1. 0. 1. 1. 1. 0. 1. 0. 1.]\n",
      " [9. 1. 0. 0. 0. 0. 1. 0. 0. 1. 0. 1. 1. 0. 0. 1. 1. 1. 1. 1. 0. 0. 0. 1.\n",
      "  1. 0. 1. 1. 1. 0. 1. 0. 1.]]\n"
     ]
    }
   ],
   "source": [
    "print(new_data[:10])"
   ]
  },
  {
   "cell_type": "code",
   "execution_count": 120,
   "metadata": {},
   "outputs": [
    {
     "name": "stdout",
     "output_type": "stream",
     "text": [
      "(15500, 33)\n"
     ]
    }
   ],
   "source": [
    "print(np.shape(new_data))"
   ]
  },
  {
   "cell_type": "code",
   "execution_count": 121,
   "metadata": {},
   "outputs": [],
   "source": [
    "X2 = np.delete(new_data, (0,32), axis=1)"
   ]
  },
  {
   "cell_type": "code",
   "execution_count": 128,
   "metadata": {},
   "outputs": [
    {
     "name": "stdout",
     "output_type": "stream",
     "text": [
      "[1. 0. 0. 0. 0. 1. 0. 0. 1. 0. 1. 1. 0. 0. 1. 1. 1. 1. 1. 0. 0. 0. 1. 1.\n",
      " 0. 1. 1. 1. 0. 1. 0.]\n",
      "[0. 1. 0. 0. 1. 1. 0. 1. 0. 1. 1. 1. 1. 0. 0. 0. 1. 0. 0. 1. 1. 0. 1. 0.\n",
      " 1. 1. 1. 1. 0. 0. 0.]\n"
     ]
    }
   ],
   "source": [
    "print(X2[1])\n",
    "print(X2[15499])\n"
   ]
  },
  {
   "cell_type": "code",
   "execution_count": 130,
   "metadata": {},
   "outputs": [
    {
     "name": "stdout",
     "output_type": "stream",
     "text": [
      "(15500,)\n",
      "1.0\n",
      "0.0\n"
     ]
    }
   ],
   "source": [
    "Y2 = new_data[:,32]\n",
    "print(np.shape(Y2))\n",
    "print(Y2[1])\n",
    "print(Y2[15499])"
   ]
  },
  {
   "cell_type": "code",
   "execution_count": 123,
   "metadata": {},
   "outputs": [
    {
     "name": "stdout",
     "output_type": "stream",
     "text": [
      "(15500, 31)\n"
     ]
    }
   ],
   "source": [
    "print(np.shape(X2))"
   ]
  },
  {
   "cell_type": "code",
   "execution_count": null,
   "metadata": {},
   "outputs": [],
   "source": [
    "print(np.shape(new_data))"
   ]
  },
  {
   "cell_type": "code",
   "execution_count": 107,
   "metadata": {},
   "outputs": [
    {
     "data": {
      "text/html": [
       "<div>\n",
       "<style scoped>\n",
       "    .dataframe tbody tr th:only-of-type {\n",
       "        vertical-align: middle;\n",
       "    }\n",
       "\n",
       "    .dataframe tbody tr th {\n",
       "        vertical-align: top;\n",
       "    }\n",
       "\n",
       "    .dataframe thead th {\n",
       "        text-align: right;\n",
       "    }\n",
       "</style>\n",
       "<table border=\"1\" class=\"dataframe\">\n",
       "  <thead>\n",
       "    <tr style=\"text-align: right;\">\n",
       "      <th></th>\n",
       "      <th>0</th>\n",
       "      <th>1</th>\n",
       "      <th>2</th>\n",
       "      <th>3</th>\n",
       "      <th>4</th>\n",
       "      <th>5</th>\n",
       "      <th>6</th>\n",
       "      <th>7</th>\n",
       "      <th>8</th>\n",
       "      <th>9</th>\n",
       "      <th>...</th>\n",
       "      <th>22</th>\n",
       "      <th>23</th>\n",
       "      <th>24</th>\n",
       "      <th>25</th>\n",
       "      <th>26</th>\n",
       "      <th>27</th>\n",
       "      <th>28</th>\n",
       "      <th>29</th>\n",
       "      <th>30</th>\n",
       "      <th>Label</th>\n",
       "    </tr>\n",
       "  </thead>\n",
       "  <tbody>\n",
       "    <tr>\n",
       "      <th>0</th>\n",
       "      <td>1</td>\n",
       "      <td>0</td>\n",
       "      <td>0</td>\n",
       "      <td>0</td>\n",
       "      <td>0</td>\n",
       "      <td>1</td>\n",
       "      <td>0</td>\n",
       "      <td>0</td>\n",
       "      <td>1</td>\n",
       "      <td>0</td>\n",
       "      <td>...</td>\n",
       "      <td>1</td>\n",
       "      <td>1</td>\n",
       "      <td>0</td>\n",
       "      <td>1</td>\n",
       "      <td>1</td>\n",
       "      <td>1</td>\n",
       "      <td>0</td>\n",
       "      <td>1</td>\n",
       "      <td>0</td>\n",
       "      <td>1</td>\n",
       "    </tr>\n",
       "    <tr>\n",
       "      <th>1</th>\n",
       "      <td>1</td>\n",
       "      <td>0</td>\n",
       "      <td>0</td>\n",
       "      <td>0</td>\n",
       "      <td>0</td>\n",
       "      <td>1</td>\n",
       "      <td>0</td>\n",
       "      <td>0</td>\n",
       "      <td>1</td>\n",
       "      <td>0</td>\n",
       "      <td>...</td>\n",
       "      <td>1</td>\n",
       "      <td>1</td>\n",
       "      <td>0</td>\n",
       "      <td>1</td>\n",
       "      <td>1</td>\n",
       "      <td>1</td>\n",
       "      <td>0</td>\n",
       "      <td>1</td>\n",
       "      <td>0</td>\n",
       "      <td>1</td>\n",
       "    </tr>\n",
       "    <tr>\n",
       "      <th>2</th>\n",
       "      <td>1</td>\n",
       "      <td>0</td>\n",
       "      <td>0</td>\n",
       "      <td>0</td>\n",
       "      <td>0</td>\n",
       "      <td>1</td>\n",
       "      <td>0</td>\n",
       "      <td>0</td>\n",
       "      <td>1</td>\n",
       "      <td>0</td>\n",
       "      <td>...</td>\n",
       "      <td>1</td>\n",
       "      <td>1</td>\n",
       "      <td>0</td>\n",
       "      <td>1</td>\n",
       "      <td>1</td>\n",
       "      <td>1</td>\n",
       "      <td>0</td>\n",
       "      <td>1</td>\n",
       "      <td>0</td>\n",
       "      <td>1</td>\n",
       "    </tr>\n",
       "    <tr>\n",
       "      <th>3</th>\n",
       "      <td>1</td>\n",
       "      <td>0</td>\n",
       "      <td>0</td>\n",
       "      <td>0</td>\n",
       "      <td>0</td>\n",
       "      <td>1</td>\n",
       "      <td>0</td>\n",
       "      <td>0</td>\n",
       "      <td>1</td>\n",
       "      <td>0</td>\n",
       "      <td>...</td>\n",
       "      <td>1</td>\n",
       "      <td>1</td>\n",
       "      <td>0</td>\n",
       "      <td>1</td>\n",
       "      <td>1</td>\n",
       "      <td>1</td>\n",
       "      <td>0</td>\n",
       "      <td>1</td>\n",
       "      <td>0</td>\n",
       "      <td>1</td>\n",
       "    </tr>\n",
       "    <tr>\n",
       "      <th>4</th>\n",
       "      <td>1</td>\n",
       "      <td>0</td>\n",
       "      <td>0</td>\n",
       "      <td>0</td>\n",
       "      <td>0</td>\n",
       "      <td>1</td>\n",
       "      <td>0</td>\n",
       "      <td>0</td>\n",
       "      <td>1</td>\n",
       "      <td>0</td>\n",
       "      <td>...</td>\n",
       "      <td>1</td>\n",
       "      <td>1</td>\n",
       "      <td>0</td>\n",
       "      <td>1</td>\n",
       "      <td>1</td>\n",
       "      <td>1</td>\n",
       "      <td>0</td>\n",
       "      <td>1</td>\n",
       "      <td>0</td>\n",
       "      <td>1</td>\n",
       "    </tr>\n",
       "  </tbody>\n",
       "</table>\n",
       "<p>5 rows × 32 columns</p>\n",
       "</div>"
      ],
      "text/plain": [
       "   0  1  2  3  4  5  6  7  8  9  ...  22  23  24  25  26  27  28  29  30  \\\n",
       "0  1  0  0  0  0  1  0  0  1  0  ...   1   1   0   1   1   1   0   1   0   \n",
       "1  1  0  0  0  0  1  0  0  1  0  ...   1   1   0   1   1   1   0   1   0   \n",
       "2  1  0  0  0  0  1  0  0  1  0  ...   1   1   0   1   1   1   0   1   0   \n",
       "3  1  0  0  0  0  1  0  0  1  0  ...   1   1   0   1   1   1   0   1   0   \n",
       "4  1  0  0  0  0  1  0  0  1  0  ...   1   1   0   1   1   1   0   1   0   \n",
       "\n",
       "   Label  \n",
       "0      1  \n",
       "1      1  \n",
       "2      1  \n",
       "3      1  \n",
       "4      1  \n",
       "\n",
       "[5 rows x 32 columns]"
      ]
     },
     "execution_count": 107,
     "metadata": {},
     "output_type": "execute_result"
    }
   ],
   "source": [
    "flip_bits_dataset.head()"
   ]
  },
  {
   "cell_type": "code",
   "execution_count": 74,
   "metadata": {},
   "outputs": [
    {
     "name": "stdout",
     "output_type": "stream",
     "text": [
      "15500\n"
     ]
    }
   ],
   "source": [
    "print(len(flip_bits_dataset))"
   ]
  },
  {
   "cell_type": "code",
   "execution_count": null,
   "metadata": {},
   "outputs": [],
   "source": []
  },
  {
   "cell_type": "code",
   "execution_count": 75,
   "metadata": {},
   "outputs": [],
   "source": [
    "flip_bits_dataset = shuffle(flip_bits_dataset)"
   ]
  },
  {
   "cell_type": "code",
   "execution_count": 78,
   "metadata": {},
   "outputs": [
    {
     "data": {
      "text/html": [
       "<div>\n",
       "<style scoped>\n",
       "    .dataframe tbody tr th:only-of-type {\n",
       "        vertical-align: middle;\n",
       "    }\n",
       "\n",
       "    .dataframe tbody tr th {\n",
       "        vertical-align: top;\n",
       "    }\n",
       "\n",
       "    .dataframe thead th {\n",
       "        text-align: right;\n",
       "    }\n",
       "</style>\n",
       "<table border=\"1\" class=\"dataframe\">\n",
       "  <thead>\n",
       "    <tr style=\"text-align: right;\">\n",
       "      <th></th>\n",
       "      <th>0</th>\n",
       "      <th>1</th>\n",
       "      <th>2</th>\n",
       "      <th>3</th>\n",
       "      <th>4</th>\n",
       "      <th>5</th>\n",
       "      <th>6</th>\n",
       "      <th>7</th>\n",
       "      <th>8</th>\n",
       "      <th>9</th>\n",
       "      <th>...</th>\n",
       "      <th>22</th>\n",
       "      <th>23</th>\n",
       "      <th>24</th>\n",
       "      <th>25</th>\n",
       "      <th>26</th>\n",
       "      <th>27</th>\n",
       "      <th>28</th>\n",
       "      <th>29</th>\n",
       "      <th>30</th>\n",
       "      <th>Label</th>\n",
       "    </tr>\n",
       "  </thead>\n",
       "  <tbody>\n",
       "    <tr>\n",
       "      <th>8960</th>\n",
       "      <td>0</td>\n",
       "      <td>0</td>\n",
       "      <td>1</td>\n",
       "      <td>0</td>\n",
       "      <td>1</td>\n",
       "      <td>0</td>\n",
       "      <td>0</td>\n",
       "      <td>0</td>\n",
       "      <td>0</td>\n",
       "      <td>0</td>\n",
       "      <td>...</td>\n",
       "      <td>0</td>\n",
       "      <td>0</td>\n",
       "      <td>0</td>\n",
       "      <td>0</td>\n",
       "      <td>0</td>\n",
       "      <td>0</td>\n",
       "      <td>0</td>\n",
       "      <td>0</td>\n",
       "      <td>0</td>\n",
       "      <td>0</td>\n",
       "    </tr>\n",
       "    <tr>\n",
       "      <th>164</th>\n",
       "      <td>1</td>\n",
       "      <td>0</td>\n",
       "      <td>0</td>\n",
       "      <td>0</td>\n",
       "      <td>0</td>\n",
       "      <td>1</td>\n",
       "      <td>0</td>\n",
       "      <td>0</td>\n",
       "      <td>1</td>\n",
       "      <td>0</td>\n",
       "      <td>...</td>\n",
       "      <td>1</td>\n",
       "      <td>1</td>\n",
       "      <td>0</td>\n",
       "      <td>1</td>\n",
       "      <td>1</td>\n",
       "      <td>1</td>\n",
       "      <td>0</td>\n",
       "      <td>1</td>\n",
       "      <td>0</td>\n",
       "      <td>1</td>\n",
       "    </tr>\n",
       "    <tr>\n",
       "      <th>9607</th>\n",
       "      <td>1</td>\n",
       "      <td>0</td>\n",
       "      <td>1</td>\n",
       "      <td>0</td>\n",
       "      <td>0</td>\n",
       "      <td>0</td>\n",
       "      <td>0</td>\n",
       "      <td>0</td>\n",
       "      <td>0</td>\n",
       "      <td>0</td>\n",
       "      <td>...</td>\n",
       "      <td>0</td>\n",
       "      <td>0</td>\n",
       "      <td>0</td>\n",
       "      <td>0</td>\n",
       "      <td>0</td>\n",
       "      <td>0</td>\n",
       "      <td>0</td>\n",
       "      <td>0</td>\n",
       "      <td>0</td>\n",
       "      <td>0</td>\n",
       "    </tr>\n",
       "    <tr>\n",
       "      <th>13263</th>\n",
       "      <td>1</td>\n",
       "      <td>1</td>\n",
       "      <td>0</td>\n",
       "      <td>1</td>\n",
       "      <td>0</td>\n",
       "      <td>1</td>\n",
       "      <td>1</td>\n",
       "      <td>1</td>\n",
       "      <td>0</td>\n",
       "      <td>0</td>\n",
       "      <td>...</td>\n",
       "      <td>0</td>\n",
       "      <td>0</td>\n",
       "      <td>1</td>\n",
       "      <td>0</td>\n",
       "      <td>1</td>\n",
       "      <td>1</td>\n",
       "      <td>1</td>\n",
       "      <td>0</td>\n",
       "      <td>0</td>\n",
       "      <td>0</td>\n",
       "    </tr>\n",
       "    <tr>\n",
       "      <th>7744</th>\n",
       "      <td>0</td>\n",
       "      <td>0</td>\n",
       "      <td>0</td>\n",
       "      <td>0</td>\n",
       "      <td>0</td>\n",
       "      <td>0</td>\n",
       "      <td>0</td>\n",
       "      <td>0</td>\n",
       "      <td>0</td>\n",
       "      <td>0</td>\n",
       "      <td>...</td>\n",
       "      <td>0</td>\n",
       "      <td>0</td>\n",
       "      <td>0</td>\n",
       "      <td>0</td>\n",
       "      <td>0</td>\n",
       "      <td>0</td>\n",
       "      <td>0</td>\n",
       "      <td>0</td>\n",
       "      <td>0</td>\n",
       "      <td>0</td>\n",
       "    </tr>\n",
       "  </tbody>\n",
       "</table>\n",
       "<p>5 rows × 32 columns</p>\n",
       "</div>"
      ],
      "text/plain": [
       "       0  1  2  3  4  5  6  7  8  9  ...  22  23  24  25  26  27  28  29  30  \\\n",
       "8960   0  0  1  0  1  0  0  0  0  0  ...   0   0   0   0   0   0   0   0   0   \n",
       "164    1  0  0  0  0  1  0  0  1  0  ...   1   1   0   1   1   1   0   1   0   \n",
       "9607   1  0  1  0  0  0  0  0  0  0  ...   0   0   0   0   0   0   0   0   0   \n",
       "13263  1  1  0  1  0  1  1  1  0  0  ...   0   0   1   0   1   1   1   0   0   \n",
       "7744   0  0  0  0  0  0  0  0  0  0  ...   0   0   0   0   0   0   0   0   0   \n",
       "\n",
       "       Label  \n",
       "8960       0  \n",
       "164        1  \n",
       "9607       0  \n",
       "13263      0  \n",
       "7744       0  \n",
       "\n",
       "[5 rows x 32 columns]"
      ]
     },
     "execution_count": 78,
     "metadata": {},
     "output_type": "execute_result"
    }
   ],
   "source": [
    "flip_bits_dataset.tail()"
   ]
  },
  {
   "cell_type": "code",
   "execution_count": 35,
   "metadata": {},
   "outputs": [
    {
     "data": {
      "text/plain": [
       "3284     1\n",
       "1794     0\n",
       "8800     0\n",
       "15283    0\n",
       "2947     0\n",
       "        ..\n",
       "1616     1\n",
       "4897     1\n",
       "6307     1\n",
       "5868     0\n",
       "3726     0\n",
       "Name: 0, Length: 15500, dtype: int64"
      ]
     },
     "execution_count": 35,
     "metadata": {},
     "output_type": "execute_result"
    }
   ],
   "source": [
    "flip_bits_dataset['0']"
   ]
  },
  {
   "cell_type": "code",
   "execution_count": 79,
   "metadata": {},
   "outputs": [
    {
     "name": "stdout",
     "output_type": "stream",
     "text": [
      "(15500, 31)\n"
     ]
    }
   ],
   "source": [
    "X1 = []\n",
    "\n",
    "for i in range(0,  len(flip_bits_dataset)):\n",
    "    X1.append([flip_bits_dataset['0'][i], \n",
    "               flip_bits_dataset['1'][i],\n",
    "               flip_bits_dataset['2'][i],\n",
    "               flip_bits_dataset['3'][i],\n",
    "               flip_bits_dataset['4'][i],\n",
    "               flip_bits_dataset['5'][i],\n",
    "               flip_bits_dataset['6'][i],\n",
    "               flip_bits_dataset['7'][i],\n",
    "               flip_bits_dataset['8'][i],\n",
    "               flip_bits_dataset['9'][i],\n",
    "               flip_bits_dataset['10'][i],\n",
    "               flip_bits_dataset['11'][i],\n",
    "               flip_bits_dataset['12'][i],\n",
    "               flip_bits_dataset['13'][i],\n",
    "               flip_bits_dataset['14'][i],\n",
    "               flip_bits_dataset['15'][i],\n",
    "               flip_bits_dataset['16'][i],\n",
    "               flip_bits_dataset['17'][i],\n",
    "               flip_bits_dataset['18'][i],\n",
    "               flip_bits_dataset['19'][i],\n",
    "               flip_bits_dataset['20'][i],\n",
    "               flip_bits_dataset['21'][i],\n",
    "               flip_bits_dataset['22'][i],\n",
    "               flip_bits_dataset['23'][i],\n",
    "               flip_bits_dataset['24'][i],\n",
    "               flip_bits_dataset['25'][i],\n",
    "               flip_bits_dataset['26'][i],\n",
    "               flip_bits_dataset['27'][i],\n",
    "               flip_bits_dataset['28'][i],\n",
    "               flip_bits_dataset['29'][i],\n",
    "               flip_bits_dataset['30'][i]])\n",
    "    \n",
    "print(np.shape(X1))"
   ]
  },
  {
   "cell_type": "code",
   "execution_count": 105,
   "metadata": {},
   "outputs": [
    {
     "data": {
      "text/html": [
       "<div>\n",
       "<style scoped>\n",
       "    .dataframe tbody tr th:only-of-type {\n",
       "        vertical-align: middle;\n",
       "    }\n",
       "\n",
       "    .dataframe tbody tr th {\n",
       "        vertical-align: top;\n",
       "    }\n",
       "\n",
       "    .dataframe thead th {\n",
       "        text-align: right;\n",
       "    }\n",
       "</style>\n",
       "<table border=\"1\" class=\"dataframe\">\n",
       "  <thead>\n",
       "    <tr style=\"text-align: right;\">\n",
       "      <th></th>\n",
       "      <th>0</th>\n",
       "      <th>1</th>\n",
       "      <th>2</th>\n",
       "      <th>3</th>\n",
       "      <th>4</th>\n",
       "      <th>5</th>\n",
       "      <th>6</th>\n",
       "      <th>7</th>\n",
       "      <th>8</th>\n",
       "      <th>9</th>\n",
       "      <th>...</th>\n",
       "      <th>22</th>\n",
       "      <th>23</th>\n",
       "      <th>24</th>\n",
       "      <th>25</th>\n",
       "      <th>26</th>\n",
       "      <th>27</th>\n",
       "      <th>28</th>\n",
       "      <th>29</th>\n",
       "      <th>30</th>\n",
       "      <th>Label</th>\n",
       "    </tr>\n",
       "  </thead>\n",
       "  <tbody>\n",
       "    <tr>\n",
       "      <th>5120</th>\n",
       "      <td>1</td>\n",
       "      <td>1</td>\n",
       "      <td>0</td>\n",
       "      <td>1</td>\n",
       "      <td>0</td>\n",
       "      <td>1</td>\n",
       "      <td>0</td>\n",
       "      <td>0</td>\n",
       "      <td>0</td>\n",
       "      <td>0</td>\n",
       "      <td>...</td>\n",
       "      <td>1</td>\n",
       "      <td>1</td>\n",
       "      <td>0</td>\n",
       "      <td>0</td>\n",
       "      <td>0</td>\n",
       "      <td>1</td>\n",
       "      <td>1</td>\n",
       "      <td>0</td>\n",
       "      <td>1</td>\n",
       "      <td>0</td>\n",
       "    </tr>\n",
       "    <tr>\n",
       "      <th>8900</th>\n",
       "      <td>1</td>\n",
       "      <td>0</td>\n",
       "      <td>0</td>\n",
       "      <td>0</td>\n",
       "      <td>1</td>\n",
       "      <td>0</td>\n",
       "      <td>0</td>\n",
       "      <td>0</td>\n",
       "      <td>1</td>\n",
       "      <td>0</td>\n",
       "      <td>...</td>\n",
       "      <td>0</td>\n",
       "      <td>0</td>\n",
       "      <td>1</td>\n",
       "      <td>0</td>\n",
       "      <td>0</td>\n",
       "      <td>0</td>\n",
       "      <td>1</td>\n",
       "      <td>0</td>\n",
       "      <td>0</td>\n",
       "      <td>0</td>\n",
       "    </tr>\n",
       "    <tr>\n",
       "      <th>4313</th>\n",
       "      <td>1</td>\n",
       "      <td>0</td>\n",
       "      <td>1</td>\n",
       "      <td>1</td>\n",
       "      <td>1</td>\n",
       "      <td>0</td>\n",
       "      <td>1</td>\n",
       "      <td>0</td>\n",
       "      <td>1</td>\n",
       "      <td>0</td>\n",
       "      <td>...</td>\n",
       "      <td>1</td>\n",
       "      <td>1</td>\n",
       "      <td>1</td>\n",
       "      <td>1</td>\n",
       "      <td>1</td>\n",
       "      <td>0</td>\n",
       "      <td>0</td>\n",
       "      <td>0</td>\n",
       "      <td>1</td>\n",
       "      <td>0</td>\n",
       "    </tr>\n",
       "    <tr>\n",
       "      <th>2940</th>\n",
       "      <td>0</td>\n",
       "      <td>1</td>\n",
       "      <td>1</td>\n",
       "      <td>0</td>\n",
       "      <td>0</td>\n",
       "      <td>1</td>\n",
       "      <td>1</td>\n",
       "      <td>1</td>\n",
       "      <td>1</td>\n",
       "      <td>1</td>\n",
       "      <td>...</td>\n",
       "      <td>1</td>\n",
       "      <td>0</td>\n",
       "      <td>0</td>\n",
       "      <td>0</td>\n",
       "      <td>0</td>\n",
       "      <td>1</td>\n",
       "      <td>0</td>\n",
       "      <td>0</td>\n",
       "      <td>1</td>\n",
       "      <td>0</td>\n",
       "    </tr>\n",
       "    <tr>\n",
       "      <th>4259</th>\n",
       "      <td>0</td>\n",
       "      <td>1</td>\n",
       "      <td>0</td>\n",
       "      <td>0</td>\n",
       "      <td>1</td>\n",
       "      <td>0</td>\n",
       "      <td>1</td>\n",
       "      <td>1</td>\n",
       "      <td>0</td>\n",
       "      <td>0</td>\n",
       "      <td>...</td>\n",
       "      <td>1</td>\n",
       "      <td>1</td>\n",
       "      <td>0</td>\n",
       "      <td>1</td>\n",
       "      <td>0</td>\n",
       "      <td>1</td>\n",
       "      <td>0</td>\n",
       "      <td>0</td>\n",
       "      <td>0</td>\n",
       "      <td>0</td>\n",
       "    </tr>\n",
       "  </tbody>\n",
       "</table>\n",
       "<p>5 rows × 32 columns</p>\n",
       "</div>"
      ],
      "text/plain": [
       "      0  1  2  3  4  5  6  7  8  9  ...  22  23  24  25  26  27  28  29  30  \\\n",
       "5120  1  1  0  1  0  1  0  0  0  0  ...   1   1   0   0   0   1   1   0   1   \n",
       "8900  1  0  0  0  1  0  0  0  1  0  ...   0   0   1   0   0   0   1   0   0   \n",
       "4313  1  0  1  1  1  0  1  0  1  0  ...   1   1   1   1   1   0   0   0   1   \n",
       "2940  0  1  1  0  0  1  1  1  1  1  ...   1   0   0   0   0   1   0   0   1   \n",
       "4259  0  1  0  0  1  0  1  1  0  0  ...   1   1   0   1   0   1   0   0   0   \n",
       "\n",
       "      Label  \n",
       "5120      0  \n",
       "8900      0  \n",
       "4313      0  \n",
       "2940      0  \n",
       "4259      0  \n",
       "\n",
       "[5 rows x 32 columns]"
      ]
     },
     "execution_count": 105,
     "metadata": {},
     "output_type": "execute_result"
    }
   ],
   "source": [
    "flip_bits_dataset.head()"
   ]
  },
  {
   "cell_type": "code",
   "execution_count": null,
   "metadata": {},
   "outputs": [],
   "source": [
    "print(np.shape(X1))"
   ]
  },
  {
   "cell_type": "code",
   "execution_count": 95,
   "metadata": {},
   "outputs": [],
   "source": [
    "y = flip_bits_dataset['Label'].to_numpy()"
   ]
  },
  {
   "cell_type": "code",
   "execution_count": 96,
   "metadata": {},
   "outputs": [
    {
     "name": "stdout",
     "output_type": "stream",
     "text": [
      "(15500, 31)\n",
      "(15500,)\n"
     ]
    }
   ],
   "source": [
    "print(np.shape(X1))\n",
    "print(np.shape(y))"
   ]
  },
  {
   "cell_type": "code",
   "execution_count": 102,
   "metadata": {},
   "outputs": [
    {
     "name": "stdout",
     "output_type": "stream",
     "text": [
      "1\n",
      "1\n",
      "0\n",
      "0\n"
     ]
    }
   ],
   "source": [
    "print(y[46])\n",
    "print(y[92])\n",
    "print(y[121])\n",
    "print(y[896])"
   ]
  },
  {
   "cell_type": "code",
   "execution_count": 103,
   "metadata": {},
   "outputs": [
    {
     "name": "stdout",
     "output_type": "stream",
     "text": [
      "[1, 0, 0, 0, 0, 1, 0, 0, 1, 0, 1, 1, 0, 0, 1, 1, 1, 1, 1, 0, 0, 0, 1, 1, 0, 1, 1, 1, 0, 1, 0]\n",
      "[1, 0, 0, 0, 0, 1, 0, 0, 1, 0, 1, 1, 0, 0, 1, 1, 1, 1, 1, 0, 0, 0, 1, 1, 0, 1, 1, 1, 0, 1, 0]\n",
      "[1, 0, 0, 0, 0, 1, 0, 0, 1, 0, 1, 1, 0, 0, 1, 1, 1, 1, 1, 0, 0, 0, 1, 1, 0, 1, 1, 1, 0, 1, 0]\n",
      "[0, 1, 0, 1, 0, 0, 0, 0, 1, 0, 0, 1, 0, 1, 1, 0, 0, 1, 1, 1, 1, 1, 0, 0, 0, 1, 1, 0, 1, 1, 1]\n"
     ]
    }
   ],
   "source": [
    "print(X1[46])\n",
    "print(X1[92])\n",
    "print(X1[121])\n",
    "print(X1[896])"
   ]
  },
  {
   "cell_type": "code",
   "execution_count": 100,
   "metadata": {},
   "outputs": [
    {
     "name": "stdout",
     "output_type": "stream",
     "text": [
      "(array([   46,    92,   116,   120,   139,   159,   161,   271,   341,\n",
      "         387,   398,   409,   419,   460,   485,   632,   642,   645,\n",
      "         684,   702,   713,   736,   759,   784,   789,   795,   855,\n",
      "         895,   969,  1020,  1059,  1086,  1183,  1202,  1208,  1260,\n",
      "        1285,  1331,  1349,  1358,  1394,  1638,  1654,  1671,  1680,\n",
      "        1684,  1696,  1712,  1724,  1885,  1899,  1904,  1907,  1935,\n",
      "        1949,  1987,  1999,  2018,  2046,  2070,  2098,  2101,  2114,\n",
      "        2191,  2214,  2305,  2327,  2381,  2521,  2571,  2618,  2760,\n",
      "        2769,  2873,  3010,  3019,  3037,  3039,  3060,  3078,  3096,\n",
      "        3138,  3142,  3211,  3239,  3266,  3269,  3314,  3328,  3457,\n",
      "        3465,  3572,  3574,  3630,  3682,  3683,  3736,  3749,  3781,\n",
      "        3801,  3818,  3833,  3966,  3977,  3987,  4009,  4027,  4040,\n",
      "        4042,  4073,  4149,  4245,  4332,  4335,  4350,  4396,  4402,\n",
      "        4427,  4477,  4503,  4540,  4548,  4560,  4586,  4599,  4646,\n",
      "        4658,  4681,  4695,  4714,  4726,  4755,  4804,  4815,  4836,\n",
      "        4869,  4874,  4885,  4899,  4900,  4916,  4946,  4965,  4974,\n",
      "        4989,  5020,  5030,  5033,  5083,  5095,  5109,  5121,  5123,\n",
      "        5165,  5182,  5280,  5288,  5307,  5394,  5467,  5472,  5473,\n",
      "        5514,  5585,  5589,  5674,  5686,  5724,  5734,  5748,  5749,\n",
      "        5772,  5777,  5795,  5801,  5820,  5883,  5928,  6030,  6032,\n",
      "        6051,  6054,  6073,  6079,  6218,  6224,  6269,  6320,  6331,\n",
      "        6449,  6466,  6516,  6529,  6530,  6564,  6586,  6592,  6600,\n",
      "        6635,  6639,  6655,  6671,  6682,  6693,  6710,  6724,  6779,\n",
      "        6813,  6850,  6889,  6930,  6933,  6941,  6953,  6964,  7047,\n",
      "        7048,  7116,  7166,  7246,  7283,  7286,  7363,  7366,  7372,\n",
      "        7415,  7418,  7430,  7438,  7472,  7496,  7501,  7515,  7549,\n",
      "        7559,  7595,  7614,  7624,  7636,  7681,  7702,  7706,  7748,\n",
      "        7766,  7788,  7815,  7879,  7892,  7896,  7937,  7954,  7963,\n",
      "        8014,  8018,  8056,  8079,  8112,  8152,  8233,  8259,  8279,\n",
      "        8288,  8289,  8307,  8336,  8382,  8413,  8450,  8478,  8479,\n",
      "        8484,  8575,  8616,  8621,  8648,  8680,  8681,  8716,  8729,\n",
      "        8736,  8756,  8779,  8851,  8853,  8884,  8933,  8941,  8959,\n",
      "        9009,  9034,  9118,  9138,  9149,  9188,  9248,  9251,  9268,\n",
      "        9291,  9401,  9418,  9473,  9482,  9508,  9511,  9537,  9610,\n",
      "        9622,  9642,  9682,  9705,  9726,  9735,  9740,  9854,  9864,\n",
      "        9878,  9910,  9914,  9951,  9967,  9973, 10017, 10055, 10088,\n",
      "       10092, 10105, 10123, 10133, 10138, 10151, 10159, 10188, 10190,\n",
      "       10305, 10316, 10318, 10388, 10404, 10424, 10515, 10525, 10600,\n",
      "       10636, 10658, 10716, 10728, 10740, 10757, 10868, 10896, 10924,\n",
      "       10927, 11008, 11031, 11039, 11059, 11070, 11235, 11387, 11394,\n",
      "       11403, 11420, 11440, 11481, 11509, 11536, 11539, 11590, 11620,\n",
      "       11626, 11653, 11654, 11680, 11690, 11752, 11783, 11785, 11848,\n",
      "       11951, 11962, 11964, 11980, 12055, 12085, 12101, 12129, 12192,\n",
      "       12199, 12251, 12274, 12276, 12286, 12303, 12323, 12357, 12385,\n",
      "       12451, 12455, 12469, 12510, 12531, 12533, 12534, 12547, 12588,\n",
      "       12705, 12918, 12945, 12969, 12978, 13039, 13066, 13068, 13080,\n",
      "       13090, 13099, 13116, 13118, 13125, 13158, 13168, 13215, 13222,\n",
      "       13223, 13317, 13402, 13426, 13466, 13526, 13546, 13577, 13581,\n",
      "       13615, 13643, 13647, 13665, 13682, 13776, 13814, 13969, 14005,\n",
      "       14037, 14082, 14095, 14153, 14163, 14168, 14185, 14218, 14219,\n",
      "       14252, 14274, 14308, 14313, 14318, 14352, 14376, 14391, 14447,\n",
      "       14487, 14489, 14515, 14531, 14543, 14557, 14571, 14582, 14642,\n",
      "       14652, 14700, 14746, 14768, 14810, 14866, 14869, 14905, 14906,\n",
      "       14909, 14944, 14996, 15012, 15038, 15052, 15060, 15106, 15116,\n",
      "       15138, 15155, 15238, 15249, 15280, 15298, 15318, 15335, 15344,\n",
      "       15362, 15387, 15391, 15406, 15496]),)\n"
     ]
    }
   ],
   "source": [
    "x = np.where(y == 1)\n",
    "print(x)"
   ]
  },
  {
   "cell_type": "code",
   "execution_count": 138,
   "metadata": {},
   "outputs": [],
   "source": [
    "X_train, X_test, y_train, y_test = train_test_split(X2, Y2, test_size=0.25, random_state=42)"
   ]
  },
  {
   "cell_type": "code",
   "execution_count": 139,
   "metadata": {},
   "outputs": [
    {
     "name": "stdout",
     "output_type": "stream",
     "text": [
      "(11625, 31)\n",
      "(3875, 31)\n",
      "(11625,)\n",
      "(3875,)\n"
     ]
    }
   ],
   "source": [
    "print(np.shape(X_train))\n",
    "print(np.shape(X_test))\n",
    "print(np.shape(y_train))\n",
    "print(np.shape(y_test))"
   ]
  },
  {
   "cell_type": "code",
   "execution_count": 145,
   "metadata": {},
   "outputs": [
    {
     "name": "stdout",
     "output_type": "stream",
     "text": [
      "(array([    4,    16,    53,    63,    72,    88,    99,   118,   144,\n",
      "         166,   195,   203,   219,   269,   281,   296,   301,   357,\n",
      "         361,   418,   419,   437,   445,   564,   575,   666,   729,\n",
      "         778,   869,   941,  1000,  1034,  1062,  1110,  1178,  1181,\n",
      "        1197,  1207,  1221,  1258,  1276,  1284,  1300,  1303,  1322,\n",
      "        1394,  1465,  1471,  1476,  1514,  1599,  1603,  1700,  1727,\n",
      "        1736,  1758,  1801,  1877,  1908,  1948,  1979,  2048,  2063,\n",
      "        2095,  2102,  2152,  2158,  2180,  2206,  2256,  2258,  2268,\n",
      "        2275,  2324,  2353,  2416,  2428,  2436,  2442,  2446,  2590,\n",
      "        2621,  2669,  2730,  2763,  2808,  2832,  2838,  2863,  2941,\n",
      "        2946,  2953,  2962,  2968,  3066,  3122,  3140,  3154,  3196,\n",
      "        3206,  3237,  3269,  3273,  3338,  3351,  3419,  3499,  3501,\n",
      "        3532,  3561,  3619,  3622,  3661,  3682,  3733,  3768,  3774,\n",
      "        3792,  3811,  3846,  3879,  3885,  3953,  3964,  4007,  4028,\n",
      "        4076,  4083,  4092,  4117,  4132,  4160,  4161,  4168,  4224,\n",
      "        4234,  4249,  4265,  4400,  4416,  4435,  4482,  4487,  4542,\n",
      "        4550,  4601,  4608,  4612,  4630,  4650,  4691,  4702,  4761,\n",
      "        4785,  4792,  4895,  4901,  4975,  4979,  4990,  5011,  5039,\n",
      "        5092,  5140,  5172,  5237,  5240,  5329,  5362,  5385,  5405,\n",
      "        5438,  5456,  5495,  5527,  5538,  5552,  5566,  5569,  5574,\n",
      "        5579,  5611,  5664,  5706,  5757,  5824,  5827,  5881,  5898,\n",
      "        5926,  5954,  6033,  6040,  6056,  6068,  6079,  6082,  6101,\n",
      "        6121,  6130,  6188,  6221,  6322,  6333,  6374,  6375,  6394,\n",
      "        6398,  6412,  6465,  6519,  6532,  6554,  6585,  6592,  6611,\n",
      "        6615,  6637,  6663,  6720,  6729,  6809,  6812,  6823,  6828,\n",
      "        6843,  6855,  6890,  6909,  6926,  6949,  6981,  6988,  6994,\n",
      "        7132,  7166,  7179,  7325,  7381,  7398,  7432,  7458,  7476,\n",
      "        7502,  7579,  7580,  7583,  7637,  7669,  7679,  7719,  7734,\n",
      "        7741,  7787,  7839,  7850,  7859,  7895,  7931,  7942,  7959,\n",
      "        7970,  7984,  8029,  8078,  8079,  8098,  8101,  8151,  8218,\n",
      "        8229,  8345,  8388,  8403,  8521,  8525,  8547,  8569,  8571,\n",
      "        8598,  8753,  8772,  8773,  8782,  8839,  8881,  8957,  8969,\n",
      "        8985,  9020,  9039,  9127,  9167,  9193,  9202,  9248,  9252,\n",
      "        9268,  9294,  9298,  9299,  9324,  9329,  9340,  9355,  9379,\n",
      "        9455,  9500,  9527,  9554,  9572,  9681,  9701,  9741,  9771,\n",
      "        9801,  9809,  9833,  9841,  9842,  9901,  9916, 10017, 10149,\n",
      "       10170, 10186, 10216, 10266, 10294, 10318, 10338, 10356, 10364,\n",
      "       10413, 10422, 10454, 10462, 10464, 10549, 10602, 10636, 10637,\n",
      "       10667, 10671, 10746, 10863, 10908, 10918, 11063, 11128, 11153,\n",
      "       11160, 11190, 11236, 11276, 11320, 11330, 11443, 11485, 11496,\n",
      "       11527, 11582, 11615]),)\n",
      "(1, 363)\n"
     ]
    }
   ],
   "source": [
    "x = np.where(y_train == 1)\n",
    "print(x[:2])\n",
    "print(np.shape(x))"
   ]
  },
  {
   "cell_type": "code",
   "execution_count": 147,
   "metadata": {},
   "outputs": [
    {
     "name": "stdout",
     "output_type": "stream",
     "text": [
      "[1. 0. 0. 0. 0. 1. 0. 0. 1. 0. 1. 1. 0. 0. 1. 1. 1. 1. 1. 0. 0. 0. 1. 1.\n",
      " 0. 1. 1. 1. 0. 1. 0.]\n",
      "[1. 0. 0. 0. 0. 1. 0. 0. 1. 0. 1. 1. 0. 0. 1. 1. 1. 1. 1. 0. 0. 0. 1. 1.\n",
      " 0. 1. 1. 1. 0. 1. 0.]\n",
      "[0. 1. 1. 0. 1. 1. 1. 1. 0. 0. 1. 0. 0. 0. 0. 1. 1. 0. 1. 1. 1. 1. 0. 0.\n",
      " 1. 0. 0. 0. 0. 1. 1.]\n",
      "[1. 1. 0. 0. 1. 1. 1. 1. 1. 0. 0. 0. 1. 1. 0. 1. 1. 1. 0. 1. 0. 1. 0. 0.\n",
      " 0. 0. 1. 0. 0. 1. 0.]\n",
      "1.0\n",
      "1.0\n",
      "0.0\n",
      "0.0\n"
     ]
    }
   ],
   "source": [
    "print((X_train[4]))\n",
    "print((X_train[16]))\n",
    "print((X_train[5]))\n",
    "print((X_train[8346]))\n",
    "print((y_train[4]))\n",
    "print((y_train[16]))\n",
    "print((y_train[5]))\n",
    "print((y_train[8346]))\n"
   ]
  },
  {
   "cell_type": "code",
   "execution_count": null,
   "metadata": {},
   "outputs": [],
   "source": []
  },
  {
   "cell_type": "code",
   "execution_count": 92,
   "metadata": {},
   "outputs": [
    {
     "name": "stdout",
     "output_type": "stream",
     "text": [
      "(array([   45,    70,    81,   120,   158,   196,   199,   256,   296,\n",
      "         305,   321,   357,   360,   401,   467,   759,   773,   833,\n",
      "         836,   891,   922,   929,   931,   953,  1051,  1064,  1067,\n",
      "        1147,  1148,  1208,  1246,  1251,  1260,  1269,  1280,  1400,\n",
      "        1413,  1426,  1451,  1471,  1485,  1518,  1571,  1586,  1609,\n",
      "        1682,  1715,  1736,  1741,  1753,  1831,  1892,  1940,  2068,\n",
      "        2097,  2208,  2216,  2240,  2251,  2267,  2301,  2312,  2379,\n",
      "        2517,  2518,  2574,  2640,  2664,  2690,  2716,  2737,  2768,\n",
      "        2799,  2800,  2807,  2854,  2865,  2880,  2912,  2935,  2947,\n",
      "        2963,  2969,  2982,  2991,  3007,  3023,  3089,  3103,  3170,\n",
      "        3188,  3193,  3204,  3232,  3244,  3251,  3305,  3307,  3345,\n",
      "        3365,  3432,  3440,  3473,  3531,  3535,  3551,  3556,  3557,\n",
      "        3607,  3615,  3619,  3626,  3664,  3719,  3742,  3769,  3777,\n",
      "        3793,  3801,  3822,  3893,  3896,  3944,  3997,  4043,  4067,\n",
      "        4068,  4079,  4083,  4085,  4098,  4112,  4131,  4149,  4152,\n",
      "        4189,  4207,  4260,  4279,  4425,  4444,  4453,  4602,  4606,\n",
      "        4670,  4698,  4708,  4772,  4850,  4875,  4909,  4957,  4965,\n",
      "        5024,  5055,  5066,  5070,  5120,  5122,  5182,  5202,  5234,\n",
      "        5248,  5373,  5383,  5409,  5427,  5431,  5493,  5499,  5560,\n",
      "        5563,  5592,  5594,  5630,  5668,  5677,  5715,  5719,  5728,\n",
      "        5766,  5782,  5808,  5831,  5891,  6020,  6036,  6039,  6126,\n",
      "        6130,  6178,  6183,  6198,  6229,  6238,  6247,  6264,  6298,\n",
      "        6311,  6313,  6337,  6370,  6381,  6386,  6387,  6454,  6464,\n",
      "        6490,  6561,  6605,  6646,  6704,  6716,  6720,  6761,  6779,\n",
      "        6798,  6815,  6825,  6828,  6843,  6886,  6933,  6943,  7000,\n",
      "        7007,  7012,  7063,  7100,  7219,  7257,  7264,  7309,  7321,\n",
      "        7332,  7342,  7364,  7373,  7377,  7400,  7414,  7417,  7502,\n",
      "        7602,  7640,  7692,  7706,  7714,  7727,  7729,  7789,  7806,\n",
      "        7908,  7910,  7973,  8053,  8056,  8057,  8059,  8064,  8125,\n",
      "        8139,  8169,  8203,  8239,  8277,  8284,  8341,  8354,  8372,\n",
      "        8374,  8375,  8381,  8387,  8401,  8429,  8487,  8524,  8598,\n",
      "        8601,  8644,  8745,  8886,  8902,  8931,  8935,  8941,  8969,\n",
      "        8989,  9031,  9037,  9097,  9134,  9152,  9161,  9279,  9303,\n",
      "        9339,  9369,  9371,  9375,  9432,  9466,  9497,  9514,  9533,\n",
      "        9640,  9730,  9740,  9784,  9812,  9828,  9836,  9855,  9862,\n",
      "        9864,  9912,  9927,  9964,  9976,  9995, 10003, 10006, 10052,\n",
      "       10074, 10090, 10096, 10099, 10103, 10128, 10129, 10150, 10166,\n",
      "       10199, 10253, 10344, 10369, 10405, 10415, 10443, 10490, 10522,\n",
      "       10555, 10622, 10624, 10732, 10734, 10746, 10787, 10807, 10881,\n",
      "       10905, 10946, 10955, 10976, 10983, 11055, 11114, 11144, 11159,\n",
      "       11186, 11198, 11209, 11213, 11218, 11277, 11317, 11419, 11431,\n",
      "       11460, 11473, 11515, 11529, 11574, 11595]),)\n"
     ]
    }
   ],
   "source": [
    "x = np.where(y_train == 1)\n",
    "print(x)\n"
   ]
  },
  {
   "cell_type": "code",
   "execution_count": 148,
   "metadata": {},
   "outputs": [],
   "source": [
    "X_train = np.array(X_train).reshape((np.shape(X_train)[0], 1, np.shape(X_train)[1]))\n",
    "X_test = np.array(X_test).reshape((np.shape(X_test)[0], 1, np.shape(X_test)[1]))"
   ]
  },
  {
   "cell_type": "code",
   "execution_count": 149,
   "metadata": {},
   "outputs": [
    {
     "name": "stdout",
     "output_type": "stream",
     "text": [
      "(11625, 1, 31)\n",
      "(3875, 1, 31)\n",
      "(11625,)\n",
      "(3875,)\n"
     ]
    }
   ],
   "source": [
    "print(np.shape(X_train))\n",
    "print(np.shape(X_test))\n",
    "print(np.shape(y_train))\n",
    "print(np.shape(y_test))"
   ]
  },
  {
   "cell_type": "code",
   "execution_count": 88,
   "metadata": {},
   "outputs": [
    {
     "name": "stdout",
     "output_type": "stream",
     "text": [
      "[[[1 1 0 1 1 1 0 1 0 1 0 0 0 0 1 0 0 1 0 1 1 0 0 1 1 1 1 1 0 0 0]]\n",
      "\n",
      " [[0 0 1 0 1 0 1 1 1 0 1 1 0 0 0 1 1 1 1 1 0 0 1 1 0 1 0 0 1 0 0]]\n",
      "\n",
      " [[1 0 1 0 1 0 0 0 0 1 0 0 1 0 1 1 0 0 1 1 1 1 1 0 0 0 1 1 0 1 1]]\n",
      "\n",
      " [[1 0 1 0 0 1 1 0 1 1 1 0 0 0 0 1 0 1 0 0 1 1 0 1 1 1 0 0 0 0 1]]\n",
      "\n",
      " [[1 0 1 1 1 0 0 1 0 1 1 1 0 0 1 0 1 1 1 0 0 1 0 1 1 1 0 0 1 0 1]]]\n",
      "[0 0 0 0 0 0 0 0 0 0 0 0 0 0 0 0 0 0 0 0 0 1 0 0 0 0 0 0 0 0]\n"
     ]
    }
   ],
   "source": [
    "print((X_test[20:25]))\n",
    "print((y_test[:30]))"
   ]
  },
  {
   "cell_type": "code",
   "execution_count": null,
   "metadata": {},
   "outputs": [],
   "source": [
    "1\t0\t0\t0\t0\t1\t0\t0\t1\t0"
   ]
  },
  {
   "cell_type": "markdown",
   "metadata": {},
   "source": [
    "# Build LSTM"
   ]
  },
  {
   "cell_type": "code",
   "execution_count": 150,
   "metadata": {},
   "outputs": [],
   "source": [
    "num_neurons = 31\n",
    "num_features = 31\n",
    "\n",
    "\n",
    "model = Sequential()\n",
    "model.add(LSTM(num_neurons, input_shape=(1, num_features), return_sequences=True))\n",
    "model.add(LSTM(num_neurons, input_shape=(1, num_features), return_sequences=False))\n",
    "model.add(Dense(1, activation='sigmoid'))"
   ]
  },
  {
   "cell_type": "code",
   "execution_count": 151,
   "metadata": {},
   "outputs": [
    {
     "name": "stdout",
     "output_type": "stream",
     "text": [
      "_________________________________________________________________\n",
      "Layer (type)                 Output Shape              Param #   \n",
      "=================================================================\n",
      "lstm_6 (LSTM)                (None, 1, 31)             7812      \n",
      "_________________________________________________________________\n",
      "lstm_7 (LSTM)                (None, 31)                7812      \n",
      "_________________________________________________________________\n",
      "dense_3 (Dense)              (None, 1)                 32        \n",
      "=================================================================\n",
      "Total params: 15,656\n",
      "Trainable params: 15,656\n",
      "Non-trainable params: 0\n",
      "_________________________________________________________________\n",
      "inputs:  (None, 1, 31)\n",
      "outputs:  (None, 1)\n",
      "actual inputs:  (11625, 1, 31)\n",
      "actual outputs:  (11625,)\n"
     ]
    }
   ],
   "source": [
    "model.summary()\n",
    "\n",
    "print(\"inputs: \" , model.input_shape)\n",
    "print(\"outputs: \", model.output_shape)\n",
    "print(\"actual inputs: \", np.shape(X_train))\n",
    "print(\"actual outputs: \", np.shape(y_train))"
   ]
  },
  {
   "cell_type": "code",
   "execution_count": 152,
   "metadata": {},
   "outputs": [],
   "source": [
    "opt = SGD(lr=0.05)\n",
    "model.compile(loss='binary_crossentropy', optimizer=opt, metrics=['accuracy'])"
   ]
  },
  {
   "cell_type": "code",
   "execution_count": 153,
   "metadata": {},
   "outputs": [
    {
     "name": "stdout",
     "output_type": "stream",
     "text": [
      "Training LSTM...\n",
      "Train on 11625 samples, validate on 3875 samples\n",
      "Epoch 1/10\n",
      "11625/11625 [==============================] - 13s 1ms/sample - loss: 0.1449 - acc: 0.9686 - val_loss: 0.1102 - val_acc: 0.9646\n",
      "Epoch 2/10\n",
      "11625/11625 [==============================] - 12s 1ms/sample - loss: 0.0421 - acc: 0.9842 - val_loss: 0.0123 - val_acc: 1.0000\n",
      "Epoch 3/10\n",
      "11625/11625 [==============================] - 12s 1ms/sample - loss: 0.0065 - acc: 1.0000 - val_loss: 0.0042 - val_acc: 1.0000\n",
      "Epoch 4/10\n",
      "11625/11625 [==============================] - 12s 1ms/sample - loss: 0.0029 - acc: 1.0000 - val_loss: 0.0023 - val_acc: 1.0000\n",
      "Epoch 5/10\n",
      "11625/11625 [==============================] - 12s 1ms/sample - loss: 0.0018 - acc: 1.0000 - val_loss: 0.0016 - val_acc: 1.0000\n",
      "Epoch 6/10\n",
      "11625/11625 [==============================] - 13s 1ms/sample - loss: 0.0013 - acc: 1.0000 - val_loss: 0.0012 - val_acc: 1.0000\n",
      "Epoch 7/10\n",
      "11625/11625 [==============================] - 13s 1ms/sample - loss: 9.7995e-04 - acc: 1.0000 - val_loss: 9.2065e-04 - val_acc: 1.0000\n",
      "Epoch 8/10\n",
      "11625/11625 [==============================] - 13s 1ms/sample - loss: 7.8913e-04 - acc: 1.0000 - val_loss: 7.5510e-04 - val_acc: 1.0000\n",
      "Epoch 9/10\n",
      "11625/11625 [==============================] - 13s 1ms/sample - loss: 6.5704e-04 - acc: 1.0000 - val_loss: 6.3705e-04 - val_acc: 1.0000\n",
      "Epoch 10/10\n",
      "11625/11625 [==============================] - 13s 1ms/sample - loss: 5.6065e-04 - acc: 1.0000 - val_loss: 5.4902e-04 - val_acc: 1.0000\n",
      "3875/3875 [==============================] - 1s 355us/sample - loss: 5.4902e-04 - acc: 1.0000\n"
     ]
    }
   ],
   "source": [
    "print('Training LSTM...')\n",
    "\n",
    "batch_size = 5\n",
    "\n",
    "model.fit(X_train, y_train,\n",
    "          batch_size=batch_size,\n",
    "          epochs=10,\n",
    "          validation_data=(X_test, y_test))\n",
    "\n",
    "score, acc = model.evaluate(X_test, y_test, batch_size=batch_size)"
   ]
  },
  {
   "cell_type": "code",
   "execution_count": 154,
   "metadata": {},
   "outputs": [
    {
     "name": "stdout",
     "output_type": "stream",
     "text": [
      "score: 0.000549015286904309\n",
      "accuracy: 1.0\n"
     ]
    }
   ],
   "source": [
    "print('score:', score)\n",
    "print('accuracy:', acc)"
   ]
  },
  {
   "cell_type": "code",
   "execution_count": 155,
   "metadata": {},
   "outputs": [],
   "source": [
    "y_pred = model.predict(X_test, batch_size=1)"
   ]
  },
  {
   "cell_type": "code",
   "execution_count": 69,
   "metadata": {},
   "outputs": [
    {
     "name": "stdout",
     "output_type": "stream",
     "text": [
      "[[0 0 1 0 1 0 1 1 1 0 1 1 0 0 0 1 1 1 1 1 0 0 1 1 0 1 0 0 1 0 0]]\n"
     ]
    }
   ],
   "source": [
    "print(X_test[21])"
   ]
  },
  {
   "cell_type": "code",
   "execution_count": 70,
   "metadata": {},
   "outputs": [
    {
     "name": "stdout",
     "output_type": "stream",
     "text": [
      "1\n"
     ]
    }
   ],
   "source": [
    "print(y_test[21])"
   ]
  },
  {
   "cell_type": "markdown",
   "metadata": {},
   "source": []
  },
  {
   "cell_type": "code",
   "execution_count": 156,
   "metadata": {},
   "outputs": [
    {
     "data": {
      "text/plain": [
       "Text(0.5, 1.0, 'All y_preds flip_bits')"
      ]
     },
     "execution_count": 156,
     "metadata": {},
     "output_type": "execute_result"
    },
    {
     "data": {
      "image/png": "[encoded data removed]",
      "text/plain": [
       "<Figure size 432x288 with 1 Axes>"
      ]
     },
     "metadata": {
      "needs_background": "light"
     },
     "output_type": "display_data"
    }
   ],
   "source": [
    "plt.hist(y_pred, rwidth=0.9)\n",
    "plt.title('All y_preds flip_bits')"
   ]
  },
  {
   "cell_type": "code",
   "execution_count": 54,
   "metadata": {},
   "outputs": [
    {
     "name": "stdout",
     "output_type": "stream",
     "text": [
      "3875\n"
     ]
    }
   ],
   "source": [
    "print(len(y_pred))"
   ]
  },
  {
   "cell_type": "code",
   "execution_count": 157,
   "metadata": {},
   "outputs": [],
   "source": [
    "pred_df = pd.DataFrame(y_pred, columns =['Y_pred']) \n",
    "pred_df['Label'] = y_test"
   ]
  },
  {
   "cell_type": "code",
   "execution_count": 158,
   "metadata": {},
   "outputs": [
    {
     "data": {
      "text/html": [
       "<div>\n",
       "<style scoped>\n",
       "    .dataframe tbody tr th:only-of-type {\n",
       "        vertical-align: middle;\n",
       "    }\n",
       "\n",
       "    .dataframe tbody tr th {\n",
       "        vertical-align: top;\n",
       "    }\n",
       "\n",
       "    .dataframe thead th {\n",
       "        text-align: right;\n",
       "    }\n",
       "</style>\n",
       "<table border=\"1\" class=\"dataframe\">\n",
       "  <thead>\n",
       "    <tr style=\"text-align: right;\">\n",
       "      <th></th>\n",
       "      <th>Y_pred</th>\n",
       "      <th>Label</th>\n",
       "    </tr>\n",
       "  </thead>\n",
       "  <tbody>\n",
       "    <tr>\n",
       "      <th>0</th>\n",
       "      <td>0.000176</td>\n",
       "      <td>0.0</td>\n",
       "    </tr>\n",
       "    <tr>\n",
       "      <th>1</th>\n",
       "      <td>0.000143</td>\n",
       "      <td>0.0</td>\n",
       "    </tr>\n",
       "    <tr>\n",
       "      <th>2</th>\n",
       "      <td>0.000188</td>\n",
       "      <td>0.0</td>\n",
       "    </tr>\n",
       "    <tr>\n",
       "      <th>3</th>\n",
       "      <td>0.000244</td>\n",
       "      <td>0.0</td>\n",
       "    </tr>\n",
       "    <tr>\n",
       "      <th>4</th>\n",
       "      <td>0.000174</td>\n",
       "      <td>0.0</td>\n",
       "    </tr>\n",
       "  </tbody>\n",
       "</table>\n",
       "</div>"
      ],
      "text/plain": [
       "     Y_pred  Label\n",
       "0  0.000176    0.0\n",
       "1  0.000143    0.0\n",
       "2  0.000188    0.0\n",
       "3  0.000244    0.0\n",
       "4  0.000174    0.0"
      ]
     },
     "execution_count": 158,
     "metadata": {},
     "output_type": "execute_result"
    }
   ],
   "source": [
    "pred_df.head()"
   ]
  },
  {
   "cell_type": "code",
   "execution_count": 159,
   "metadata": {},
   "outputs": [
    {
     "data": {
      "text/html": [
       "<div>\n",
       "<style scoped>\n",
       "    .dataframe tbody tr th:only-of-type {\n",
       "        vertical-align: middle;\n",
       "    }\n",
       "\n",
       "    .dataframe tbody tr th {\n",
       "        vertical-align: top;\n",
       "    }\n",
       "\n",
       "    .dataframe thead th {\n",
       "        text-align: right;\n",
       "    }\n",
       "</style>\n",
       "<table border=\"1\" class=\"dataframe\">\n",
       "  <thead>\n",
       "    <tr style=\"text-align: right;\">\n",
       "      <th></th>\n",
       "      <th>Y_pred</th>\n",
       "      <th>Label</th>\n",
       "    </tr>\n",
       "  </thead>\n",
       "  <tbody>\n",
       "    <tr>\n",
       "      <th>54</th>\n",
       "      <td>0.993655</td>\n",
       "      <td>1.0</td>\n",
       "    </tr>\n",
       "    <tr>\n",
       "      <th>72</th>\n",
       "      <td>0.993655</td>\n",
       "      <td>1.0</td>\n",
       "    </tr>\n",
       "    <tr>\n",
       "      <th>84</th>\n",
       "      <td>0.993655</td>\n",
       "      <td>1.0</td>\n",
       "    </tr>\n",
       "    <tr>\n",
       "      <th>141</th>\n",
       "      <td>0.993655</td>\n",
       "      <td>1.0</td>\n",
       "    </tr>\n",
       "    <tr>\n",
       "      <th>154</th>\n",
       "      <td>0.993655</td>\n",
       "      <td>1.0</td>\n",
       "    </tr>\n",
       "  </tbody>\n",
       "</table>\n",
       "</div>"
      ],
      "text/plain": [
       "       Y_pred  Label\n",
       "54   0.993655    1.0\n",
       "72   0.993655    1.0\n",
       "84   0.993655    1.0\n",
       "141  0.993655    1.0\n",
       "154  0.993655    1.0"
      ]
     },
     "execution_count": 159,
     "metadata": {},
     "output_type": "execute_result"
    }
   ],
   "source": [
    "y_pred_ref_ref = pred_df[pred_df['Label'] == 1]\n",
    "y_pred_ref_ref.head()"
   ]
  },
  {
   "cell_type": "code",
   "execution_count": 160,
   "metadata": {},
   "outputs": [
    {
     "data": {
      "text/html": [
       "<div>\n",
       "<style scoped>\n",
       "    .dataframe tbody tr th:only-of-type {\n",
       "        vertical-align: middle;\n",
       "    }\n",
       "\n",
       "    .dataframe tbody tr th {\n",
       "        vertical-align: top;\n",
       "    }\n",
       "\n",
       "    .dataframe thead th {\n",
       "        text-align: right;\n",
       "    }\n",
       "</style>\n",
       "<table border=\"1\" class=\"dataframe\">\n",
       "  <thead>\n",
       "    <tr style=\"text-align: right;\">\n",
       "      <th></th>\n",
       "      <th>Y_pred</th>\n",
       "      <th>Label</th>\n",
       "    </tr>\n",
       "  </thead>\n",
       "  <tbody>\n",
       "    <tr>\n",
       "      <th>0</th>\n",
       "      <td>0.000176</td>\n",
       "      <td>0.0</td>\n",
       "    </tr>\n",
       "    <tr>\n",
       "      <th>1</th>\n",
       "      <td>0.000143</td>\n",
       "      <td>0.0</td>\n",
       "    </tr>\n",
       "    <tr>\n",
       "      <th>2</th>\n",
       "      <td>0.000188</td>\n",
       "      <td>0.0</td>\n",
       "    </tr>\n",
       "    <tr>\n",
       "      <th>3</th>\n",
       "      <td>0.000244</td>\n",
       "      <td>0.0</td>\n",
       "    </tr>\n",
       "    <tr>\n",
       "      <th>4</th>\n",
       "      <td>0.000174</td>\n",
       "      <td>0.0</td>\n",
       "    </tr>\n",
       "  </tbody>\n",
       "</table>\n",
       "</div>"
      ],
      "text/plain": [
       "     Y_pred  Label\n",
       "0  0.000176    0.0\n",
       "1  0.000143    0.0\n",
       "2  0.000188    0.0\n",
       "3  0.000244    0.0\n",
       "4  0.000174    0.0"
      ]
     },
     "execution_count": 160,
     "metadata": {},
     "output_type": "execute_result"
    }
   ],
   "source": [
    "y_pred_non_ref = pred_df[pred_df['Label'] == 0]\n",
    "y_pred_non_ref.head()"
   ]
  },
  {
   "cell_type": "code",
   "execution_count": 161,
   "metadata": {},
   "outputs": [
    {
     "name": "stdout",
     "output_type": "stream",
     "text": [
      "3738\n",
      "137\n"
     ]
    }
   ],
   "source": [
    "print(len(y_pred_non_ref))\n",
    "print(len(y_pred_ref_ref))"
   ]
  },
  {
   "cell_type": "code",
   "execution_count": null,
   "metadata": {},
   "outputs": [],
   "source": []
  },
  {
   "cell_type": "code",
   "execution_count": 162,
   "metadata": {},
   "outputs": [
    {
     "data": {
      "text/plain": [
       "Text(0.5, 1.0, 'All y_preds flip_bits')"
      ]
     },
     "execution_count": 162,
     "metadata": {},
     "output_type": "execute_result"
    },
    {
     "data": {
      "image/png": "[encoded data removed]",
      "text/plain": [
       "<Figure size 432x288 with 1 Axes>"
      ]
     },
     "metadata": {
      "needs_background": "light"
     },
     "output_type": "display_data"
    }
   ],
   "source": [
    "plt.hist(y_pred, rwidth=0.9)\n",
    "plt.title('All y_preds flip_bits')"
   ]
  },
  {
   "cell_type": "code",
   "execution_count": 163,
   "metadata": {},
   "outputs": [
    {
     "data": {
      "text/plain": [
       "Text(0.5, 1.0, 'Ref_Ref y_preds flip bits')"
      ]
     },
     "execution_count": 163,
     "metadata": {},
     "output_type": "execute_result"
    },
    {
     "data": {
      "image/png": "[encoded data removed]",
      "text/plain": [
       "<Figure size 432x288 with 1 Axes>"
      ]
     },
     "metadata": {
      "needs_background": "light"
     },
     "output_type": "display_data"
    }
   ],
   "source": [
    "plt.hist(y_pred_ref_ref['Y_pred'], rwidth=0.9)\n",
    "plt.title('Ref_Ref y_preds flip bits')"
   ]
  },
  {
   "cell_type": "code",
   "execution_count": 164,
   "metadata": {},
   "outputs": [
    {
     "data": {
      "text/plain": [
       "Text(0.5, 1.0, 'Not Ref_Ref y_preds flip_bits')"
      ]
     },
     "execution_count": 164,
     "metadata": {},
     "output_type": "execute_result"
    },
    {
     "data": {
      "image/png": "[encoded data removed]",
      "text/plain": [
       "<Figure size 432x288 with 1 Axes>"
      ]
     },
     "metadata": {
      "needs_background": "light"
     },
     "output_type": "display_data"
    }
   ],
   "source": [
    "plt.hist(y_pred_non_ref['Y_pred'], rwidth=0.9)\n",
    "plt.title('Not Ref_Ref y_preds flip_bits')"
   ]
  },
  {
   "cell_type": "code",
   "execution_count": 39,
   "metadata": {},
   "outputs": [
    {
     "data": {
      "text/plain": [
       "[<matplotlib.lines.Line2D at 0x7ff662506e50>]"
      ]
     },
     "execution_count": 39,
     "metadata": {},
     "output_type": "execute_result"
    },
    {
     "data": {
      "image/png": "[encoded data removed]",
      "text/plain": [
       "<Figure size 432x288 with 1 Axes>"
      ]
     },
     "metadata": {
      "needs_background": "light"
     },
     "output_type": "display_data"
    }
   ],
   "source": [
    "pyplot.plot(y_pred)"
   ]
  },
  {
   "cell_type": "code",
   "execution_count": 23,
   "metadata": {},
   "outputs": [
    {
     "name": "stdout",
     "output_type": "stream",
     "text": [
      "              precision    recall  f1-score   support\n",
      "\n",
      "           0       0.97      1.00      0.98     41254\n",
      "           1       0.00      0.00      0.00      1371\n",
      "\n",
      "    accuracy                           0.97     42625\n",
      "   macro avg       0.48      0.50      0.49     42625\n",
      "weighted avg       0.94      0.97      0.95     42625\n",
      "\n",
      "[[41254     0]\n",
      " [ 1371     0]]\n"
     ]
    }
   ],
   "source": [
    "# Keep y pred as soft value \n",
    "#y_pred[y_pred>0.5] = 1 \n",
    "#y_pred[y_pred<=0.5] = 0 \n",
    "\n",
    "print(classification_report(y_test, y_pred))\n",
    "print(confusion_matrix(y_test, y_pred))"
   ]
  },
  {
   "cell_type": "code",
   "execution_count": 24,
   "metadata": {},
   "outputs": [],
   "source": [
    "probs = model.predict_proba(X_test)"
   ]
  },
  {
   "cell_type": "code",
   "execution_count": 25,
   "metadata": {},
   "outputs": [
    {
     "name": "stdout",
     "output_type": "stream",
     "text": [
      "AUC 0.5084631273471631\n"
     ]
    }
   ],
   "source": [
    "auc = roc_auc_score(y_test, probs)\n",
    "print('AUC', auc)"
   ]
  },
  {
   "cell_type": "code",
   "execution_count": 26,
   "metadata": {},
   "outputs": [
    {
     "data": {
      "image/png": "[encoded data removed]",
      "text/plain": [
       "<Figure size 432x288 with 1 Axes>"
      ]
     },
     "metadata": {
      "needs_background": "light"
     },
     "output_type": "display_data"
    }
   ],
   "source": [
    "fpr, tpr, _ = roc_curve(y_test, probs)\n",
    "pyplot.plot(fpr, tpr, marker='.', label='ROC Curve')\n",
    "pyplot.xlabel('False Positive Rate')\n",
    "pyplot.ylabel('True Positive Rate')\n",
    "pyplot.legend()\n",
    "pyplot.show()"
   ]
  },
  {
   "cell_type": "code",
   "execution_count": null,
   "metadata": {},
   "outputs": [],
   "source": []
  },
  {
   "cell_type": "code",
   "execution_count": null,
   "metadata": {},
   "outputs": [],
   "source": []
  },
  {
   "cell_type": "code",
   "execution_count": null,
   "metadata": {},
   "outputs": [],
   "source": []
  },
  {
   "cell_type": "code",
   "execution_count": null,
   "metadata": {},
   "outputs": [],
   "source": []
  }
 ],
 "metadata": {
  "kernelspec": {
   "display_name": "DCUML",
   "language": "python",
   "name": "dcuml"
  },
  "language_info": {
   "codemirror_mode": {
    "name": "ipython",
    "version": 3
   },
   "file_extension": ".py",
   "mimetype": "text/x-python",
   "name": "python",
   "nbconvert_exporter": "python",
   "pygments_lexer": "ipython3",
   "version": "3.7.7"
  }
 },
 "nbformat": 4,
 "nbformat_minor": 4
}
