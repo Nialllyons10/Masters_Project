{
 "cells": [
  {
   "cell_type": "code",
   "execution_count": 8,
   "metadata": {},
   "outputs": [],
   "source": [
    "import numpy as np\n",
    "import pandas as pd\n",
    "import tensorflow as tf\n",
    "from tensorflow import keras\n",
    "from tensorflow.keras.models import Sequential\n",
    "from tensorflow.keras.layers import Dense, Dropout, LSTM\n",
    "from tensorflow.keras.preprocessing import sequence\n",
    "from tensorflow.keras.models import model_from_json\n",
    "from tensorflow.keras.layers import Embedding\n",
    "from tensorflow.keras.optimizers import SGD\n",
    "from tensorflow.keras.callbacks import ReduceLROnPlateau \n",
    "from tensorflow.keras.layers import Conv1D, TimeDistributed, Flatten, SpatialDropout1D, GlobalAveragePooling1D\n",
    "from tensorflow.keras.layers import MaxPooling1D, GlobalMaxPooling1D, Bidirectional, SimpleRNN\n",
    "from tensorflow.keras.preprocessing.sequence import pad_sequences\n",
    "from sklearn.model_selection import train_test_split, StratifiedKFold\n",
    "from sklearn.metrics import classification_report\n",
    "from sklearn.metrics import confusion_matrix\n",
    "from sklearn.metrics import roc_curve\n",
    "from sklearn.metrics import roc_auc_score\n",
    "from matplotlib import pyplot as plt\n",
    "from sklearn.utils import shuffle\n",
    "import seaborn as sns\n",
    "from numpy import genfromtxt"
   ]
  },
  {
   "cell_type": "code",
   "execution_count": 10,
   "metadata": {},
   "outputs": [],
   "source": [
    "def get_data():\n",
    "#     input_file = '/Users/niall/Documents/Cypress_Code/Data/Multipath/channel_three_data.csv'\n",
    "    input_file = '/Users/niall/Documents/Cypress_Code/Data/Multipath/channel_two_data.csv'\n",
    "#     input_file = '/Users/niall/Documents/Cypress_Code/Data/Multipath/channel_one_data.csv'\n",
    "    my_data_flipped = genfromtxt(input_file, delimiter=',')\n",
    "\n",
    "    new_data = np.delete(my_data_flipped, (0), axis=0)\n",
    "    X2 = np.delete(new_data, (0,39), axis=1)\n",
    "    Y2 = new_data[:,39]\n",
    "    X_train, X_test, y_train, y_test = train_test_split(X2, Y2, test_size=0.25, random_state=42, shuffle=True)\n",
    "    X_train = np.array(X_train).reshape((np.shape(X_train)[0], 1, np.shape(X_train)[1]))\n",
    "    X_test = np.array(X_test).reshape((np.shape(X_test)[0], 1, np.shape(X_test)[1]))\n",
    "\n",
    "    return X_train, X_test, y_train, y_test"
   ]
  },
  {
   "cell_type": "code",
   "execution_count": 11,
   "metadata": {},
   "outputs": [],
   "source": [
    "flip_bit_data = get_data()"
   ]
  },
  {
   "cell_type": "code",
   "execution_count": 12,
   "metadata": {},
   "outputs": [],
   "source": [
    "X_train = flip_bit_data[0]\n",
    "X_test = flip_bit_data[1]\n",
    "y_train = flip_bit_data[2]\n",
    "y_test = flip_bit_data[3]"
   ]
  },
  {
   "cell_type": "code",
   "execution_count": 13,
   "metadata": {},
   "outputs": [
    {
     "name": "stdout",
     "output_type": "stream",
     "text": [
      "WARNING:tensorflow:From /Users/niall/opt/anaconda3/envs/DCUML/lib/python3.7/site-packages/tensorflow/python/ops/resource_variable_ops.py:435: colocate_with (from tensorflow.python.framework.ops) is deprecated and will be removed in a future version.\n",
      "Instructions for updating:\n",
      "Colocations handled automatically by placer.\n",
      "WARNING:tensorflow:From /Users/niall/opt/anaconda3/envs/DCUML/lib/python3.7/site-packages/tensorflow/python/keras/backend.py:4010: calling dropout (from tensorflow.python.ops.nn_ops) with keep_prob is deprecated and will be removed in a future version.\n",
      "Instructions for updating:\n",
      "Please use `rate` instead of `keep_prob`. Rate should be set to `rate = 1 - keep_prob`.\n",
      "_________________________________________________________________\n",
      "Layer (type)                 Output Shape              Param #   \n",
      "=================================================================\n",
      "simple_rnn (SimpleRNN)       (None, 1, 38)             2926      \n",
      "_________________________________________________________________\n",
      "global_max_pooling1d (Global (None, 38)                0         \n",
      "_________________________________________________________________\n",
      "dense (Dense)                (None, 16)                624       \n",
      "_________________________________________________________________\n",
      "dropout (Dropout)            (None, 16)                0         \n",
      "_________________________________________________________________\n",
      "dense_1 (Dense)              (None, 1)                 17        \n",
      "=================================================================\n",
      "Total params: 3,567\n",
      "Trainable params: 3,567\n",
      "Non-trainable params: 0\n",
      "_________________________________________________________________\n"
     ]
    }
   ],
   "source": [
    "num_neurons = 38\n",
    "num_features = 38\n",
    "\n",
    "model_rnn = Sequential()\n",
    "model_rnn.add(SimpleRNN(num_neurons, dropout=0.2, recurrent_dropout=0.2, return_sequences=True, input_shape=(1, num_features)))\n",
    "model_rnn.add(GlobalMaxPooling1D())\n",
    "model_rnn.add(Dense(16, activation='sigmoid'))\n",
    "model_rnn.add(Dropout(0.2))\n",
    "model_rnn.add(Dense(1, activation='sigmoid'))\n",
    "\n",
    "\n",
    "rlrp = ReduceLROnPlateau(monitor='val_loss', factor=0.1, patience=2)\n",
    "model_rnn.compile(loss='binary_crossentropy', optimizer='adam', metrics=['accuracy'])\n",
    "model_rnn.summary()"
   ]
  },
  {
   "cell_type": "code",
   "execution_count": 15,
   "metadata": {},
   "outputs": [
    {
     "name": "stdout",
     "output_type": "stream",
     "text": [
      "Train on 390000 samples, validate on 130000 samples\n",
      "WARNING:tensorflow:From /Users/niall/opt/anaconda3/envs/DCUML/lib/python3.7/site-packages/tensorflow/python/ops/math_ops.py:3066: to_int32 (from tensorflow.python.ops.math_ops) is deprecated and will be removed in a future version.\n",
      "Instructions for updating:\n",
      "Use tf.cast instead.\n",
      "WARNING:tensorflow:From /Users/niall/opt/anaconda3/envs/DCUML/lib/python3.7/site-packages/tensorflow/python/ops/math_grad.py:102: div (from tensorflow.python.ops.math_ops) is deprecated and will be removed in a future version.\n",
      "Instructions for updating:\n",
      "Deprecated in favor of operator or tf.math.divide.\n",
      "Epoch 1/5\n",
      "390000/390000 [==============================] - 138s 354us/sample - loss: 0.0290 - acc: 0.9905 - val_loss: 0.0067 - val_acc: 0.9977\n",
      "Epoch 2/5\n",
      "390000/390000 [==============================] - 137s 351us/sample - loss: 0.0185 - acc: 0.9940 - val_loss: 0.0054 - val_acc: 0.9982\n",
      "Epoch 3/5\n",
      "390000/390000 [==============================] - 137s 351us/sample - loss: 0.0171 - acc: 0.9943 - val_loss: 0.0073 - val_acc: 0.9974\n",
      "Epoch 4/5\n",
      "390000/390000 [==============================] - 137s 352us/sample - loss: 0.0167 - acc: 0.9946 - val_loss: 0.0080 - val_acc: 0.9971\n",
      "Epoch 5/5\n",
      "390000/390000 [==============================] - 137s 352us/sample - loss: 0.0150 - acc: 0.9951 - val_loss: 0.0052 - val_acc: 0.9983\n"
     ]
    }
   ],
   "source": [
    "batch_size = 5\n",
    "history_rnn = model_rnn.fit(X_train, y_train, \n",
    "                            batch_size=batch_size, \n",
    "                            epochs=5, \n",
    "                            validation_data=(X_test, y_test), \n",
    "                            callbacks=[rlrp],\n",
    "                            verbose=1)"
   ]
  },
  {
   "cell_type": "code",
   "execution_count": 16,
   "metadata": {},
   "outputs": [
    {
     "name": "stdout",
     "output_type": "stream",
     "text": [
      "130000/130000 [==============================] - 3s 22us/sample - loss: 0.0052 - acc: 0.9983\n",
      "Test Loss:  0.005176302615876417\n",
      "Test Accuracy 0.9982538\n",
      "dict_keys(['loss', 'acc', 'val_loss', 'val_acc', 'lr'])\n"
     ]
    },
    {
     "data": {
      "image/png": "[encoded data removed]",
      "text/plain": [
       "<Figure size 432x288 with 1 Axes>"
      ]
     },
     "metadata": {
      "needs_background": "light"
     },
     "output_type": "display_data"
    },
    {
     "data": {
      "image/png": "[encoded data removed]",
      "text/plain": [
       "<Figure size 432x288 with 1 Axes>"
      ]
     },
     "metadata": {
      "needs_background": "light"
     },
     "output_type": "display_data"
    }
   ],
   "source": [
    "score = model_rnn.evaluate(X_test, y_test)\n",
    "print('Test Loss: ', score[0])\n",
    "print('Test Accuracy', score[1])\n",
    "\n",
    "print(history_rnn.history.keys())\n",
    "\n",
    "plt.plot(history_rnn.history['acc'])\n",
    "plt.plot(history_rnn.history['val_acc'])\n",
    "plt.title('Model Accuracy')\n",
    "plt.ylabel('accuracy')\n",
    "plt.xlabel('epoch')\n",
    "plt.legend(['train', 'test'], loc='upper left')\n",
    "plt.show()\n",
    "\n",
    "\n",
    "plt.plot(history_rnn.history['loss'])\n",
    "plt.plot(history_rnn.history['val_loss'])\n",
    "plt.title('Model Loss')\n",
    "plt.ylabel('loss')\n",
    "plt.xlabel('epoch')\n",
    "plt.legend(['train', 'test'], loc='upper left')\n",
    "plt.show()"
   ]
  },
  {
   "cell_type": "code",
   "execution_count": 18,
   "metadata": {},
   "outputs": [
    {
     "name": "stdout",
     "output_type": "stream",
     "text": [
      "Saved model to disc\n"
     ]
    }
   ],
   "source": [
    "json = model_rnn.to_json()\n",
    "with open(\"/Users/niall/Documents/Cypress_Code/Models/RNN/Multipath/model_one_rnn_channel_three.json\", \"w\") as file:\n",
    "    file.write(json)\n",
    "model_rnn.save_weights(\"/Users/niall/Documents/Cypress_Code/Models/RNN/Multipath/model_one_rnn_channel_three.h5\")\n",
    "print(\"Saved model to disc\")"
   ]
  },
  {
   "cell_type": "code",
   "execution_count": 19,
   "metadata": {},
   "outputs": [],
   "source": [
    "# Load the model of interest\n",
    "json_file = open('/Users/niall/Documents/Cypress_Code/Models/RNN/Multipath/model_one_rnn_channel_three.json', 'r')\n",
    "json = json_file.read()\n",
    "json_file.close()\n",
    "model_avg_from_disc = model_from_json(json)\n",
    "model_avg_from_disc.load_weights(\"//Users/niall/Documents/Cypress_Code/Models/RNN/Multipath/model_one_rnn_channel_three.h5\")"
   ]
  },
  {
   "cell_type": "code",
   "execution_count": 20,
   "metadata": {},
   "outputs": [],
   "source": [
    "y_preds_rnn = model_avg_from_disc.predict(X_test, batch_size=1)"
   ]
  },
  {
   "cell_type": "code",
   "execution_count": 21,
   "metadata": {},
   "outputs": [],
   "source": [
    "pred_avg = pd.DataFrame(y_preds_rnn, columns =['Y_pred']) \n",
    "pred_avg['Label'] = y_test"
   ]
  },
  {
   "cell_type": "code",
   "execution_count": 22,
   "metadata": {},
   "outputs": [],
   "source": [
    "pred_avg.to_csv('/Users/niall/Documents/Cypress_Code/Predictions/RNN/Multipath/model_one_rnn_channel_three.csv', index = False)"
   ]
  },
  {
   "cell_type": "code",
   "execution_count": null,
   "metadata": {},
   "outputs": [],
   "source": []
  }
 ],
 "metadata": {
  "kernelspec": {
   "display_name": "DCUML",
   "language": "python",
   "name": "dcuml"
  },
  "language_info": {
   "codemirror_mode": {
    "name": "ipython",
    "version": 3
   },
   "file_extension": ".py",
   "mimetype": "text/x-python",
   "name": "python",
   "nbconvert_exporter": "python",
   "pygments_lexer": "ipython3",
   "version": "3.7.7"
  }
 },
 "nbformat": 4,
 "nbformat_minor": 4
}
