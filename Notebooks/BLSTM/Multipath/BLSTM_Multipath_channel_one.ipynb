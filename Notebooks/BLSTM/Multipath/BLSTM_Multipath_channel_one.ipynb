{
 "cells": [
  {
   "cell_type": "code",
   "execution_count": 1,
   "metadata": {},
   "outputs": [
    {
     "name": "stderr",
     "output_type": "stream",
     "text": [
      "/Users/niall/opt/anaconda3/envs/DCUML/lib/python3.7/site-packages/tensorflow/python/framework/dtypes.py:526: FutureWarning: Passing (type, 1) or '1type' as a synonym of type is deprecated; in a future version of numpy, it will be understood as (type, (1,)) / '(1,)type'.\n",
      "  _np_qint8 = np.dtype([(\"qint8\", np.int8, 1)])\n",
      "/Users/niall/opt/anaconda3/envs/DCUML/lib/python3.7/site-packages/tensorflow/python/framework/dtypes.py:527: FutureWarning: Passing (type, 1) or '1type' as a synonym of type is deprecated; in a future version of numpy, it will be understood as (type, (1,)) / '(1,)type'.\n",
      "  _np_quint8 = np.dtype([(\"quint8\", np.uint8, 1)])\n",
      "/Users/niall/opt/anaconda3/envs/DCUML/lib/python3.7/site-packages/tensorflow/python/framework/dtypes.py:528: FutureWarning: Passing (type, 1) or '1type' as a synonym of type is deprecated; in a future version of numpy, it will be understood as (type, (1,)) / '(1,)type'.\n",
      "  _np_qint16 = np.dtype([(\"qint16\", np.int16, 1)])\n",
      "/Users/niall/opt/anaconda3/envs/DCUML/lib/python3.7/site-packages/tensorflow/python/framework/dtypes.py:529: FutureWarning: Passing (type, 1) or '1type' as a synonym of type is deprecated; in a future version of numpy, it will be understood as (type, (1,)) / '(1,)type'.\n",
      "  _np_quint16 = np.dtype([(\"quint16\", np.uint16, 1)])\n",
      "/Users/niall/opt/anaconda3/envs/DCUML/lib/python3.7/site-packages/tensorflow/python/framework/dtypes.py:530: FutureWarning: Passing (type, 1) or '1type' as a synonym of type is deprecated; in a future version of numpy, it will be understood as (type, (1,)) / '(1,)type'.\n",
      "  _np_qint32 = np.dtype([(\"qint32\", np.int32, 1)])\n",
      "/Users/niall/opt/anaconda3/envs/DCUML/lib/python3.7/site-packages/tensorflow/python/framework/dtypes.py:535: FutureWarning: Passing (type, 1) or '1type' as a synonym of type is deprecated; in a future version of numpy, it will be understood as (type, (1,)) / '(1,)type'.\n",
      "  np_resource = np.dtype([(\"resource\", np.ubyte, 1)])\n"
     ]
    }
   ],
   "source": [
    "import numpy as np\n",
    "import pandas as pd\n",
    "import tensorflow as tf\n",
    "from tensorflow import keras\n",
    "from tensorflow.keras.models import Sequential\n",
    "from tensorflow.keras.layers import Dense, Dropout, LSTM\n",
    "from tensorflow.keras.preprocessing import sequence\n",
    "from tensorflow.keras.models import model_from_json\n",
    "from tensorflow.keras.layers import Embedding\n",
    "from tensorflow.keras.optimizers import SGD\n",
    "from tensorflow.keras.callbacks import ReduceLROnPlateau \n",
    "from tensorflow.keras.layers import Conv1D, TimeDistributed, Flatten, SpatialDropout1D, GlobalAveragePooling1D\n",
    "from tensorflow.keras.layers import MaxPooling1D, GlobalMaxPooling1D, Bidirectional\n",
    "from tensorflow.keras.preprocessing.sequence import pad_sequences\n",
    "from sklearn.model_selection import train_test_split\n",
    "from sklearn.metrics import classification_report\n",
    "from sklearn.metrics import confusion_matrix\n",
    "from sklearn.metrics import roc_curve\n",
    "from sklearn.metrics import roc_auc_score\n",
    "from sklearn.metrics import (\n",
    "    precision_score, \n",
    "    recall_score, \n",
    "    f1_score, \n",
    "    classification_report,\n",
    "    accuracy_score\n",
    ")\n",
    "from matplotlib import pyplot as plt\n",
    "from sklearn.utils import shuffle\n",
    "import seaborn as sns\n",
    "from numpy import genfromtxt"
   ]
  },
  {
   "cell_type": "code",
   "execution_count": 18,
   "metadata": {},
   "outputs": [],
   "source": [
    "def get_data():\n",
    "    input_file = '/Users/niall/Documents/Cypress_Code/Data/Multipath/channel_1_multipath_power_data.csv'\n",
    "    my_data_flipped = genfromtxt(input_file, delimiter=',')\n",
    "\n",
    "    new_data = np.delete(my_data_flipped, (0), axis=0)\n",
    "    X2 = np.delete(new_data, (0,39), axis=1)\n",
    "    Y2 = new_data[:,39]\n",
    "    X_train, X_test, y_train, y_test = train_test_split(X2, Y2, test_size=0.25, random_state=42, shuffle=True)\n",
    "    X_train = np.array(X_train).reshape((np.shape(X_train)[0], 1, np.shape(X_train)[1]))\n",
    "    X_test = np.array(X_test).reshape((np.shape(X_test)[0], 1, np.shape(X_test)[1]))\n",
    "\n",
    "    return X_train, X_test, y_train, y_test"
   ]
  },
  {
   "cell_type": "code",
   "execution_count": 19,
   "metadata": {},
   "outputs": [],
   "source": [
    "flip_bit_data = get_data()"
   ]
  },
  {
   "cell_type": "code",
   "execution_count": 20,
   "metadata": {},
   "outputs": [],
   "source": [
    "X_train = flip_bit_data[0]\n",
    "X_test = flip_bit_data[1]\n",
    "y_train = flip_bit_data[2]\n",
    "y_test = flip_bit_data[3]"
   ]
  },
  {
   "cell_type": "code",
   "execution_count": 21,
   "metadata": {},
   "outputs": [
    {
     "name": "stdout",
     "output_type": "stream",
     "text": [
      "_________________________________________________________________\n",
      "Layer (type)                 Output Shape              Param #   \n",
      "=================================================================\n",
      "bidirectional_2 (Bidirection (None, 1, 76)             23408     \n",
      "_________________________________________________________________\n",
      "bidirectional_3 (Bidirection (None, 1, 76)             34960     \n",
      "_________________________________________________________________\n",
      "global_max_pooling1d_1 (Glob (None, 76)                0         \n",
      "_________________________________________________________________\n",
      "dense_2 (Dense)              (None, 16)                1232      \n",
      "_________________________________________________________________\n",
      "dropout_1 (Dropout)          (None, 16)                0         \n",
      "_________________________________________________________________\n",
      "dense_3 (Dense)              (None, 1)                 17        \n",
      "=================================================================\n",
      "Total params: 59,617\n",
      "Trainable params: 59,617\n",
      "Non-trainable params: 0\n",
      "_________________________________________________________________\n"
     ]
    }
   ],
   "source": [
    "num_neurons = 38\n",
    "num_features = 38\n",
    "\n",
    "\n",
    "model_bidir = Sequential()\n",
    "model_bidir.add(Bidirectional(LSTM(num_neurons, return_sequences=True),input_shape=(1, num_features)))\n",
    "model_bidir.add(Bidirectional(LSTM(num_neurons, return_sequences=True),input_shape=(1, num_features)))\n",
    "model_bidir.add(GlobalMaxPooling1D())\n",
    "model_bidir.add(Dense(16, activation='sigmoid'))\n",
    "model_bidir.add(Dropout(0.2))\n",
    "model_bidir.add(Dense(1, activation='sigmoid'))\n",
    "\n",
    "\n",
    "rlrp = ReduceLROnPlateau(monitor='val_loss', factor=0.1, patience=2)\n",
    "model_bidir.compile(loss='binary_crossentropy', optimizer='adam', metrics=['accuracy'])\n",
    "model_bidir.summary()"
   ]
  },
  {
   "cell_type": "code",
   "execution_count": 22,
   "metadata": {},
   "outputs": [
    {
     "name": "stdout",
     "output_type": "stream",
     "text": [
      "Training BLSTM...\n",
      "Train on 390000 samples, validate on 130000 samples\n",
      "Epoch 1/5\n",
      "390000/390000 [==============================] - 780s 2ms/sample - loss: 0.0133 - acc: 0.9962 - val_loss: 0.0081 - val_acc: 0.9970\n",
      "Epoch 2/5\n",
      "390000/390000 [==============================] - 1125s 3ms/sample - loss: 0.0070 - acc: 0.9978 - val_loss: 0.0068 - val_acc: 0.9978\n",
      "Epoch 3/5\n",
      "390000/390000 [==============================] - 915s 2ms/sample - loss: 0.0056 - acc: 0.9982 - val_loss: 0.0068 - val_acc: 0.9977\n",
      "Epoch 4/5\n",
      "390000/390000 [==============================] - 853s 2ms/sample - loss: 0.0049 - acc: 0.9986 - val_loss: 0.0085 - val_acc: 0.9979\n",
      "Epoch 5/5\n",
      "390000/390000 [==============================] - 727s 2ms/sample - loss: 0.0025 - acc: 0.9993 - val_loss: 0.0105 - val_acc: 0.9979\n"
     ]
    }
   ],
   "source": [
    "print('Training BLSTM...')\n",
    "\n",
    "batch_size = 5\n",
    "\n",
    "history_one_blstm = model_bidir.fit(X_train, y_train, \n",
    "                                      batch_size=batch_size,\n",
    "                                      epochs=5,\n",
    "                                      validation_data=(X_test, y_test), \n",
    "                                      callbacks=[rlrp] ,verbose=1)"
   ]
  },
  {
   "cell_type": "code",
   "execution_count": 23,
   "metadata": {},
   "outputs": [
    {
     "name": "stdout",
     "output_type": "stream",
     "text": [
      "130000/130000 [==============================] - 9s 68us/sample - loss: 0.0105 - acc: 0.99790s - loss: 0.0106 \n",
      "Test Loss:  0.010483248198848364\n",
      "Test Accuracy 0.99793077\n",
      "dict_keys(['loss', 'acc', 'val_loss', 'val_acc', 'lr'])\n"
     ]
    },
    {
     "data": {
      "image/png": "[encoded data removed]",
      "text/plain": [
       "<Figure size 432x288 with 1 Axes>"
      ]
     },
     "metadata": {
      "needs_background": "light"
     },
     "output_type": "display_data"
    },
    {
     "data": {
      "image/png": "[encoded data removed]",
      "text/plain": [
       "<Figure size 432x288 with 1 Axes>"
      ]
     },
     "metadata": {
      "needs_background": "light"
     },
     "output_type": "display_data"
    }
   ],
   "source": [
    "score = model_bidir.evaluate(X_test, y_test)\n",
    "print('Test Loss: ', score[0])\n",
    "print('Test Accuracy', score[1])\n",
    "\n",
    "\n",
    "# list all data in history\n",
    "print(history_one_blstm.history.keys())\n",
    "# summarize history for accuracy\n",
    "plt.plot(history_one_blstm.history['acc'])\n",
    "plt.plot(history_one_blstm.history['val_acc'])\n",
    "plt.title('Model Accuracy')\n",
    "plt.ylabel('accuracy')\n",
    "plt.xlabel('epoch')\n",
    "plt.legend(['train', 'test'], loc='upper left')\n",
    "plt.show()\n",
    "# summarize history for loss\n",
    "plt.plot(history_one_blstm.history['loss'])\n",
    "plt.plot(history_one_blstm.history['val_loss'])\n",
    "plt.title('Model Loss')\n",
    "plt.ylabel('loss')\n",
    "plt.xlabel('epoch')\n",
    "plt.legend(['train', 'test'], loc='upper left')\n",
    "plt.show()"
   ]
  },
  {
   "cell_type": "code",
   "execution_count": 24,
   "metadata": {},
   "outputs": [
    {
     "name": "stdout",
     "output_type": "stream",
     "text": [
      "Saved model to disc\n"
     ]
    }
   ],
   "source": [
    "# Let's save the model to disc\n",
    "json = model_bidir.to_json()\n",
    "with open(\"/Users/niall/Documents/Cypress_Code/Models/BLSTM/Multipath/model_one_channel_one_power.json\", \"w\") as file:\n",
    "    file.write(json)\n",
    "model_bidir.save_weights(\"/Users/niall/Documents/Cypress_Code/Models/BLSTM/Multipath/model_one_channel_one_power.h5\")\n",
    "print(\"Saved model to disc\")"
   ]
  },
  {
   "cell_type": "code",
   "execution_count": 25,
   "metadata": {},
   "outputs": [],
   "source": [
    "# Load the model of interest\n",
    "json_file = open('/Users/niall/Documents/Cypress_Code/Models/BLSTM/Multipath/model_one_channel_one_power.json', 'r')\n",
    "json = json_file.read()\n",
    "json_file.close()\n",
    "model_avg_from_disc = model_from_json(json)\n",
    "model_avg_from_disc.load_weights(\"/Users/niall/Documents/Cypress_Code/Models/BLSTM/Multipath/model_one_channel_one_power.h5\")"
   ]
  },
  {
   "cell_type": "code",
   "execution_count": 26,
   "metadata": {},
   "outputs": [],
   "source": [
    "y_preds_lstm_minus = model_avg_from_disc.predict(X_test, batch_size=1)"
   ]
  },
  {
   "cell_type": "code",
   "execution_count": 27,
   "metadata": {},
   "outputs": [],
   "source": [
    "pred_avg = pd.DataFrame(y_preds_lstm_minus, columns =['Y_pred']) \n",
    "pred_avg['Label'] = y_test"
   ]
  },
  {
   "cell_type": "code",
   "execution_count": 28,
   "metadata": {},
   "outputs": [],
   "source": [
    "pred_avg.to_csv('/Users/niall/Documents/Cypress_Code/Predictions/BLSTM/Multipath/model_one_channel_one_power.csv', index = False)"
   ]
  },
  {
   "cell_type": "code",
   "execution_count": null,
   "metadata": {},
   "outputs": [],
   "source": []
  },
  {
   "cell_type": "code",
   "execution_count": 29,
   "metadata": {},
   "outputs": [],
   "source": [
    "def metrics(pred_tag, y_test):\n",
    "    print(\"F1-score: \", f1_score(pred_tag, y_test))\n",
    "    print(\"Precision: \", precision_score(pred_tag, y_test))\n",
    "    print(\"Recall: \", recall_score(pred_tag, y_test))\n",
    "    print(\"Acuracy: \", accuracy_score(pred_tag, y_test))\n",
    "    print(\"-\"*50)\n",
    "    print(classification_report(pred_tag, y_test))"
   ]
  },
  {
   "cell_type": "code",
   "execution_count": 30,
   "metadata": {},
   "outputs": [
    {
     "name": "stdout",
     "output_type": "stream",
     "text": [
      "F1-score:  0.9978495311338328\n",
      "Precision:  0.9980330385556426\n",
      "Recall:  0.9976660911823007\n",
      "Acuracy:  0.9979307692307692\n",
      "--------------------------------------------------\n",
      "              precision    recall  f1-score   support\n",
      "\n",
      "           0       1.00      1.00      1.00     67444\n",
      "           1       1.00      1.00      1.00     62556\n",
      "\n",
      "    accuracy                           1.00    130000\n",
      "   macro avg       1.00      1.00      1.00    130000\n",
      "weighted avg       1.00      1.00      1.00    130000\n",
      "\n"
     ]
    }
   ],
   "source": [
    "preds_new = model_avg_from_disc.predict_classes(X_test)\n",
    "metrics(preds_new, y_test)"
   ]
  },
  {
   "cell_type": "code",
   "execution_count": null,
   "metadata": {},
   "outputs": [],
   "source": []
  },
  {
   "cell_type": "code",
   "execution_count": null,
   "metadata": {},
   "outputs": [],
   "source": []
  },
  {
   "cell_type": "code",
   "execution_count": null,
   "metadata": {},
   "outputs": [],
   "source": []
  },
  {
   "cell_type": "code",
   "execution_count": null,
   "metadata": {},
   "outputs": [],
   "source": []
  },
  {
   "cell_type": "code",
   "execution_count": null,
   "metadata": {},
   "outputs": [],
   "source": []
  },
  {
   "cell_type": "code",
   "execution_count": null,
   "metadata": {},
   "outputs": [],
   "source": []
  },
  {
   "cell_type": "code",
   "execution_count": null,
   "metadata": {},
   "outputs": [],
   "source": []
  }
 ],
 "metadata": {
  "kernelspec": {
   "display_name": "DCUML",
   "language": "python",
   "name": "dcuml"
  },
  "language_info": {
   "codemirror_mode": {
    "name": "ipython",
    "version": 3
   },
   "file_extension": ".py",
   "mimetype": "text/x-python",
   "name": "python",
   "nbconvert_exporter": "python",
   "pygments_lexer": "ipython3",
   "version": "3.7.7"
  }
 },
 "nbformat": 4,
 "nbformat_minor": 4
}
