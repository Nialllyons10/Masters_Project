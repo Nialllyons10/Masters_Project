{
 "cells": [
  {
   "cell_type": "code",
   "execution_count": 1,
   "metadata": {},
   "outputs": [
    {
     "name": "stderr",
     "output_type": "stream",
     "text": [
      "/Users/niall/opt/anaconda3/envs/DCUML/lib/python3.7/site-packages/tensorflow/python/framework/dtypes.py:526: FutureWarning: Passing (type, 1) or '1type' as a synonym of type is deprecated; in a future version of numpy, it will be understood as (type, (1,)) / '(1,)type'.\n",
      "  _np_qint8 = np.dtype([(\"qint8\", np.int8, 1)])\n",
      "/Users/niall/opt/anaconda3/envs/DCUML/lib/python3.7/site-packages/tensorflow/python/framework/dtypes.py:527: FutureWarning: Passing (type, 1) or '1type' as a synonym of type is deprecated; in a future version of numpy, it will be understood as (type, (1,)) / '(1,)type'.\n",
      "  _np_quint8 = np.dtype([(\"quint8\", np.uint8, 1)])\n",
      "/Users/niall/opt/anaconda3/envs/DCUML/lib/python3.7/site-packages/tensorflow/python/framework/dtypes.py:528: FutureWarning: Passing (type, 1) or '1type' as a synonym of type is deprecated; in a future version of numpy, it will be understood as (type, (1,)) / '(1,)type'.\n",
      "  _np_qint16 = np.dtype([(\"qint16\", np.int16, 1)])\n",
      "/Users/niall/opt/anaconda3/envs/DCUML/lib/python3.7/site-packages/tensorflow/python/framework/dtypes.py:529: FutureWarning: Passing (type, 1) or '1type' as a synonym of type is deprecated; in a future version of numpy, it will be understood as (type, (1,)) / '(1,)type'.\n",
      "  _np_quint16 = np.dtype([(\"quint16\", np.uint16, 1)])\n",
      "/Users/niall/opt/anaconda3/envs/DCUML/lib/python3.7/site-packages/tensorflow/python/framework/dtypes.py:530: FutureWarning: Passing (type, 1) or '1type' as a synonym of type is deprecated; in a future version of numpy, it will be understood as (type, (1,)) / '(1,)type'.\n",
      "  _np_qint32 = np.dtype([(\"qint32\", np.int32, 1)])\n",
      "/Users/niall/opt/anaconda3/envs/DCUML/lib/python3.7/site-packages/tensorflow/python/framework/dtypes.py:535: FutureWarning: Passing (type, 1) or '1type' as a synonym of type is deprecated; in a future version of numpy, it will be understood as (type, (1,)) / '(1,)type'.\n",
      "  np_resource = np.dtype([(\"resource\", np.ubyte, 1)])\n"
     ]
    }
   ],
   "source": [
    "import numpy as np\n",
    "import pandas as pd\n",
    "import tensorflow as tf\n",
    "from tensorflow import keras\n",
    "from tensorflow.keras.models import Sequential\n",
    "from tensorflow.keras.layers import Dense, Dropout, LSTM\n",
    "from tensorflow.keras.preprocessing import sequence\n",
    "from tensorflow.keras.models import model_from_json\n",
    "from tensorflow.keras.layers import Embedding\n",
    "from tensorflow.keras.optimizers import SGD\n",
    "from tensorflow.keras.callbacks import ReduceLROnPlateau \n",
    "from tensorflow.keras.layers import Conv1D, TimeDistributed, Flatten, SpatialDropout1D, GlobalAveragePooling1D\n",
    "from tensorflow.keras.layers import MaxPooling1D, GlobalMaxPooling1D, Bidirectional\n",
    "from tensorflow.keras.preprocessing.sequence import pad_sequences\n",
    "from sklearn.model_selection import train_test_split\n",
    "from sklearn.metrics import classification_report\n",
    "from sklearn.metrics import confusion_matrix\n",
    "from sklearn.metrics import roc_curve\n",
    "from sklearn.metrics import roc_auc_score\n",
    "from matplotlib import pyplot as plt\n",
    "from sklearn.utils import shuffle\n",
    "import seaborn as sns\n",
    "from numpy import genfromtxt"
   ]
  },
  {
   "cell_type": "code",
   "execution_count": 2,
   "metadata": {},
   "outputs": [],
   "source": [
    "def get_data():\n",
    "    input_file = '/Users/niall/Documents/Cypress_Code/Data/Flip_bits/flip_bits_dataset_final.csv'\n",
    "    my_data_flipped = genfromtxt(input_file, delimiter=',')\n",
    "\n",
    "    new_data = np.delete(my_data_flipped, (0), axis=0)\n",
    "    X2 = np.delete(new_data, (0,32), axis=1)\n",
    "    Y2 = new_data[:,32]\n",
    "    X_train, X_test, y_train, y_test = train_test_split(X2, Y2, test_size=0.25, random_state=42)\n",
    "    X_train = np.array(X_train).reshape((np.shape(X_train)[0], 1, np.shape(X_train)[1]))\n",
    "    X_test = np.array(X_test).reshape((np.shape(X_test)[0], 1, np.shape(X_test)[1]))\n",
    "\n",
    "    return X_train, X_test, y_train, y_test"
   ]
  },
  {
   "cell_type": "code",
   "execution_count": 3,
   "metadata": {},
   "outputs": [],
   "source": [
    "flip_bit_data = get_data()"
   ]
  },
  {
   "cell_type": "code",
   "execution_count": 4,
   "metadata": {},
   "outputs": [],
   "source": [
    "X_train = flip_bit_data[0]\n",
    "X_test = flip_bit_data[1]\n",
    "y_train = flip_bit_data[2]\n",
    "y_test = flip_bit_data[3]"
   ]
  },
  {
   "cell_type": "markdown",
   "metadata": {},
   "source": [
    "## Bidirectional LSTM with GlobalMaxPool"
   ]
  },
  {
   "cell_type": "code",
   "execution_count": 30,
   "metadata": {},
   "outputs": [
    {
     "name": "stdout",
     "output_type": "stream",
     "text": [
      "_________________________________________________________________\n",
      "Layer (type)                 Output Shape              Param #   \n",
      "=================================================================\n",
      "bidirectional_4 (Bidirection (None, 1, 62)             15624     \n",
      "_________________________________________________________________\n",
      "global_max_pooling1d_2 (Glob (None, 62)                0         \n",
      "_________________________________________________________________\n",
      "dense_4 (Dense)              (None, 16)                1008      \n",
      "_________________________________________________________________\n",
      "dropout_2 (Dropout)          (None, 16)                0         \n",
      "_________________________________________________________________\n",
      "dense_5 (Dense)              (None, 1)                 17        \n",
      "=================================================================\n",
      "Total params: 16,649\n",
      "Trainable params: 16,649\n",
      "Non-trainable params: 0\n",
      "_________________________________________________________________\n"
     ]
    }
   ],
   "source": [
    "num_neurons = 31\n",
    "num_features = 31\n",
    "\n",
    "model_bidir = Sequential()\n",
    "model_bidir.add(Bidirectional(LSTM(num_neurons, return_sequences=True),input_shape=(1, num_features)))\n",
    "model_bidir.add(GlobalMaxPooling1D())\n",
    "model_bidir.add(Dense(16, activation='sigmoid'))\n",
    "model_bidir.add(Dropout(0.2))\n",
    "model_bidir.add(Dense(1, activation='sigmoid'))\n",
    "\n",
    "\n",
    "rlrp = ReduceLROnPlateau(monitor='val_loss', factor=0.1, patience=2)\n",
    "model_bidir.compile(loss='binary_crossentropy', optimizer='adam', metrics=['accuracy'])\n",
    "model_bidir.summary()"
   ]
  },
  {
   "cell_type": "code",
   "execution_count": 31,
   "metadata": {},
   "outputs": [],
   "source": [
    "model_bidir.compile(loss='binary_crossentropy', optimizer='adam', metrics=['accuracy'])"
   ]
  },
  {
   "cell_type": "code",
   "execution_count": 32,
   "metadata": {},
   "outputs": [
    {
     "name": "stdout",
     "output_type": "stream",
     "text": [
      "Training BLSTM...\n",
      "Train on 450000 samples, validate on 150000 samples\n",
      "Epoch 1/5\n",
      "450000/450000 [==============================] - 337s 749us/sample - loss: 0.0419 - acc: 0.9857 - val_loss: 0.0371 - val_acc: 0.9874\n",
      "Epoch 2/5\n",
      "450000/450000 [==============================] - 334s 741us/sample - loss: 0.0366 - acc: 0.9873 - val_loss: 0.0347 - val_acc: 0.9878\n",
      "Epoch 3/5\n",
      "450000/450000 [==============================] - 329s 730us/sample - loss: 0.0351 - acc: 0.9877 - val_loss: 0.0354 - val_acc: 0.9876\n",
      "Epoch 4/5\n",
      "450000/450000 [==============================] - 331s 735us/sample - loss: 0.0346 - acc: 0.9879 - val_loss: 0.0339 - val_acc: 0.9879\n",
      "Epoch 5/5\n",
      "450000/450000 [==============================] - 334s 742us/sample - loss: 0.0340 - acc: 0.9882 - val_loss: 0.0366 - val_acc: 0.9874\n"
     ]
    }
   ],
   "source": [
    "print('Training BLSTM...')\n",
    "\n",
    "batch_size = 5\n",
    "\n",
    "history_one_blstm = model_bidir.fit(X_train, y_train,\n",
    "                    batch_size=batch_size,\n",
    "                    epochs=5,\n",
    "                    validation_data=(X_test, y_test))"
   ]
  },
  {
   "cell_type": "code",
   "execution_count": 34,
   "metadata": {},
   "outputs": [
    {
     "name": "stdout",
     "output_type": "stream",
     "text": [
      "150000/150000 [==============================] - 5s 31us/sample - loss: 0.0366 - acc: 0.9874\n",
      "Test Loss:  0.036621900583805204\n",
      "Test Accuracy 0.98736\n",
      "dict_keys(['loss', 'acc', 'val_loss', 'val_acc'])\n"
     ]
    },
    {
     "data": {
      "image/png": "[encoded data removed]",
      "text/plain": [
       "<Figure size 432x288 with 1 Axes>"
      ]
     },
     "metadata": {
      "needs_background": "light"
     },
     "output_type": "display_data"
    },
    {
     "data": {
      "image/png": "[encoded data removed]",
      "text/plain": [
       "<Figure size 432x288 with 1 Axes>"
      ]
     },
     "metadata": {
      "needs_background": "light"
     },
     "output_type": "display_data"
    }
   ],
   "source": [
    "score = model_bidir.evaluate(X_test, y_test)\n",
    "print('Test Loss: ', score[0])\n",
    "print('Test Accuracy', score[1])\n",
    "\n",
    "\n",
    "# list all data in history\n",
    "print(history_one_blstm.history.keys())\n",
    "# summarize history for accuracy\n",
    "plt.plot(history_one_blstm.history['acc'])\n",
    "plt.plot(history_one_blstm.history['val_acc'])\n",
    "plt.title('Model Accuracy')\n",
    "plt.ylabel('accuracy')\n",
    "plt.xlabel('epoch')\n",
    "plt.legend(['train', 'test'], loc='upper left')\n",
    "plt.show()\n",
    "# summarize history for loss\n",
    "plt.plot(history_one_blstm.history['loss'])\n",
    "plt.plot(history_one_blstm.history['val_loss'])\n",
    "plt.title('Model Loss')\n",
    "plt.ylabel('loss')\n",
    "plt.xlabel('epoch')\n",
    "plt.legend(['train', 'test'], loc='upper left')\n",
    "plt.show()"
   ]
  },
  {
   "cell_type": "code",
   "execution_count": 40,
   "metadata": {},
   "outputs": [
    {
     "name": "stdout",
     "output_type": "stream",
     "text": [
      "Saved model to disc\n"
     ]
    }
   ],
   "source": [
    "# Let's save the model to disc\n",
    "json = model_bidir.to_json()\n",
    "with open(\"/Users/niall/Documents/Cypress_Code/Models/BLSTM/Flip_bits/model_one_blstm_flip_bits.json\", \"w\") as file:\n",
    "    file.write(json)\n",
    "model_bidir.save_weights(\"/Users/niall/Documents/Cypress_Code/Models/BLSTM/Flip_bits/model_one_blstm_flip_bits.h5\")\n",
    "print(\"Saved model to disc\")"
   ]
  },
  {
   "cell_type": "code",
   "execution_count": 41,
   "metadata": {},
   "outputs": [],
   "source": [
    "# Load the model of interest\n",
    "json_file = open('/Users/niall/Documents/Cypress_Code/Models/BLSTM/Flip_bits/model_one_blstm_flip_bits.json', 'r')\n",
    "json = json_file.read()\n",
    "json_file.close()\n",
    "model_avg_from_disc = model_from_json(json)\n",
    "model_avg_from_disc.load_weights(\"/Users/niall/Documents/Cypress_Code/Models/BLSTM/Flip_bits/model_one_blstm_flip_bits.h5\")"
   ]
  },
  {
   "cell_type": "code",
   "execution_count": 42,
   "metadata": {},
   "outputs": [],
   "source": [
    "y_preds_blstm_minus = model_avg_from_disc.predict(X_test, batch_size=1)"
   ]
  },
  {
   "cell_type": "code",
   "execution_count": 43,
   "metadata": {},
   "outputs": [],
   "source": [
    "pred_avg = pd.DataFrame(y_preds_blstm_minus, columns =['Y_pred']) \n",
    "pred_avg['Label'] = y_test"
   ]
  },
  {
   "cell_type": "code",
   "execution_count": 44,
   "metadata": {},
   "outputs": [],
   "source": [
    "pred_avg.to_csv('/Users/niall/Documents/Cypress_Code/Predictions/BLSTM/Flip_bits/model_one_blstm_flip_bits.csv', index = False)"
   ]
  },
  {
   "cell_type": "markdown",
   "metadata": {},
   "source": [
    "## Bidirectional with different activation functions"
   ]
  },
  {
   "cell_type": "code",
   "execution_count": 15,
   "metadata": {},
   "outputs": [
    {
     "name": "stdout",
     "output_type": "stream",
     "text": [
      "Train on 450000 samples, validate on 150000 samples\n",
      "WARNING:tensorflow:From /Users/niall/opt/anaconda3/envs/DCUML/lib/python3.7/site-packages/tensorflow/python/ops/math_ops.py:3066: to_int32 (from tensorflow.python.ops.math_ops) is deprecated and will be removed in a future version.\n",
      "Instructions for updating:\n",
      "Use tf.cast instead.\n",
      "WARNING:tensorflow:From /Users/niall/opt/anaconda3/envs/DCUML/lib/python3.7/site-packages/tensorflow/python/ops/math_grad.py:102: div (from tensorflow.python.ops.math_ops) is deprecated and will be removed in a future version.\n",
      "Instructions for updating:\n",
      "Deprecated in favor of operator or tf.math.divide.\n",
      "Epoch 1/5\n",
      "450000/450000 [==============================] - 338s 752us/sample - loss: 0.0841 - acc: 0.9837 - val_loss: 0.0860 - val_acc: 0.9873\n",
      "Epoch 2/5\n",
      "450000/450000 [==============================] - 338s 752us/sample - loss: 0.0755 - acc: 0.9853 - val_loss: 0.0781 - val_acc: 0.9868\n",
      "Epoch 3/5\n",
      "450000/450000 [==============================] - 340s 755us/sample - loss: 0.0767 - acc: 0.9865 - val_loss: 0.0708 - val_acc: 0.9871 0s - loss: 0.0767 \n",
      "Epoch 4/5\n",
      "450000/450000 [==============================] - 343s 763us/sample - loss: 0.0771 - acc: 0.9868 - val_loss: 0.0800 - val_acc: 0.9867- ac - ETA: 1s -\n",
      "Epoch 5/5\n",
      "450000/450000 [==============================] - 343s 763us/sample - loss: 0.0779 - acc: 0.9869 - val_loss: 0.0808 - val_acc: 0.9873\n",
      "Train on 450000 samples, validate on 150000 samples\n",
      "Epoch 1/5\n",
      "450000/450000 [==============================] - 354s 786us/sample - loss: 0.0411 - acc: 0.9861 - val_loss: 0.0362 - val_acc: 0.9871 - loss: 0\n",
      "Epoch 2/5\n",
      "450000/450000 [==============================] - 346s 769us/sample - loss: 0.0360 - acc: 0.9876 - val_loss: 0.0341 - val_acc: 0.9878\n",
      "Epoch 3/5\n",
      "450000/450000 [==============================] - 348s 774us/sample - loss: 0.0348 - acc: 0.9879 - val_loss: 0.0352 - val_acc: 0.9880\n",
      "Epoch 4/5\n",
      "450000/450000 [==============================] - 349s 775us/sample - loss: 0.0342 - acc: 0.9880 - val_loss: 0.0366 - val_acc: 0.9875\n",
      "Epoch 5/5\n",
      "450000/450000 [==============================] - 349s 775us/sample - loss: 0.0336 - acc: 0.9882 - val_loss: 0.0345 - val_acc: 0.9875\n",
      "Train on 450000 samples, validate on 150000 samples\n",
      "Epoch 1/5\n",
      "450000/450000 [==============================] - 336s 746us/sample - loss: 0.0872 - acc: 0.9824 - val_loss: 0.0663 - val_acc: 0.9844\n",
      "Epoch 2/5\n",
      "450000/450000 [==============================] - 313s 695us/sample - loss: 0.0773 - acc: 0.9854 - val_loss: 0.0938 - val_acc: 0.9866\n",
      "Epoch 3/5\n",
      "450000/450000 [==============================] - 314s 697us/sample - loss: 0.0798 - acc: 0.9860 - val_loss: 0.0743 - val_acc: 0.9865\n",
      "Epoch 4/5\n",
      "450000/450000 [==============================] - 313s 695us/sample - loss: 0.0828 - acc: 0.9858 - val_loss: 0.0850 - val_acc: 0.9871\n",
      "Epoch 5/5\n",
      "450000/450000 [==============================] - 314s 697us/sample - loss: 0.0839 - acc: 0.9860 - val_loss: 0.0970 - val_acc: 0.9870\n",
      "Train on 450000 samples, validate on 150000 samples\n",
      "Epoch 1/5\n",
      "450000/450000 [==============================] - 322s 715us/sample - loss: 0.0948 - acc: 0.9815 - val_loss: 0.0874 - val_acc: 0.9863\n",
      "Epoch 2/5\n",
      "450000/450000 [==============================] - 317s 705us/sample - loss: 0.0832 - acc: 0.9858 - val_loss: 0.1108 - val_acc: 0.9860\n",
      "Epoch 3/5\n",
      "450000/450000 [==============================] - 319s 708us/sample - loss: 0.0924 - acc: 0.9861 - val_loss: 0.0968 - val_acc: 0.9871\n",
      "Epoch 4/5\n",
      "450000/450000 [==============================] - 318s 706us/sample - loss: 0.1016 - acc: 0.9858 - val_loss: 0.0949 - val_acc: 0.9866\n",
      "Epoch 5/5\n",
      "450000/450000 [==============================] - 319s 709us/sample - loss: 0.1023 - acc: 0.9863 - val_loss: 0.0879 - val_acc: 0.9854\n"
     ]
    },
    {
     "data": {
      "text/plain": [
       "<matplotlib.legend.Legend at 0x7fda28ffc6d0>"
      ]
     },
     "execution_count": 15,
     "metadata": {},
     "output_type": "execute_result"
    },
    {
     "data": {
      "image/png": "[encoded data removed]",
      "text/plain": [
       "<Figure size 432x288 with 1 Axes>"
      ]
     },
     "metadata": {
      "needs_background": "light"
     },
     "output_type": "display_data"
    }
   ],
   "source": [
    "num_neurons = 31\n",
    "num_features = 31\n",
    "batch_size = 5\n",
    "\n",
    "for activation in [None, 'sigmoid', 'tanh', 'relu']:\n",
    "    model_bidir = Sequential()\n",
    "    model_bidir.add(Bidirectional(LSTM(num_neurons, return_sequences=True),input_shape=(1, num_features)))\n",
    "    model_bidir.add(GlobalMaxPooling1D())\n",
    "    model_bidir.add(Dense(16, activation=activation))\n",
    "    model_bidir.add(Dropout(0.2))\n",
    "    model_bidir.add(Dense(1, activation=activation))\n",
    "    rlrp = ReduceLROnPlateau(monitor='val_loss', factor=0.1, patience=2)\n",
    "    model_bidir.compile(loss='binary_crossentropy', optimizer='adam', metrics=['accuracy'])\n",
    "\n",
    "    history = model_bidir.fit(X_train, y_train,\n",
    "                    batch_size=batch_size,\n",
    "                    epochs=5,\n",
    "                    validation_data=(X_test, y_test))\n",
    "    \n",
    "    plt.plot(history.history['val_acc'])\n",
    "\n",
    "plt.title('Model Loss')\n",
    "plt.ylabel('Loss')\n",
    "plt.xlabel('Epoch')\n",
    "plt.legend(['None', 'Sigmoid', 'Tanh', 'Relu'], loc='upper left')\n",
    "\n"
   ]
  },
  {
   "cell_type": "code",
   "execution_count": 5,
   "metadata": {},
   "outputs": [
    {
     "name": "stdout",
     "output_type": "stream",
     "text": [
      "WARNING:tensorflow:From /Users/niall/opt/anaconda3/envs/DCUML/lib/python3.7/site-packages/tensorflow/python/ops/resource_variable_ops.py:435: colocate_with (from tensorflow.python.framework.ops) is deprecated and will be removed in a future version.\n",
      "Instructions for updating:\n",
      "Colocations handled automatically by placer.\n",
      "WARNING:tensorflow:From /Users/niall/opt/anaconda3/envs/DCUML/lib/python3.7/site-packages/tensorflow/python/keras/layers/core.py:143: calling dropout (from tensorflow.python.ops.nn_ops) with keep_prob is deprecated and will be removed in a future version.\n",
      "Instructions for updating:\n",
      "Please use `rate` instead of `keep_prob`. Rate should be set to `rate = 1 - keep_prob`.\n",
      "Train on 450000 samples, validate on 150000 samples\n",
      "WARNING:tensorflow:From /Users/niall/opt/anaconda3/envs/DCUML/lib/python3.7/site-packages/tensorflow/python/ops/math_ops.py:3066: to_int32 (from tensorflow.python.ops.math_ops) is deprecated and will be removed in a future version.\n",
      "Instructions for updating:\n",
      "Use tf.cast instead.\n",
      "WARNING:tensorflow:From /Users/niall/opt/anaconda3/envs/DCUML/lib/python3.7/site-packages/tensorflow/python/ops/math_grad.py:102: div (from tensorflow.python.ops.math_ops) is deprecated and will be removed in a future version.\n",
      "Instructions for updating:\n",
      "Deprecated in favor of operator or tf.math.divide.\n",
      "Epoch 1/5\n",
      "450000/450000 [==============================] - 334s 743us/sample - loss: 0.0810 - acc: 0.9828 - val_loss: 0.0856 - val_acc: 0.9861\n",
      "Epoch 2/5\n",
      "450000/450000 [==============================] - 297s 660us/sample - loss: 0.0778 - acc: 0.9854 - val_loss: 0.0895 - val_acc: 0.9865\n",
      "Epoch 3/5\n",
      "450000/450000 [==============================] - 288s 639us/sample - loss: 0.0785 - acc: 0.9863 - val_loss: 0.0836 - val_acc: 0.9869\n",
      "Epoch 4/5\n",
      "450000/450000 [==============================] - 287s 638us/sample - loss: 0.0745 - acc: 0.9866 - val_loss: 0.0644 - val_acc: 0.9853\n",
      "Epoch 5/5\n",
      "450000/450000 [==============================] - 296s 658us/sample - loss: 0.0802 - acc: 0.9865 - val_loss: 0.0822 - val_acc: 0.9866\n",
      "Train on 450000 samples, validate on 150000 samples\n",
      "Epoch 1/5\n",
      "450000/450000 [==============================] - 325s 722us/sample - loss: 0.0411 - acc: 0.9862 - val_loss: 0.0384 - val_acc: 0.9871\n",
      "Epoch 2/5\n",
      "450000/450000 [==============================] - 329s 731us/sample - loss: 0.0360 - acc: 0.9876 - val_loss: 0.0356 - val_acc: 0.9874\n",
      "Epoch 3/5\n",
      "450000/450000 [==============================] - 306s 681us/sample - loss: 0.0346 - acc: 0.9879 - val_loss: 0.0341 - val_acc: 0.9879\n",
      "Epoch 4/5\n",
      "450000/450000 [==============================] - 330s 733us/sample - loss: 0.0341 - acc: 0.9881 - val_loss: 0.0344 - val_acc: 0.9877\n",
      "Epoch 5/5\n",
      "450000/450000 [==============================] - 320s 710us/sample - loss: 0.0336 - acc: 0.9881 - val_loss: 0.0352 - val_acc: 0.9874\n",
      "Train on 450000 samples, validate on 150000 samples\n",
      "Epoch 1/5\n",
      "450000/450000 [==============================] - 328s 728us/sample - loss: 5.3719 - acc: 0.6667 - val_loss: 5.3750 - val_acc: 0.6665\n",
      "Epoch 2/5\n",
      "450000/450000 [==============================] - 326s 725us/sample - loss: 5.3719 - acc: 0.6667 - val_loss: 5.3750 - val_acc: 0.6665\n",
      "Epoch 3/5\n",
      "450000/450000 [==============================] - 344s 764us/sample - loss: 5.3719 - acc: 0.6667 - val_loss: 5.3750 - val_acc: 0.6665\n",
      "Epoch 4/5\n",
      "450000/450000 [==============================] - 386s 858us/sample - loss: 5.3719 - acc: 0.6667 - val_loss: 5.3750 - val_acc: 0.6665\n",
      "Epoch 5/5\n",
      "450000/450000 [==============================] - 298s 662us/sample - loss: 5.3719 - acc: 0.6667 - val_loss: 5.3750 - val_acc: 0.6665\n",
      "Train on 450000 samples, validate on 150000 samples\n",
      "Epoch 1/5\n",
      "450000/450000 [==============================] - 358s 795us/sample - loss: 0.0961 - acc: 0.9820 - val_loss: 0.0773 - val_acc: 0.9854\n",
      "Epoch 2/5\n",
      "450000/450000 [==============================] - 354s 787us/sample - loss: 0.0959 - acc: 0.9855 - val_loss: 0.1189 - val_acc: 0.9866\n",
      "Epoch 3/5\n",
      "450000/450000 [==============================] - 343s 762us/sample - loss: 0.0985 - acc: 0.9857 - val_loss: 0.1172 - val_acc: 0.9869\n",
      "Epoch 4/5\n",
      "450000/450000 [==============================] - 339s 753us/sample - loss: 0.1112 - acc: 0.9863 - val_loss: 0.1145 - val_acc: 0.9875\n",
      "Epoch 5/5\n",
      "450000/450000 [==============================] - 340s 755us/sample - loss: 0.1212 - acc: 0.9868 - val_loss: 0.1387 - val_acc: 0.9863\n"
     ]
    },
    {
     "data": {
      "text/plain": [
       "<matplotlib.legend.Legend at 0x7fc0997c7f10>"
      ]
     },
     "execution_count": 5,
     "metadata": {},
     "output_type": "execute_result"
    },
    {
     "data": {
      "image/png": "[encoded data removed]",
      "text/plain": [
       "<Figure size 432x288 with 1 Axes>"
      ]
     },
     "metadata": {
      "needs_background": "light"
     },
     "output_type": "display_data"
    }
   ],
   "source": [
    "num_neurons = 31\n",
    "num_features = 31\n",
    "batch_size = 5\n",
    "\n",
    "for activation in [None, 'sigmoid', 'tanh', 'relu']:\n",
    "    model_bidir = Sequential()\n",
    "    model_bidir.add(Bidirectional(LSTM(num_neurons, return_sequences=True),input_shape=(1, num_features)))\n",
    "    model_bidir.add(GlobalMaxPooling1D())\n",
    "    model_bidir.add(Dense(16, activation=activation))\n",
    "    model_bidir.add(Dropout(0.2))\n",
    "    model_bidir.add(Dense(1, activation=activation))\n",
    "    rlrp = ReduceLROnPlateau(monitor='val_loss', factor=0.1, patience=2)\n",
    "    model_bidir.compile(loss='binary_crossentropy', optimizer='adam', metrics=['accuracy'])\n",
    "\n",
    "    history = model_bidir.fit(X_train, y_train,\n",
    "                    batch_size=batch_size,\n",
    "                    epochs=5,\n",
    "                    validation_data=(X_test, y_test))\n",
    "    \n",
    "    plt.plot(history.history['val_loss'])\n",
    "\n",
    "plt.title('Model Loss')\n",
    "plt.ylabel('Loss')\n",
    "plt.xlabel('Epoch')\n",
    "plt.legend(['None', 'Sigmoid', 'Tanh', 'Relu'], loc='upper left')"
   ]
  },
  {
   "cell_type": "markdown",
   "metadata": {},
   "source": [
    "## BLSTM GlobalAveragePooling"
   ]
  },
  {
   "cell_type": "code",
   "execution_count": 8,
   "metadata": {},
   "outputs": [
    {
     "name": "stdout",
     "output_type": "stream",
     "text": [
      "_________________________________________________________________\n",
      "Layer (type)                 Output Shape              Param #   \n",
      "=================================================================\n",
      "bidirectional_7 (Bidirection (None, 1, 62)             15624     \n",
      "_________________________________________________________________\n",
      "spatial_dropout1d_1 (Spatial (None, 1, 62)             0         \n",
      "_________________________________________________________________\n",
      "bidirectional_8 (Bidirection (None, 1, 62)             23312     \n",
      "_________________________________________________________________\n",
      "global_average_pooling1d_1 ( (None, 62)                0         \n",
      "_________________________________________________________________\n",
      "dense_10 (Dense)             (None, 16)                1008      \n",
      "_________________________________________________________________\n",
      "dropout_5 (Dropout)          (None, 16)                0         \n",
      "_________________________________________________________________\n",
      "dense_11 (Dense)             (None, 1)                 17        \n",
      "=================================================================\n",
      "Total params: 39,961\n",
      "Trainable params: 39,961\n",
      "Non-trainable params: 0\n",
      "_________________________________________________________________\n"
     ]
    }
   ],
   "source": [
    "num_neurons = 31\n",
    "num_features = 31\n",
    "\n",
    "model_blstm_avg = Sequential()\n",
    "model_blstm_avg.add(Bidirectional(LSTM(num_neurons, return_sequences=True),input_shape=(1, num_features)))\n",
    "model_blstm_avg.add(SpatialDropout1D(0.2))\n",
    "model_blstm_avg.add(Bidirectional(LSTM(num_neurons, return_sequences=True),input_shape=(1, num_features)))\n",
    "model_blstm_avg.add(GlobalAveragePooling1D())\n",
    "model_blstm_avg.add(Dense(16, activation='sigmoid'))\n",
    "model_blstm_avg.add(Dropout(0.2))\n",
    "model_blstm_avg.add(Dense(1, activation='sigmoid'))\n",
    "\n",
    "rlrp = ReduceLROnPlateau(monitor='val_loss', factor=0.1, patience=2)\n",
    "model_blstm_avg.compile(loss='binary_crossentropy', optimizer='adam', metrics=['accuracy'])\n",
    "model_blstm_avg.summary()"
   ]
  },
  {
   "cell_type": "code",
   "execution_count": 9,
   "metadata": {},
   "outputs": [
    {
     "name": "stdout",
     "output_type": "stream",
     "text": [
      "Training BLSTM...\n",
      "Train on 450000 samples, validate on 150000 samples\n",
      "Epoch 1/5\n",
      "450000/450000 [==============================] - 576s 1ms/sample - loss: 0.0443 - acc: 0.9852 - val_loss: 0.0366 - val_acc: 0.9870\n",
      "Epoch 2/5\n",
      "450000/450000 [==============================] - 579s 1ms/sample - loss: 0.0380 - acc: 0.9870 - val_loss: 0.0373 - val_acc: 0.9873\n",
      "Epoch 3/5\n",
      "450000/450000 [==============================] - 693s 2ms/sample - loss: 0.0370 - acc: 0.9874 - val_loss: 0.0354 - val_acc: 0.9874\n",
      "Epoch 4/5\n",
      "450000/450000 [==============================] - 645s 1ms/sample - loss: 0.0364 - acc: 0.9877 - val_loss: 0.0345 - val_acc: 0.9879\n",
      "Epoch 5/5\n",
      "450000/450000 [==============================] - 574s 1ms/sample - loss: 0.0359 - acc: 0.9878 - val_loss: 0.0346 - val_acc: 0.9876\n"
     ]
    }
   ],
   "source": [
    "print('Training BLSTM...')\n",
    "\n",
    "batch_size = 5\n",
    "\n",
    "hist_model_blstm_avg = model_blstm_avg.fit(X_train, y_train, \n",
    "                                      batch_size=batch_size,\n",
    "                                      epochs=5,\n",
    "                                      validation_data=(X_test, y_test), \n",
    "                                      callbacks=[rlrp] ,verbose=1)"
   ]
  },
  {
   "cell_type": "code",
   "execution_count": 10,
   "metadata": {},
   "outputs": [
    {
     "ename": "AttributeError",
     "evalue": "'History' object has no attribute 'evaluate'",
     "output_type": "error",
     "traceback": [
      "\u001b[0;31m---------------------------------------------------------------------------\u001b[0m",
      "\u001b[0;31mAttributeError\u001b[0m                            Traceback (most recent call last)",
      "\u001b[0;32m<ipython-input-10-4c4b719ccb88>\u001b[0m in \u001b[0;36m<module>\u001b[0;34m\u001b[0m\n\u001b[0;32m----> 1\u001b[0;31m \u001b[0mscore\u001b[0m \u001b[0;34m=\u001b[0m \u001b[0mmodel_blstm_avg\u001b[0m\u001b[0;34m.\u001b[0m\u001b[0mevaluate\u001b[0m\u001b[0;34m(\u001b[0m\u001b[0mX_test\u001b[0m\u001b[0;34m,\u001b[0m \u001b[0my_test\u001b[0m\u001b[0;34m)\u001b[0m\u001b[0;34m\u001b[0m\u001b[0;34m\u001b[0m\u001b[0m\n\u001b[0m\u001b[1;32m      2\u001b[0m \u001b[0mprint\u001b[0m\u001b[0;34m(\u001b[0m\u001b[0;34m'Test Loss: '\u001b[0m\u001b[0;34m,\u001b[0m \u001b[0mscore\u001b[0m\u001b[0;34m[\u001b[0m\u001b[0;36m0\u001b[0m\u001b[0;34m]\u001b[0m\u001b[0;34m)\u001b[0m\u001b[0;34m\u001b[0m\u001b[0;34m\u001b[0m\u001b[0m\n\u001b[1;32m      3\u001b[0m \u001b[0mprint\u001b[0m\u001b[0;34m(\u001b[0m\u001b[0;34m'Test Accuracy'\u001b[0m\u001b[0;34m,\u001b[0m \u001b[0mscore\u001b[0m\u001b[0;34m[\u001b[0m\u001b[0;36m1\u001b[0m\u001b[0;34m]\u001b[0m\u001b[0;34m)\u001b[0m\u001b[0;34m\u001b[0m\u001b[0;34m\u001b[0m\u001b[0m\n\u001b[1;32m      4\u001b[0m \u001b[0;34m\u001b[0m\u001b[0m\n\u001b[1;32m      5\u001b[0m \u001b[0;34m\u001b[0m\u001b[0m\n",
      "\u001b[0;31mAttributeError\u001b[0m: 'History' object has no attribute 'evaluate'"
     ]
    }
   ],
   "source": [
    "score = model_blstm_avg.evaluate(X_test, y_test)\n",
    "print('Test Loss: ', score[0])\n",
    "print('Test Accuracy', score[1])\n",
    "\n",
    "\n",
    "# list all data in history\n",
    "print(hist_model_blstm_avg.history.keys())\n",
    "# summarize history for accuracy\n",
    "plt.plot(hist_model_blstm_avg.history['acc'])\n",
    "plt.plot(hist_model_blstm_avg.history['val_acc'])\n",
    "plt.title('Model Accuracy')\n",
    "plt.ylabel('accuracy')\n",
    "plt.xlabel('epoch')\n",
    "plt.legend(['train', 'test'], loc='upper left')\n",
    "plt.show()\n",
    "# summarize history for loss\n",
    "plt.plot(hist_model_blstm_avg.history['loss'])\n",
    "plt.plot(hist_model_blstm_avg.history['val_loss'])\n",
    "plt.title('Model Loss')\n",
    "plt.ylabel('loss')\n",
    "plt.xlabel('epoch')\n",
    "plt.legend(['train', 'test'], loc='upper left')\n",
    "plt.show()"
   ]
  },
  {
   "cell_type": "code",
   "execution_count": null,
   "metadata": {},
   "outputs": [],
   "source": []
  },
  {
   "cell_type": "code",
   "execution_count": null,
   "metadata": {},
   "outputs": [],
   "source": []
  },
  {
   "cell_type": "code",
   "execution_count": null,
   "metadata": {},
   "outputs": [],
   "source": []
  },
  {
   "cell_type": "code",
   "execution_count": null,
   "metadata": {},
   "outputs": [],
   "source": []
  },
  {
   "cell_type": "code",
   "execution_count": null,
   "metadata": {},
   "outputs": [],
   "source": []
  }
 ],
 "metadata": {
  "kernelspec": {
   "display_name": "DCUML",
   "language": "python",
   "name": "dcuml"
  },
  "language_info": {
   "codemirror_mode": {
    "name": "ipython",
    "version": 3
   },
   "file_extension": ".py",
   "mimetype": "text/x-python",
   "name": "python",
   "nbconvert_exporter": "python",
   "pygments_lexer": "ipython3",
   "version": "3.7.7"
  }
 },
 "nbformat": 4,
 "nbformat_minor": 4
}
