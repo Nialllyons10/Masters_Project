{
 "cells": [
  {
   "cell_type": "code",
   "execution_count": 1,
   "metadata": {},
   "outputs": [
    {
     "name": "stderr",
     "output_type": "stream",
     "text": [
      "/Users/niall/opt/anaconda3/envs/DCUML/lib/python3.7/site-packages/tensorflow/python/framework/dtypes.py:526: FutureWarning: Passing (type, 1) or '1type' as a synonym of type is deprecated; in a future version of numpy, it will be understood as (type, (1,)) / '(1,)type'.\n",
      "  _np_qint8 = np.dtype([(\"qint8\", np.int8, 1)])\n",
      "/Users/niall/opt/anaconda3/envs/DCUML/lib/python3.7/site-packages/tensorflow/python/framework/dtypes.py:527: FutureWarning: Passing (type, 1) or '1type' as a synonym of type is deprecated; in a future version of numpy, it will be understood as (type, (1,)) / '(1,)type'.\n",
      "  _np_quint8 = np.dtype([(\"quint8\", np.uint8, 1)])\n",
      "/Users/niall/opt/anaconda3/envs/DCUML/lib/python3.7/site-packages/tensorflow/python/framework/dtypes.py:528: FutureWarning: Passing (type, 1) or '1type' as a synonym of type is deprecated; in a future version of numpy, it will be understood as (type, (1,)) / '(1,)type'.\n",
      "  _np_qint16 = np.dtype([(\"qint16\", np.int16, 1)])\n",
      "/Users/niall/opt/anaconda3/envs/DCUML/lib/python3.7/site-packages/tensorflow/python/framework/dtypes.py:529: FutureWarning: Passing (type, 1) or '1type' as a synonym of type is deprecated; in a future version of numpy, it will be understood as (type, (1,)) / '(1,)type'.\n",
      "  _np_quint16 = np.dtype([(\"quint16\", np.uint16, 1)])\n",
      "/Users/niall/opt/anaconda3/envs/DCUML/lib/python3.7/site-packages/tensorflow/python/framework/dtypes.py:530: FutureWarning: Passing (type, 1) or '1type' as a synonym of type is deprecated; in a future version of numpy, it will be understood as (type, (1,)) / '(1,)type'.\n",
      "  _np_qint32 = np.dtype([(\"qint32\", np.int32, 1)])\n",
      "/Users/niall/opt/anaconda3/envs/DCUML/lib/python3.7/site-packages/tensorflow/python/framework/dtypes.py:535: FutureWarning: Passing (type, 1) or '1type' as a synonym of type is deprecated; in a future version of numpy, it will be understood as (type, (1,)) / '(1,)type'.\n",
      "  np_resource = np.dtype([(\"resource\", np.ubyte, 1)])\n"
     ]
    }
   ],
   "source": [
    "import numpy as np\n",
    "import pandas as pd\n",
    "import tensorflow as tf\n",
    "from tensorflow import keras\n",
    "from tensorflow.keras.models import Sequential, model_from_json\n",
    "from tensorflow.keras.preprocessing import sequence\n",
    "from tensorflow.keras.optimizers import SGD\n",
    "from tensorflow.keras.callbacks import ReduceLROnPlateau \n",
    "from tensorflow.keras.layers import Dense, Dropout, LSTM,Conv1D, TimeDistributed, Flatten, SpatialDropout1D, GlobalAveragePooling1D, SimpleRNN, MaxPooling1D, GlobalMaxPooling1D, Bidirectional\n",
    "from sklearn.model_selection import train_test_split\n",
    "from sklearn.metrics import roc_curve, f1_score, recall_score, accuracy_score, roc_auc_score, confusion_matrix, precision_score, classification_report\n",
    "from numpy import sqrt\n",
    "from numpy import argmax\n",
    "from matplotlib import pyplot as plt\n",
    "from sklearn.utils import shuffle\n",
    "import seaborn as sns\n",
    "from numpy import genfromtxt"
   ]
  },
  {
   "cell_type": "code",
   "execution_count": 2,
   "metadata": {},
   "outputs": [],
   "source": [
    "def get_data():\n",
    "    input_file = '/Users/niall/Documents/Cypress_Code/Data/Flip_bits/flip_bits_dataset_final.csv'\n",
    "    my_data_flipped = genfromtxt(input_file, delimiter=',')\n",
    "\n",
    "    new_data = np.delete(my_data_flipped, (0), axis=0)\n",
    "    X2 = np.delete(new_data, (0,32), axis=1)\n",
    "    Y2 = new_data[:,32]\n",
    "    X_train, X_test, y_train, y_test = train_test_split(X2, Y2, test_size=0.25, random_state=42, shuffle=True)\n",
    "    X_train = np.array(X_train).reshape((np.shape(X_train)[0], 1, np.shape(X_train)[1]))\n",
    "    X_test = np.array(X_test).reshape((np.shape(X_test)[0], 1, np.shape(X_test)[1]))\n",
    "\n",
    "    return X_train, X_test, y_train, y_test"
   ]
  },
  {
   "cell_type": "code",
   "execution_count": 3,
   "metadata": {},
   "outputs": [],
   "source": [
    "flip_bit_data = get_data()\n",
    "X_train = flip_bit_data[0]\n",
    "X_test = flip_bit_data[1]\n",
    "y_train = flip_bit_data[2]\n",
    "y_test = flip_bit_data[3]"
   ]
  },
  {
   "cell_type": "code",
   "execution_count": 4,
   "metadata": {},
   "outputs": [
    {
     "name": "stdout",
     "output_type": "stream",
     "text": [
      "WARNING:tensorflow:From /Users/niall/opt/anaconda3/envs/DCUML/lib/python3.7/site-packages/tensorflow/python/ops/resource_variable_ops.py:435: colocate_with (from tensorflow.python.framework.ops) is deprecated and will be removed in a future version.\n",
      "Instructions for updating:\n",
      "Colocations handled automatically by placer.\n",
      "WARNING:tensorflow:From /Users/niall/opt/anaconda3/envs/DCUML/lib/python3.7/site-packages/tensorflow/python/keras/layers/core.py:143: calling dropout (from tensorflow.python.ops.nn_ops) with keep_prob is deprecated and will be removed in a future version.\n",
      "Instructions for updating:\n",
      "Please use `rate` instead of `keep_prob`. Rate should be set to `rate = 1 - keep_prob`.\n",
      "_________________________________________________________________\n",
      "Layer (type)                 Output Shape              Param #   \n",
      "=================================================================\n",
      "bidirectional (Bidirectional (None, 1, 62)             15624     \n",
      "_________________________________________________________________\n",
      "bidirectional_1 (Bidirection (None, 1, 62)             23312     \n",
      "_________________________________________________________________\n",
      "global_max_pooling1d (Global (None, 62)                0         \n",
      "_________________________________________________________________\n",
      "dense (Dense)                (None, 16)                1008      \n",
      "_________________________________________________________________\n",
      "dropout (Dropout)            (None, 16)                0         \n",
      "_________________________________________________________________\n",
      "dense_1 (Dense)              (None, 1)                 17        \n",
      "=================================================================\n",
      "Total params: 39,961\n",
      "Trainable params: 39,961\n",
      "Non-trainable params: 0\n",
      "_________________________________________________________________\n"
     ]
    }
   ],
   "source": [
    "num_neurons = 31\n",
    "num_features = 31\n",
    "\n",
    "model_bidir = Sequential()\n",
    "model_bidir.add(Bidirectional(LSTM(num_neurons, return_sequences=True),input_shape=(1, num_features)))\n",
    "model_bidir.add(Bidirectional(LSTM(num_neurons, return_sequences=True),input_shape=(1, num_features)))\n",
    "model_bidir.add(GlobalMaxPooling1D())\n",
    "model_bidir.add(Dense(16, activation='sigmoid'))\n",
    "model_bidir.add(Dropout(0.2))\n",
    "model_bidir.add(Dense(1, activation='sigmoid'))\n",
    "\n",
    "\n",
    "rlrp = ReduceLROnPlateau(monitor='val_loss', factor=0.1, patience=2)\n",
    "model_bidir.compile(loss='binary_crossentropy', optimizer='adam', metrics=['accuracy'])\n",
    "model_bidir.summary()"
   ]
  },
  {
   "cell_type": "code",
   "execution_count": 5,
   "metadata": {},
   "outputs": [
    {
     "name": "stdout",
     "output_type": "stream",
     "text": [
      "Training BLSTM...\n",
      "Train on 450000 samples, validate on 150000 samples\n",
      "WARNING:tensorflow:From /Users/niall/opt/anaconda3/envs/DCUML/lib/python3.7/site-packages/tensorflow/python/ops/math_ops.py:3066: to_int32 (from tensorflow.python.ops.math_ops) is deprecated and will be removed in a future version.\n",
      "Instructions for updating:\n",
      "Use tf.cast instead.\n",
      "WARNING:tensorflow:From /Users/niall/opt/anaconda3/envs/DCUML/lib/python3.7/site-packages/tensorflow/python/ops/math_grad.py:102: div (from tensorflow.python.ops.math_ops) is deprecated and will be removed in a future version.\n",
      "Instructions for updating:\n",
      "Deprecated in favor of operator or tf.math.divide.\n",
      "Epoch 1/5\n",
      "450000/450000 [==============================] - 645s 1ms/sample - loss: 0.0418 - acc: 0.9860 - val_loss: 0.0379 - val_acc: 0.9865\n",
      "Epoch 2/5\n",
      "450000/450000 [==============================] - 550s 1ms/sample - loss: 0.0366 - acc: 0.9877 - val_loss: 0.0360 - val_acc: 0.9876\n",
      "Epoch 3/5\n",
      "450000/450000 [==============================] - 541s 1ms/sample - loss: 0.0355 - acc: 0.9879 - val_loss: 0.0344 - val_acc: 0.9878\n",
      "Epoch 4/5\n",
      "450000/450000 [==============================] - 531s 1ms/sample - loss: 0.0350 - acc: 0.9881 - val_loss: 0.0348 - val_acc: 0.9875\n",
      "Epoch 5/5\n",
      "450000/450000 [==============================] - 550s 1ms/sample - loss: 0.0348 - acc: 0.9880 - val_loss: 0.0362 - val_acc: 0.9876\n"
     ]
    }
   ],
   "source": [
    "print('Training BLSTM...')\n",
    "\n",
    "batch_size = 5\n",
    "\n",
    "history_one_blstm = model_bidir.fit(X_train, y_train, \n",
    "                                      batch_size=batch_size,\n",
    "                                      epochs=5,\n",
    "                                      validation_data=(X_test, y_test), \n",
    "                                      callbacks=[rlrp] ,verbose=1)"
   ]
  },
  {
   "cell_type": "code",
   "execution_count": 6,
   "metadata": {},
   "outputs": [
    {
     "name": "stdout",
     "output_type": "stream",
     "text": [
      "Saved model to disc\n"
     ]
    }
   ],
   "source": [
    "# Let's save the model to disc\n",
    "json = model_bidir.to_json()\n",
    "with open(\"/Users/niall/Documents/Cypress_Code/Models/BLSTM/Flip_bits/model_one_blstm.json\", \"w\") as file:\n",
    "    file.write(json)\n",
    "model_bidir.save_weights(\"/Users/niall/Documents/Cypress_Code/Models/BLSTM/Flip_bits/model_one_blstm.h5\")\n",
    "print(\"Saved model to disc\")"
   ]
  },
  {
   "cell_type": "code",
   "execution_count": 4,
   "metadata": {},
   "outputs": [
    {
     "name": "stdout",
     "output_type": "stream",
     "text": [
      "WARNING:tensorflow:From /Users/niall/opt/anaconda3/envs/DCUML/lib/python3.7/site-packages/tensorflow/python/ops/resource_variable_ops.py:435: colocate_with (from tensorflow.python.framework.ops) is deprecated and will be removed in a future version.\n",
      "Instructions for updating:\n",
      "Colocations handled automatically by placer.\n",
      "WARNING:tensorflow:From /Users/niall/opt/anaconda3/envs/DCUML/lib/python3.7/site-packages/tensorflow/python/keras/layers/core.py:143: calling dropout (from tensorflow.python.ops.nn_ops) with keep_prob is deprecated and will be removed in a future version.\n",
      "Instructions for updating:\n",
      "Please use `rate` instead of `keep_prob`. Rate should be set to `rate = 1 - keep_prob`.\n"
     ]
    }
   ],
   "source": [
    "# Load the model of interest\n",
    "json_file = open('/Users/niall/Documents/Cypress_Code/Models/BLSTM/Flip_bits/model_one_blstm.json', 'r')\n",
    "json = json_file.read()\n",
    "json_file.close()\n",
    "model_avg_from_disc = model_from_json(json)\n",
    "model_avg_from_disc.load_weights(\"/Users/niall/Documents/Cypress_Code/Models/BLSTM/Flip_bits/model_one_blstm.h5\")"
   ]
  },
  {
   "cell_type": "code",
   "execution_count": 8,
   "metadata": {},
   "outputs": [],
   "source": [
    "y_preds_blstm_minus = model_avg_from_disc.predict(X_test, batch_size=1)"
   ]
  },
  {
   "cell_type": "code",
   "execution_count": 9,
   "metadata": {},
   "outputs": [],
   "source": [
    "pred_avg = pd.DataFrame(y_preds_blstm_minus, columns =['Y_pred']) \n",
    "pred_avg['Label'] = y_test"
   ]
  },
  {
   "cell_type": "code",
   "execution_count": 10,
   "metadata": {},
   "outputs": [],
   "source": [
    "pred_avg.to_csv('/Users/niall/Documents/Cypress_Code/Predictions/BLSTM/Flip_bits/model_one_blstm.csv', index = False)"
   ]
  },
  {
   "cell_type": "code",
   "execution_count": 6,
   "metadata": {},
   "outputs": [
    {
     "name": "stdout",
     "output_type": "stream",
     "text": [
      "Best Threshold=0.401411, G-Mean=0.987\n"
     ]
    }
   ],
   "source": [
    "yhat = model_avg_from_disc.predict_proba(X_test)\n",
    "fpr, tpr, thresholds = roc_curve(y_test, yhat)\n",
    "gmeans = sqrt(tpr * (1-fpr))\n",
    "ix = argmax(gmeans)\n",
    "print('Best Threshold=%f, G-Mean=%.3f' % (thresholds[ix], gmeans[ix]))"
   ]
  },
  {
   "cell_type": "code",
   "execution_count": 16,
   "metadata": {},
   "outputs": [
    {
     "data": {
      "image/png": "[encoded data removed]",
      "text/plain": [
       "<Figure size 432x288 with 1 Axes>"
      ]
     },
     "metadata": {
      "needs_background": "light"
     },
     "output_type": "display_data"
    }
   ],
   "source": [
    "# plot the roc curve for the model\n",
    "plt.plot([0,1], [0,1], linestyle='--', label='Baseline')\n",
    "plt.plot(fpr, tpr, marker='.', label='BLSTM')\n",
    "plt.scatter(fpr[ix], tpr[ix], marker='o', color='black', label='Best')\n",
    "# axis labels\n",
    "plt.xlabel('False Positive Rate')\n",
    "plt.ylabel('True Positive Rate')\n",
    "plt.legend()\n",
    "# show the plot\n",
    "plt.savefig('/Users/niall/Documents/Cypress_Code/Plots/Matlab_flip_bits/BLSTM_ROC.png')\n",
    "plt.show()"
   ]
  },
  {
   "cell_type": "code",
   "execution_count": 7,
   "metadata": {},
   "outputs": [
    {
     "name": "stdout",
     "output_type": "stream",
     "text": [
      "ROC AUC=0.999\n"
     ]
    }
   ],
   "source": [
    "auc = roc_auc_score(y_test, yhat)\n",
    "print('ROC AUC=%.3f' % (auc))"
   ]
  },
  {
   "cell_type": "code",
   "execution_count": 5,
   "metadata": {},
   "outputs": [
    {
     "name": "stdout",
     "output_type": "stream",
     "text": [
      "F1-score:  0.9814574559390032\n",
      "Precision:  0.9830271286059855\n",
      "Recall:  0.9798927881070525\n",
      "Acuracy:  0.9876133333333333\n",
      "--------------------------------------------------\n",
      "              precision    recall  f1-score   support\n",
      "\n",
      "           0       0.99      0.99      0.99     99819\n",
      "           1       0.98      0.98      0.98     50181\n",
      "\n",
      "    accuracy                           0.99    150000\n",
      "   macro avg       0.99      0.99      0.99    150000\n",
      "weighted avg       0.99      0.99      0.99    150000\n",
      "\n"
     ]
    }
   ],
   "source": [
    "def metrics(pred_tag, y_test):\n",
    "    print(\"F1-score: \", f1_score(pred_tag, y_test))\n",
    "    print(\"Precision: \", precision_score(pred_tag, y_test))\n",
    "    print(\"Recall: \", recall_score(pred_tag, y_test))\n",
    "    print(\"Acuracy: \", accuracy_score(pred_tag, y_test))\n",
    "    print(\"-\"*50)\n",
    "    print(classification_report(pred_tag, y_test))\n",
    "    \n",
    "yhat_new = model_avg_from_disc.predict_classes(X_test)\n",
    "metrics(yhat_new, y_test)"
   ]
  }
 ],
 "metadata": {
  "kernelspec": {
   "display_name": "DCUML",
   "language": "python",
   "name": "dcuml"
  },
  "language_info": {
   "codemirror_mode": {
    "name": "ipython",
    "version": 3
   },
   "file_extension": ".py",
   "mimetype": "text/x-python",
   "name": "python",
   "nbconvert_exporter": "python",
   "pygments_lexer": "ipython3",
   "version": "3.7.7"
  }
 },
 "nbformat": 4,
 "nbformat_minor": 4
}
