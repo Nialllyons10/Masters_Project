{
 "cells": [
  {
   "cell_type": "code",
   "execution_count": 11,
   "metadata": {},
   "outputs": [],
   "source": [
    "import numpy as np\n",
    "import pandas as pd\n",
    "import tensorflow as tf\n",
    "from tensorflow import keras\n",
    "from tensorflow.keras.models import Sequential, model_from_json\n",
    "from tensorflow.keras.preprocessing import sequence\n",
    "from tensorflow.keras.optimizers import SGD\n",
    "from tensorflow.keras.callbacks import ReduceLROnPlateau \n",
    "from tensorflow.keras.layers import Dense, Dropout, LSTM,Conv1D, TimeDistributed, Flatten, SpatialDropout1D, GlobalAveragePooling1D, SimpleRNN, MaxPooling1D, GlobalMaxPooling1D, Bidirectional\n",
    "from sklearn.model_selection import train_test_split\n",
    "from sklearn.metrics import roc_curve, f1_score, recall_score, accuracy_score, roc_auc_score, confusion_matrix, precision_score, classification_report\n",
    "from numpy import sqrt\n",
    "from numpy import argmax\n",
    "from matplotlib import pyplot as plt\n",
    "from sklearn.utils import shuffle\n",
    "import seaborn as sns\n",
    "from numpy import genfromtxt"
   ]
  },
  {
   "cell_type": "markdown",
   "metadata": {},
   "source": [
    "## Load Data"
   ]
  },
  {
   "cell_type": "code",
   "execution_count": 12,
   "metadata": {},
   "outputs": [],
   "source": [
    "def get_data():\n",
    "    input_file = '/Users/niall/Documents/Cypress_Code/Data/AWGN/noise_data_awgn_snr_minusfive_final_large_big_new1.csv'\n",
    "    my_data_flipped = genfromtxt(input_file, delimiter=',')\n",
    "\n",
    "    new_data = np.delete(my_data_flipped, (0), axis=0)\n",
    "    X2 = np.delete(new_data, (0,32), axis=1)\n",
    "    Y2 = new_data[:,32]\n",
    "    X_train, X_test, y_train, y_test = train_test_split(X2, Y2, test_size=0.25, random_state=42, shuffle=True)\n",
    "    X_train = np.array(X_train).reshape((np.shape(X_train)[0], 1, np.shape(X_train)[1]))\n",
    "    X_test = np.array(X_test).reshape((np.shape(X_test)[0], 1, np.shape(X_test)[1]))\n",
    "\n",
    "    return X_train, X_test, y_train, y_test"
   ]
  },
  {
   "cell_type": "code",
   "execution_count": 13,
   "metadata": {},
   "outputs": [],
   "source": [
    "flip_bit_data = get_data()"
   ]
  },
  {
   "cell_type": "code",
   "execution_count": 14,
   "metadata": {},
   "outputs": [],
   "source": [
    "X_train = flip_bit_data[0]\n",
    "X_test = flip_bit_data[1]\n",
    "y_train = flip_bit_data[2]\n",
    "y_test = flip_bit_data[3]"
   ]
  },
  {
   "cell_type": "markdown",
   "metadata": {},
   "source": [
    "## Build BLSTM"
   ]
  },
  {
   "cell_type": "code",
   "execution_count": 12,
   "metadata": {},
   "outputs": [
    {
     "name": "stdout",
     "output_type": "stream",
     "text": [
      "_________________________________________________________________\n",
      "Layer (type)                 Output Shape              Param #   \n",
      "=================================================================\n",
      "bidirectional_10 (Bidirectio (None, 1, 62)             15624     \n",
      "_________________________________________________________________\n",
      "bidirectional_11 (Bidirectio (None, 1, 62)             23312     \n",
      "_________________________________________________________________\n",
      "global_max_pooling1d_6 (Glob (None, 62)                0         \n",
      "_________________________________________________________________\n",
      "dense_7 (Dense)              (None, 16)                1008      \n",
      "_________________________________________________________________\n",
      "dropout_2 (Dropout)          (None, 16)                0         \n",
      "_________________________________________________________________\n",
      "dense_8 (Dense)              (None, 1)                 17        \n",
      "=================================================================\n",
      "Total params: 39,961\n",
      "Trainable params: 39,961\n",
      "Non-trainable params: 0\n",
      "_________________________________________________________________\n"
     ]
    }
   ],
   "source": [
    "num_neurons = 31\n",
    "num_features = 31\n",
    "\n",
    "model_bidir = Sequential()\n",
    "model_bidir.add(Bidirectional(LSTM(num_neurons, return_sequences=True),input_shape=(1, num_features)))\n",
    "model_bidir.add(Bidirectional(LSTM(num_neurons, return_sequences=True),input_shape=(1, num_features)))\n",
    "model_bidir.add(GlobalMaxPooling1D())\n",
    "model_bidir.add(Dense(16, activation='sigmoid'))\n",
    "model_bidir.add(Dropout(0.2))\n",
    "model_bidir.add(Dense(1, activation='sigmoid'))\n",
    "\n",
    "\n",
    "rlrp = ReduceLROnPlateau(monitor='val_loss', factor=0.1, patience=2)\n",
    "model_bidir.compile(loss='binary_crossentropy', optimizer='adam', metrics=['accuracy'])\n",
    "model_bidir.summary()"
   ]
  },
  {
   "cell_type": "code",
   "execution_count": 13,
   "metadata": {},
   "outputs": [
    {
     "name": "stdout",
     "output_type": "stream",
     "text": [
      "Training BLSTM...\n",
      "Train on 690000 samples, validate on 230000 samples\n",
      "Epoch 1/5\n",
      "690000/690000 [==============================] - 1248s 2ms/sample - loss: 0.1468 - acc: 0.9451 - val_loss: 0.1378 - val_acc: 0.9470\n",
      "Epoch 2/5\n",
      "690000/690000 [==============================] - 936s 1ms/sample - loss: 0.1404 - acc: 0.9474 - val_loss: 0.1363 - val_acc: 0.9475\n",
      "Epoch 3/5\n",
      "690000/690000 [==============================] - 1531s 2ms/sample - loss: 0.1380 - acc: 0.9480 - val_loss: 0.1363 - val_acc: 0.9475\n",
      "Epoch 4/5\n",
      "690000/690000 [==============================] - 1511s 2ms/sample - loss: 0.1370 - acc: 0.9485 - val_loss: 0.1363 - val_acc: 0.9478\n",
      "Epoch 5/5\n",
      "690000/690000 [==============================] - 1461s 2ms/sample - loss: 0.1311 - acc: 0.9503 - val_loss: 0.1360 - val_acc: 0.9481\n"
     ]
    }
   ],
   "source": [
    "print('Training BLSTM...')\n",
    "\n",
    "batch_size = 5\n",
    "\n",
    "history_one_blstm = model_bidir.fit(X_train, y_train, \n",
    "                                      batch_size=batch_size,\n",
    "                                      epochs=5,\n",
    "                                      validation_data=(X_test, y_test), \n",
    "                                      callbacks=[rlrp] ,verbose=1)"
   ]
  },
  {
   "cell_type": "code",
   "execution_count": 14,
   "metadata": {},
   "outputs": [
    {
     "name": "stdout",
     "output_type": "stream",
     "text": [
      "230000/230000 [==============================] - 21s 89us/sample - loss: 0.1360 - acc: 0.9481\n",
      "Test Loss:  0.13595275328684112\n",
      "Test Accuracy 0.94813913\n",
      "dict_keys(['loss', 'acc', 'val_loss', 'val_acc', 'lr'])\n"
     ]
    },
    {
     "data": {
      "image/png": "[encoded data removed]",
      "text/plain": [
       "<Figure size 432x288 with 1 Axes>"
      ]
     },
     "metadata": {
      "needs_background": "light"
     },
     "output_type": "display_data"
    },
    {
     "data": {
      "image/png": "[encoded data removed]",
      "text/plain": [
       "<Figure size 432x288 with 1 Axes>"
      ]
     },
     "metadata": {
      "needs_background": "light"
     },
     "output_type": "display_data"
    }
   ],
   "source": [
    "score = model_bidir.evaluate(X_test, y_test)\n",
    "print('Test Loss: ', score[0])\n",
    "print('Test Accuracy', score[1])\n",
    "\n",
    "\n",
    "# list all data in history\n",
    "print(history_one_blstm.history.keys())\n",
    "# summarize history for accuracy\n",
    "plt.plot(history_one_blstm.history['acc'])\n",
    "plt.plot(history_one_blstm.history['val_acc'])\n",
    "plt.title('Model Accuracy')\n",
    "plt.ylabel('accuracy')\n",
    "plt.xlabel('epoch')\n",
    "plt.legend(['train', 'test'], loc='upper left')\n",
    "plt.show()\n",
    "# summarize history for loss\n",
    "plt.plot(history_one_blstm.history['loss'])\n",
    "plt.plot(history_one_blstm.history['val_loss'])\n",
    "plt.title('Model Loss')\n",
    "plt.ylabel('loss')\n",
    "plt.xlabel('epoch')\n",
    "plt.legend(['train', 'test'], loc='upper left')\n",
    "plt.show()"
   ]
  },
  {
   "cell_type": "code",
   "execution_count": 15,
   "metadata": {},
   "outputs": [
    {
     "name": "stdout",
     "output_type": "stream",
     "text": [
      "Saved model to disc\n"
     ]
    }
   ],
   "source": [
    "# Let's save the model to disc\n",
    "json = model_bidir.to_json()\n",
    "with open(\"/Users/niall/Documents/Cypress_Code/Models/BLSTM/AWGN/model_one_blstm_snr_minus5.json\", \"w\") as file:\n",
    "    file.write(json)\n",
    "model_bidir.save_weights(\"/Users/niall/Documents/Cypress_Code/Models/BLSTM/AWGN/model_one_blstm_snr_minus5.h5\")\n",
    "print(\"Saved model to disc\")"
   ]
  },
  {
   "cell_type": "code",
   "execution_count": 15,
   "metadata": {},
   "outputs": [],
   "source": [
    "# Load the model of interest\n",
    "json_file = open('/Users/niall/Documents/Cypress_Code/Models/BLSTM/AWGN/model_one_blstm_snr_minus5.json', 'r')\n",
    "json = json_file.read()\n",
    "json_file.close()\n",
    "model_avg_from_disc = model_from_json(json)\n",
    "model_avg_from_disc.load_weights(\"/Users/niall/Documents/Cypress_Code/Models/BLSTM/AWGN/model_one_blstm_snr_minus5.h5\")"
   ]
  },
  {
   "cell_type": "code",
   "execution_count": 17,
   "metadata": {},
   "outputs": [],
   "source": [
    "y_preds_blstm_minus = model_avg_from_disc.predict(X_test, batch_size=1)"
   ]
  },
  {
   "cell_type": "code",
   "execution_count": 18,
   "metadata": {},
   "outputs": [],
   "source": [
    "pred_avg = pd.DataFrame(y_preds_blstm_minus, columns =['Y_pred']) \n",
    "pred_avg['Label'] = y_test"
   ]
  },
  {
   "cell_type": "code",
   "execution_count": 19,
   "metadata": {},
   "outputs": [],
   "source": [
    "pred_avg.to_csv('/Users/niall/Documents/Cypress_Code/Predictions/BLSTM/AWGN/model_one_blstm_snr_minus5.csv', index = False)"
   ]
  },
  {
   "cell_type": "code",
   "execution_count": 6,
   "metadata": {},
   "outputs": [
    {
     "name": "stdout",
     "output_type": "stream",
     "text": [
      "Best Threshold=0.503823, G-Mean=0.948\n"
     ]
    }
   ],
   "source": [
    "yhat = model_avg_from_disc.predict_proba(X_test)\n",
    "fpr, tpr, thresholds = roc_curve(y_test, yhat)\n",
    "gmeans = sqrt(tpr * (1-fpr))\n",
    "ix = argmax(gmeans)\n",
    "print('Best Threshold=%f, G-Mean=%.3f' % (thresholds[ix], gmeans[ix]))"
   ]
  },
  {
   "cell_type": "code",
   "execution_count": 7,
   "metadata": {},
   "outputs": [
    {
     "data": {
      "image/png": "[encoded data removed]",
      "text/plain": [
       "<Figure size 432x288 with 1 Axes>"
      ]
     },
     "metadata": {
      "needs_background": "light"
     },
     "output_type": "display_data"
    }
   ],
   "source": [
    "# plot the roc curve for the model\n",
    "plt.plot([0,1], [0,1], linestyle='--', label='Baseline')\n",
    "plt.plot(fpr, tpr, marker='.', label='BLSTM')\n",
    "plt.scatter(fpr[ix], tpr[ix], marker='o', color='black', label='Best')\n",
    "# axis labels\n",
    "plt.xlabel('False Positive Rate')\n",
    "plt.ylabel('True Positive Rate')\n",
    "plt.legend()\n",
    "# show the plot\n",
    "plt.savefig('/Users/niall/Documents/Cypress_Code/Plots/Matlab_awgn/BLSTM_ROC.png')\n",
    "plt.show()"
   ]
  },
  {
   "cell_type": "code",
   "execution_count": 9,
   "metadata": {},
   "outputs": [
    {
     "name": "stdout",
     "output_type": "stream",
     "text": [
      "ROC AUC=0.989\n"
     ]
    }
   ],
   "source": [
    "auc = roc_auc_score(y_test, yhat)\n",
    "print('ROC AUC=%.3f' % (auc))"
   ]
  },
  {
   "cell_type": "code",
   "execution_count": 16,
   "metadata": {},
   "outputs": [
    {
     "name": "stdout",
     "output_type": "stream",
     "text": [
      "F1-score:  0.9471515538187522\n",
      "Precision:  0.9505629368763673\n",
      "Recall:  0.9437645687645687\n",
      "Acuracy:  0.9481391304347826\n",
      "--------------------------------------------------\n",
      "              precision    recall  f1-score   support\n",
      "\n",
      "           0       0.95      0.95      0.95    116744\n",
      "           1       0.95      0.94      0.95    113256\n",
      "\n",
      "    accuracy                           0.95    230000\n",
      "   macro avg       0.95      0.95      0.95    230000\n",
      "weighted avg       0.95      0.95      0.95    230000\n",
      "\n"
     ]
    }
   ],
   "source": [
    "def metrics(pred_tag, y_test):\n",
    "    print(\"F1-score: \", f1_score(pred_tag, y_test))\n",
    "    print(\"Precision: \", precision_score(pred_tag, y_test))\n",
    "    print(\"Recall: \", recall_score(pred_tag, y_test))\n",
    "    print(\"Acuracy: \", accuracy_score(pred_tag, y_test))\n",
    "    print(\"-\"*50)\n",
    "    print(classification_report(pred_tag, y_test))\n",
    "    \n",
    "preds_new = model_avg_from_disc.predict_classes(X_test)\n",
    "metrics(preds_new, y_test)"
   ]
  },
  {
   "cell_type": "markdown",
   "metadata": {},
   "source": [
    "## Checking best activation function"
   ]
  },
  {
   "cell_type": "code",
   "execution_count": 26,
   "metadata": {},
   "outputs": [
    {
     "name": "stdout",
     "output_type": "stream",
     "text": [
      "Train on 225000 samples, validate on 75000 samples\n",
      "Epoch 1/5\n",
      "225000/225000 [==============================] - 166s 737us/sample - loss: 0.6208 - acc: 0.6832 - val_loss: 0.6344 - val_acc: 0.7144\n",
      "Epoch 2/5\n",
      "225000/225000 [==============================] - 164s 731us/sample - loss: 0.5778 - acc: 0.7160 - val_loss: 0.5632 - val_acc: 0.7202\n",
      "Epoch 3/5\n",
      "225000/225000 [==============================] - 205s 910us/sample - loss: 0.5750 - acc: 0.7221 - val_loss: 0.5832 - val_acc: 0.7232\n",
      "Epoch 4/5\n",
      "225000/225000 [==============================] - 195s 869us/sample - loss: 0.5735 - acc: 0.7250 - val_loss: 0.5722 - val_acc: 0.7227\n",
      "Epoch 5/5\n",
      "225000/225000 [==============================] - 193s 859us/sample - loss: 0.5756 - acc: 0.7274 - val_loss: 0.5777 - val_acc: 0.7222\n",
      "Train on 225000 samples, validate on 75000 samples\n",
      "Epoch 1/5\n",
      "225000/225000 [==============================] - 178s 793us/sample - loss: 0.5712 - acc: 0.7035 - val_loss: 0.5354 - val_acc: 0.7340\n",
      "Epoch 2/5\n",
      "225000/225000 [==============================] - 169s 749us/sample - loss: 0.5301 - acc: 0.7388 - val_loss: 0.5283 - val_acc: 0.7401\n",
      "Epoch 3/5\n",
      "225000/225000 [==============================] - 168s 748us/sample - loss: 0.5215 - acc: 0.7450 - val_loss: 0.5264 - val_acc: 0.7406: 0. - ETA: 6s - - ETA: 5s - loss: 0.521 - ETA:  - ETA: 3 - ETA: 1\n",
      "Epoch 4/5\n",
      "225000/225000 [==============================] - 171s 760us/sample - loss: 0.5175 - acc: 0.7491 - val_loss: 0.5289 - val_acc: 0.7397\n",
      "Epoch 5/5\n",
      "225000/225000 [==============================] - 174s 773us/sample - loss: 0.5141 - acc: 0.7509 - val_loss: 0.5279 - val_acc: 0.7399\n",
      "Train on 225000 samples, validate on 75000 samples\n",
      "Epoch 1/5\n",
      "225000/225000 [==============================] - 210s 934us/sample - loss: 0.6457 - acc: 0.6629 - val_loss: 0.5721 - val_acc: 0.7025\n",
      "Epoch 2/5\n",
      "225000/225000 [==============================] - 218s 967us/sample - loss: 0.5720 - acc: 0.7149 - val_loss: 0.5495 - val_acc: 0.7238\n",
      "Epoch 3/5\n",
      "225000/225000 [==============================] - 213s 946us/sample - loss: 0.5584 - acc: 0.7305 - val_loss: 0.5536 - val_acc: 0.7299\n",
      "Epoch 4/5\n",
      "225000/225000 [==============================] - 218s 967us/sample - loss: 0.5506 - acc: 0.7387 - val_loss: 0.5425 - val_acc: 0.7314\n",
      "Epoch 5/5\n",
      "225000/225000 [==============================] - 205s 911us/sample - loss: 0.5451 - acc: 0.7420 - val_loss: 0.5404 - val_acc: 0.7314\n",
      "Train on 225000 samples, validate on 75000 samples\n",
      "Epoch 1/5\n",
      "225000/225000 [==============================] - 226s 1ms/sample - loss: 0.6084 - acc: 0.6889 - val_loss: 0.5578 - val_acc: 0.7207\n",
      "Epoch 2/5\n",
      "225000/225000 [==============================] - 210s 932us/sample - loss: 0.5646 - acc: 0.7210 - val_loss: 0.5465 - val_acc: 0.7314\n",
      "Epoch 3/5\n",
      "225000/225000 [==============================] - 259s 1ms/sample - loss: 0.5564 - acc: 0.7299 - val_loss: 0.5415 - val_acc: 0.7351\n",
      "Epoch 4/5\n",
      "225000/225000 [==============================] - 209s 931us/sample - loss: 0.5525 - acc: 0.7321 - val_loss: 0.5414 - val_acc: 0.7321\n",
      "Epoch 5/5\n",
      "225000/225000 [==============================] - 215s 955us/sample - loss: 0.5515 - acc: 0.7321 - val_loss: 0.5457 - val_acc: 0.7251\n"
     ]
    },
    {
     "data": {
      "text/plain": [
       "<matplotlib.legend.Legend at 0x7f8b5e290ad0>"
      ]
     },
     "execution_count": 26,
     "metadata": {},
     "output_type": "execute_result"
    },
    {
     "data": {
      "image/png": "[encoded data removed]",
      "text/plain": [
       "<Figure size 432x288 with 1 Axes>"
      ]
     },
     "metadata": {
      "needs_background": "light"
     },
     "output_type": "display_data"
    }
   ],
   "source": [
    "for activation in [None, 'sigmoid', 'tanh', 'relu']:\n",
    "    model_bidir = Sequential()\n",
    "    model_bidir.add(Bidirectional(LSTM(num_neurons, return_sequences=True),input_shape=(1, num_features)))\n",
    "    model_bidir.add(GlobalMaxPooling1D())\n",
    "    model_bidir.add(Dense(16, activation=activation))\n",
    "    model_bidir.add(Dropout(0.2))\n",
    "    model_bidir.add(Dense(1, activation=activation))\n",
    "    rlrp = ReduceLROnPlateau(monitor='val_loss', factor=0.1, patience=2)\n",
    "    model_bidir.compile(loss='binary_crossentropy', optimizer='adam', metrics=['accuracy'])\n",
    "\n",
    "    history = model_bidir.fit(X_train, y_train,\n",
    "                    batch_size=batch_size,\n",
    "                    epochs=5,\n",
    "                    validation_data=(X_test, y_test))\n",
    "    \n",
    "    plt.plot(history.history['val_acc'])\n",
    "\n",
    "plt.title('Model Loss')\n",
    "plt.ylabel('Loss')\n",
    "plt.xlabel('Epoch')\n",
    "plt.legend(['None', 'Sigmoid', 'Tanh', 'Relu'], loc='upper left')"
   ]
  }
 ],
 "metadata": {
  "kernelspec": {
   "display_name": "DCUML",
   "language": "python",
   "name": "dcuml"
  },
  "language_info": {
   "codemirror_mode": {
    "name": "ipython",
    "version": 3
   },
   "file_extension": ".py",
   "mimetype": "text/x-python",
   "name": "python",
   "nbconvert_exporter": "python",
   "pygments_lexer": "ipython3",
   "version": "3.7.7"
  }
 },
 "nbformat": 4,
 "nbformat_minor": 4
}
